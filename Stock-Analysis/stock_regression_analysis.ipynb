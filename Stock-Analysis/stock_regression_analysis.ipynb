{
 "cells": [
  {
   "cell_type": "code",
   "execution_count": 16,
   "metadata": {},
   "outputs": [],
   "source": [
    "import numpy as np\n",
    "import pandas as pd\n",
    "from pathlib import Path\n",
    "%matplotlib inline"
   ]
  },
  {
   "cell_type": "code",
   "execution_count": 17,
   "metadata": {},
   "outputs": [
    {
     "data": {
      "text/html": [
       "<div>\n",
       "<style scoped>\n",
       "    .dataframe tbody tr th:only-of-type {\n",
       "        vertical-align: middle;\n",
       "    }\n",
       "\n",
       "    .dataframe tbody tr th {\n",
       "        vertical-align: top;\n",
       "    }\n",
       "\n",
       "    .dataframe thead th {\n",
       "        text-align: right;\n",
       "    }\n",
       "</style>\n",
       "<table border=\"1\" class=\"dataframe\">\n",
       "  <thead>\n",
       "    <tr style=\"text-align: right;\">\n",
       "      <th></th>\n",
       "      <th>AMZN</th>\n",
       "      <th>AAPL</th>\n",
       "      <th>NFLX</th>\n",
       "    </tr>\n",
       "    <tr>\n",
       "      <th>date</th>\n",
       "      <th></th>\n",
       "      <th></th>\n",
       "      <th></th>\n",
       "    </tr>\n",
       "  </thead>\n",
       "  <tbody>\n",
       "    <tr>\n",
       "      <th>2016-04-04</th>\n",
       "      <td>593.190002</td>\n",
       "      <td>25.877037</td>\n",
       "      <td>104.349998</td>\n",
       "    </tr>\n",
       "    <tr>\n",
       "      <th>2016-04-05</th>\n",
       "      <td>586.140015</td>\n",
       "      <td>25.571972</td>\n",
       "      <td>104.940002</td>\n",
       "    </tr>\n",
       "    <tr>\n",
       "      <th>2016-04-06</th>\n",
       "      <td>602.080017</td>\n",
       "      <td>25.839775</td>\n",
       "      <td>104.830002</td>\n",
       "    </tr>\n",
       "    <tr>\n",
       "      <th>2016-04-07</th>\n",
       "      <td>591.429993</td>\n",
       "      <td>25.276215</td>\n",
       "      <td>104.449997</td>\n",
       "    </tr>\n",
       "    <tr>\n",
       "      <th>2016-04-08</th>\n",
       "      <td>594.599976</td>\n",
       "      <td>25.304159</td>\n",
       "      <td>103.809998</td>\n",
       "    </tr>\n",
       "  </tbody>\n",
       "</table>\n",
       "</div>"
      ],
      "text/plain": [
       "                  AMZN       AAPL        NFLX\n",
       "date                                         \n",
       "2016-04-04  593.190002  25.877037  104.349998\n",
       "2016-04-05  586.140015  25.571972  104.940002\n",
       "2016-04-06  602.080017  25.839775  104.830002\n",
       "2016-04-07  591.429993  25.276215  104.449997\n",
       "2016-04-08  594.599976  25.304159  103.809998"
      ]
     },
     "execution_count": 17,
     "metadata": {},
     "output_type": "execute_result"
    }
   ],
   "source": [
    "# display 2016_stock_data.csv as dataframe\n",
    "stock_df = pd.read_csv(\n",
    "    Path(\"2016_stock_data.csv\"), index_col=\"date\", infer_datetime_format=True, parse_dates=True)\n",
    "stock_df.head()"
   ]
  },
  {
   "cell_type": "code",
   "execution_count": 18,
   "metadata": {},
   "outputs": [
    {
     "data": {
      "text/html": [
       "<div>\n",
       "<style scoped>\n",
       "    .dataframe tbody tr th:only-of-type {\n",
       "        vertical-align: middle;\n",
       "    }\n",
       "\n",
       "    .dataframe tbody tr th {\n",
       "        vertical-align: top;\n",
       "    }\n",
       "\n",
       "    .dataframe thead th {\n",
       "        text-align: right;\n",
       "    }\n",
       "</style>\n",
       "<table border=\"1\" class=\"dataframe\">\n",
       "  <thead>\n",
       "    <tr style=\"text-align: right;\">\n",
       "      <th></th>\n",
       "      <th>AMZN</th>\n",
       "      <th>Return</th>\n",
       "    </tr>\n",
       "    <tr>\n",
       "      <th>date</th>\n",
       "      <th></th>\n",
       "      <th></th>\n",
       "    </tr>\n",
       "  </thead>\n",
       "  <tbody>\n",
       "    <tr>\n",
       "      <th>2016-06-08</th>\n",
       "      <td>726.640015</td>\n",
       "      <td>0.400700</td>\n",
       "    </tr>\n",
       "    <tr>\n",
       "      <th>2016-06-09</th>\n",
       "      <td>727.650024</td>\n",
       "      <td>0.138997</td>\n",
       "    </tr>\n",
       "    <tr>\n",
       "      <th>2016-06-10</th>\n",
       "      <td>717.909973</td>\n",
       "      <td>-1.338563</td>\n",
       "    </tr>\n",
       "    <tr>\n",
       "      <th>2016-06-13</th>\n",
       "      <td>715.239990</td>\n",
       "      <td>-0.371911</td>\n",
       "    </tr>\n",
       "    <tr>\n",
       "      <th>2016-06-14</th>\n",
       "      <td>719.299988</td>\n",
       "      <td>0.567641</td>\n",
       "    </tr>\n",
       "  </tbody>\n",
       "</table>\n",
       "</div>"
      ],
      "text/plain": [
       "                  AMZN    Return\n",
       "date                            \n",
       "2016-06-08  726.640015  0.400700\n",
       "2016-06-09  727.650024  0.138997\n",
       "2016-06-10  717.909973 -1.338563\n",
       "2016-06-13  715.239990 -0.371911\n",
       "2016-06-14  719.299988  0.567641"
      ]
     },
     "execution_count": 18,
     "metadata": {},
     "output_type": "execute_result"
    }
   ],
   "source": [
    "# Create a series using \"Price\" percentage returns, drop any nan\"s, and check the results:\n",
    "amzn_df = stock_df.loc[:,[\"AMZN\"]]\n",
    "amzn_daily_returns = stock_df.AMZN.pct_change() * 100\n",
    "amzn_df[\"Return\"] = amzn_daily_returns\n",
    "amzn_df = amzn_df.replace(-np.inf, np.nan).dropna()\n",
    "amzn_df.to_csv(r'../Merged_data/amzn_returns.csv', index = True)\n",
    "amzn_df.tail()"
   ]
  },
  {
   "cell_type": "code",
   "execution_count": 19,
   "metadata": {},
   "outputs": [
    {
     "data": {
      "text/html": [
       "<div>\n",
       "<style scoped>\n",
       "    .dataframe tbody tr th:only-of-type {\n",
       "        vertical-align: middle;\n",
       "    }\n",
       "\n",
       "    .dataframe tbody tr th {\n",
       "        vertical-align: top;\n",
       "    }\n",
       "\n",
       "    .dataframe thead th {\n",
       "        text-align: right;\n",
       "    }\n",
       "</style>\n",
       "<table border=\"1\" class=\"dataframe\">\n",
       "  <thead>\n",
       "    <tr style=\"text-align: right;\">\n",
       "      <th></th>\n",
       "      <th>AMZN</th>\n",
       "      <th>Return</th>\n",
       "      <th>Lagged Return</th>\n",
       "    </tr>\n",
       "    <tr>\n",
       "      <th>date</th>\n",
       "      <th></th>\n",
       "      <th></th>\n",
       "      <th></th>\n",
       "    </tr>\n",
       "  </thead>\n",
       "  <tbody>\n",
       "    <tr>\n",
       "      <th>2016-06-08</th>\n",
       "      <td>726.640015</td>\n",
       "      <td>0.400700</td>\n",
       "      <td>-0.411431</td>\n",
       "    </tr>\n",
       "    <tr>\n",
       "      <th>2016-06-09</th>\n",
       "      <td>727.650024</td>\n",
       "      <td>0.138997</td>\n",
       "      <td>0.400700</td>\n",
       "    </tr>\n",
       "    <tr>\n",
       "      <th>2016-06-10</th>\n",
       "      <td>717.909973</td>\n",
       "      <td>-1.338563</td>\n",
       "      <td>0.138997</td>\n",
       "    </tr>\n",
       "    <tr>\n",
       "      <th>2016-06-13</th>\n",
       "      <td>715.239990</td>\n",
       "      <td>-0.371911</td>\n",
       "      <td>-1.338563</td>\n",
       "    </tr>\n",
       "    <tr>\n",
       "      <th>2016-06-14</th>\n",
       "      <td>719.299988</td>\n",
       "      <td>0.567641</td>\n",
       "      <td>-0.371911</td>\n",
       "    </tr>\n",
       "  </tbody>\n",
       "</table>\n",
       "</div>"
      ],
      "text/plain": [
       "                  AMZN    Return  Lagged Return\n",
       "date                                           \n",
       "2016-06-08  726.640015  0.400700      -0.411431\n",
       "2016-06-09  727.650024  0.138997       0.400700\n",
       "2016-06-10  717.909973 -1.338563       0.138997\n",
       "2016-06-13  715.239990 -0.371911      -1.338563\n",
       "2016-06-14  719.299988  0.567641      -0.371911"
      ]
     },
     "execution_count": 19,
     "metadata": {},
     "output_type": "execute_result"
    }
   ],
   "source": [
    "# Create a lagged return using the shift function\n",
    "amzn_lag_return = amzn_df[\"Return\"].shift()\n",
    "amzn_df[\"Lagged Return\"] = amzn_lag_return\n",
    "amzn_df = amzn_df.replace(-np.inf, np.nan).dropna()\n",
    "amzn_df.tail()"
   ]
  },
  {
   "cell_type": "code",
   "execution_count": 20,
   "metadata": {},
   "outputs": [],
   "source": [
    "# Create a train/test split for the data using  for testing and the rest for training\n",
    "amzn_train = amzn_df[:'2016-05-09']\n",
    "amzn_test = amzn_df['2016-05-10':]"
   ]
  },
  {
   "cell_type": "code",
   "execution_count": 21,
   "metadata": {},
   "outputs": [],
   "source": [
    "# Create four dataframes:\n",
    "# X_amzn_train (training set using just the independent variables), X_amzn_test (test set of of just the independent variables)\n",
    "# Y_amzn_train (training set using just the \"y\" variable), Y_amzn_test (test set of just the \"y\" variable):\n",
    "X_amzn_train = amzn_train[\"Lagged Return\"].to_frame()\n",
    "X_amzn_test = amzn_test[\"Lagged Return\"].to_frame()\n",
    "y_amzn_train = amzn_train[\"Return\"]\n",
    "y_amzn_test = amzn_test[\"Return\"]"
   ]
  },
  {
   "cell_type": "code",
   "execution_count": 22,
   "metadata": {},
   "outputs": [
    {
     "data": {
      "text/html": [
       "<div>\n",
       "<style scoped>\n",
       "    .dataframe tbody tr th:only-of-type {\n",
       "        vertical-align: middle;\n",
       "    }\n",
       "\n",
       "    .dataframe tbody tr th {\n",
       "        vertical-align: top;\n",
       "    }\n",
       "\n",
       "    .dataframe thead th {\n",
       "        text-align: right;\n",
       "    }\n",
       "</style>\n",
       "<table border=\"1\" class=\"dataframe\">\n",
       "  <thead>\n",
       "    <tr style=\"text-align: right;\">\n",
       "      <th></th>\n",
       "      <th>Lagged Return</th>\n",
       "    </tr>\n",
       "    <tr>\n",
       "      <th>date</th>\n",
       "      <th></th>\n",
       "    </tr>\n",
       "  </thead>\n",
       "  <tbody>\n",
       "    <tr>\n",
       "      <th>2016-04-06</th>\n",
       "      <td>-1.188487</td>\n",
       "    </tr>\n",
       "    <tr>\n",
       "      <th>2016-04-07</th>\n",
       "      <td>2.719487</td>\n",
       "    </tr>\n",
       "    <tr>\n",
       "      <th>2016-04-08</th>\n",
       "      <td>-1.768872</td>\n",
       "    </tr>\n",
       "    <tr>\n",
       "      <th>2016-04-11</th>\n",
       "      <td>0.535986</td>\n",
       "    </tr>\n",
       "    <tr>\n",
       "      <th>2016-04-12</th>\n",
       "      <td>0.223683</td>\n",
       "    </tr>\n",
       "  </tbody>\n",
       "</table>\n",
       "</div>"
      ],
      "text/plain": [
       "            Lagged Return\n",
       "date                     \n",
       "2016-04-06      -1.188487\n",
       "2016-04-07       2.719487\n",
       "2016-04-08      -1.768872\n",
       "2016-04-11       0.535986\n",
       "2016-04-12       0.223683"
      ]
     },
     "execution_count": 22,
     "metadata": {},
     "output_type": "execute_result"
    }
   ],
   "source": [
    "# Preview the X_amzn_train data\n",
    "X_amzn_train.head()"
   ]
  },
  {
   "cell_type": "code",
   "execution_count": 9,
   "metadata": {},
   "outputs": [
    {
     "data": {
      "text/html": [
       "<div>\n",
       "<style scoped>\n",
       "    .dataframe tbody tr th:only-of-type {\n",
       "        vertical-align: middle;\n",
       "    }\n",
       "\n",
       "    .dataframe tbody tr th {\n",
       "        vertical-align: top;\n",
       "    }\n",
       "\n",
       "    .dataframe thead th {\n",
       "        text-align: right;\n",
       "    }\n",
       "</style>\n",
       "<table border=\"1\" class=\"dataframe\">\n",
       "  <thead>\n",
       "    <tr style=\"text-align: right;\">\n",
       "      <th></th>\n",
       "      <th>AAPL</th>\n",
       "      <th>Return</th>\n",
       "    </tr>\n",
       "    <tr>\n",
       "      <th>date</th>\n",
       "      <th></th>\n",
       "      <th></th>\n",
       "    </tr>\n",
       "  </thead>\n",
       "  <tbody>\n",
       "    <tr>\n",
       "      <th>2016-06-08</th>\n",
       "      <td>23.180901</td>\n",
       "      <td>-0.090879</td>\n",
       "    </tr>\n",
       "    <tr>\n",
       "      <th>2016-06-09</th>\n",
       "      <td>23.347248</td>\n",
       "      <td>0.717606</td>\n",
       "    </tr>\n",
       "    <tr>\n",
       "      <th>2016-06-10</th>\n",
       "      <td>23.155132</td>\n",
       "      <td>-0.822863</td>\n",
       "    </tr>\n",
       "    <tr>\n",
       "      <th>2016-06-13</th>\n",
       "      <td>22.806034</td>\n",
       "      <td>-1.507649</td>\n",
       "    </tr>\n",
       "    <tr>\n",
       "      <th>2016-06-14</th>\n",
       "      <td>22.834148</td>\n",
       "      <td>0.123276</td>\n",
       "    </tr>\n",
       "  </tbody>\n",
       "</table>\n",
       "</div>"
      ],
      "text/plain": [
       "                 AAPL    Return\n",
       "date                           \n",
       "2016-06-08  23.180901 -0.090879\n",
       "2016-06-09  23.347248  0.717606\n",
       "2016-06-10  23.155132 -0.822863\n",
       "2016-06-13  22.806034 -1.507649\n",
       "2016-06-14  22.834148  0.123276"
      ]
     },
     "execution_count": 9,
     "metadata": {},
     "output_type": "execute_result"
    }
   ],
   "source": [
    "# Create a series using \"Price\" percentage returns, drop any nan\"s, and check the results:\n",
    "aapl_df = stock_df.loc[:,[\"AAPL\"]]\n",
    "aapl_daily_returns = stock_df.AAPL.pct_change() * 100\n",
    "aapl_df[\"Return\"] = aapl_daily_returns\n",
    "aapl_df = aapl_df.replace(-np.inf, np.nan).dropna()\n",
    "aapl_df.to_csv(r'../Merged_data/aapl_returns.csv', index = True)\n",
    "aapl_df.tail()"
   ]
  },
  {
   "cell_type": "code",
   "execution_count": 21,
   "metadata": {},
   "outputs": [
    {
     "data": {
      "text/html": [
       "<div>\n",
       "<style scoped>\n",
       "    .dataframe tbody tr th:only-of-type {\n",
       "        vertical-align: middle;\n",
       "    }\n",
       "\n",
       "    .dataframe tbody tr th {\n",
       "        vertical-align: top;\n",
       "    }\n",
       "\n",
       "    .dataframe thead th {\n",
       "        text-align: right;\n",
       "    }\n",
       "</style>\n",
       "<table border=\"1\" class=\"dataframe\">\n",
       "  <thead>\n",
       "    <tr style=\"text-align: right;\">\n",
       "      <th></th>\n",
       "      <th>AAPL</th>\n",
       "      <th>Return</th>\n",
       "      <th>Lagged Return</th>\n",
       "    </tr>\n",
       "    <tr>\n",
       "      <th>date</th>\n",
       "      <th></th>\n",
       "      <th></th>\n",
       "      <th></th>\n",
       "    </tr>\n",
       "  </thead>\n",
       "  <tbody>\n",
       "    <tr>\n",
       "      <th>2016-06-08</th>\n",
       "      <td>23.180901</td>\n",
       "      <td>-0.090879</td>\n",
       "      <td>0.405575</td>\n",
       "    </tr>\n",
       "    <tr>\n",
       "      <th>2016-06-09</th>\n",
       "      <td>23.347248</td>\n",
       "      <td>0.717606</td>\n",
       "      <td>-0.090879</td>\n",
       "    </tr>\n",
       "    <tr>\n",
       "      <th>2016-06-10</th>\n",
       "      <td>23.155132</td>\n",
       "      <td>-0.822863</td>\n",
       "      <td>0.717606</td>\n",
       "    </tr>\n",
       "    <tr>\n",
       "      <th>2016-06-13</th>\n",
       "      <td>22.806034</td>\n",
       "      <td>-1.507649</td>\n",
       "      <td>-0.822863</td>\n",
       "    </tr>\n",
       "    <tr>\n",
       "      <th>2016-06-14</th>\n",
       "      <td>22.834148</td>\n",
       "      <td>0.123276</td>\n",
       "      <td>-1.507649</td>\n",
       "    </tr>\n",
       "  </tbody>\n",
       "</table>\n",
       "</div>"
      ],
      "text/plain": [
       "                 AAPL    Return  Lagged Return\n",
       "date                                          \n",
       "2016-06-08  23.180901 -0.090879       0.405575\n",
       "2016-06-09  23.347248  0.717606      -0.090879\n",
       "2016-06-10  23.155132 -0.822863       0.717606\n",
       "2016-06-13  22.806034 -1.507649      -0.822863\n",
       "2016-06-14  22.834148  0.123276      -1.507649"
      ]
     },
     "execution_count": 21,
     "metadata": {},
     "output_type": "execute_result"
    }
   ],
   "source": [
    "# Create a lagged return using the shift function\n",
    "aapl_lag_return = aapl_df[\"Return\"].shift()\n",
    "aapl_df[\"Lagged Return\"] = aapl_lag_return\n",
    "aapl_df = aapl_df.replace(-np.inf, np.nan).dropna()\n",
    "aapl_df.tail()"
   ]
  },
  {
   "cell_type": "code",
   "execution_count": 22,
   "metadata": {},
   "outputs": [],
   "source": [
    "# Create a train/test split for the data using  for testing and the rest for training\n",
    "aapl_train = aapl_df[:'2016-05-09']\n",
    "aapl_test = aapl_df['2016-05-10':]"
   ]
  },
  {
   "cell_type": "code",
   "execution_count": 23,
   "metadata": {},
   "outputs": [],
   "source": [
    "# Create four dataframes:\n",
    "# X_aapl_train (training set using just the independent variables), X_aapl_test (test set of of just the independent variables)\n",
    "# Y_aapl_train (training set using just the \"y\" variable), Y_aapl_test (test set of just the \"y\" variable):\n",
    "X_aapl_train = aapl_train[\"Lagged Return\"].to_frame()\n",
    "X_aapl_test = aapl_test[\"Lagged Return\"].to_frame()\n",
    "y_aapl_train = aapl_train[\"Return\"]\n",
    "y_aapl_test = aapl_test[\"Return\"]"
   ]
  },
  {
   "cell_type": "code",
   "execution_count": 24,
   "metadata": {},
   "outputs": [
    {
     "data": {
      "text/html": [
       "<div>\n",
       "<style scoped>\n",
       "    .dataframe tbody tr th:only-of-type {\n",
       "        vertical-align: middle;\n",
       "    }\n",
       "\n",
       "    .dataframe tbody tr th {\n",
       "        vertical-align: top;\n",
       "    }\n",
       "\n",
       "    .dataframe thead th {\n",
       "        text-align: right;\n",
       "    }\n",
       "</style>\n",
       "<table border=\"1\" class=\"dataframe\">\n",
       "  <thead>\n",
       "    <tr style=\"text-align: right;\">\n",
       "      <th></th>\n",
       "      <th>Lagged Return</th>\n",
       "    </tr>\n",
       "    <tr>\n",
       "      <th>date</th>\n",
       "      <th></th>\n",
       "    </tr>\n",
       "  </thead>\n",
       "  <tbody>\n",
       "    <tr>\n",
       "      <th>2016-04-06</th>\n",
       "      <td>-1.178903</td>\n",
       "    </tr>\n",
       "    <tr>\n",
       "      <th>2016-04-07</th>\n",
       "      <td>1.047253</td>\n",
       "    </tr>\n",
       "    <tr>\n",
       "      <th>2016-04-08</th>\n",
       "      <td>-2.180981</td>\n",
       "    </tr>\n",
       "    <tr>\n",
       "      <th>2016-04-11</th>\n",
       "      <td>0.110557</td>\n",
       "    </tr>\n",
       "    <tr>\n",
       "      <th>2016-04-12</th>\n",
       "      <td>0.331304</td>\n",
       "    </tr>\n",
       "  </tbody>\n",
       "</table>\n",
       "</div>"
      ],
      "text/plain": [
       "            Lagged Return\n",
       "date                     \n",
       "2016-04-06      -1.178903\n",
       "2016-04-07       1.047253\n",
       "2016-04-08      -2.180981\n",
       "2016-04-11       0.110557\n",
       "2016-04-12       0.331304"
      ]
     },
     "execution_count": 24,
     "metadata": {},
     "output_type": "execute_result"
    }
   ],
   "source": [
    "# Preview the X_aapl_train data\n",
    "X_aapl_train.head()"
   ]
  },
  {
   "cell_type": "code",
   "execution_count": 15,
   "metadata": {},
   "outputs": [
    {
     "data": {
      "text/html": [
       "<div>\n",
       "<style scoped>\n",
       "    .dataframe tbody tr th:only-of-type {\n",
       "        vertical-align: middle;\n",
       "    }\n",
       "\n",
       "    .dataframe tbody tr th {\n",
       "        vertical-align: top;\n",
       "    }\n",
       "\n",
       "    .dataframe thead th {\n",
       "        text-align: right;\n",
       "    }\n",
       "</style>\n",
       "<table border=\"1\" class=\"dataframe\">\n",
       "  <thead>\n",
       "    <tr style=\"text-align: right;\">\n",
       "      <th></th>\n",
       "      <th>NFLX</th>\n",
       "      <th>Return</th>\n",
       "    </tr>\n",
       "    <tr>\n",
       "      <th>date</th>\n",
       "      <th></th>\n",
       "      <th></th>\n",
       "    </tr>\n",
       "  </thead>\n",
       "  <tbody>\n",
       "    <tr>\n",
       "      <th>2016-06-08</th>\n",
       "      <td>97.860001</td>\n",
       "      <td>-2.032234</td>\n",
       "    </tr>\n",
       "    <tr>\n",
       "      <th>2016-06-09</th>\n",
       "      <td>97.089996</td>\n",
       "      <td>-0.786843</td>\n",
       "    </tr>\n",
       "    <tr>\n",
       "      <th>2016-06-10</th>\n",
       "      <td>93.750000</td>\n",
       "      <td>-3.440103</td>\n",
       "    </tr>\n",
       "    <tr>\n",
       "      <th>2016-06-13</th>\n",
       "      <td>93.849998</td>\n",
       "      <td>0.106665</td>\n",
       "    </tr>\n",
       "    <tr>\n",
       "      <th>2016-06-14</th>\n",
       "      <td>94.120003</td>\n",
       "      <td>0.287698</td>\n",
       "    </tr>\n",
       "  </tbody>\n",
       "</table>\n",
       "</div>"
      ],
      "text/plain": [
       "                 NFLX    Return\n",
       "date                           \n",
       "2016-06-08  97.860001 -2.032234\n",
       "2016-06-09  97.089996 -0.786843\n",
       "2016-06-10  93.750000 -3.440103\n",
       "2016-06-13  93.849998  0.106665\n",
       "2016-06-14  94.120003  0.287698"
      ]
     },
     "execution_count": 15,
     "metadata": {},
     "output_type": "execute_result"
    }
   ],
   "source": [
    "# Create a series using \"Price\" percentage returns, drop any nan\"s, and check the results:\n",
    "nflx_df = stock_df.loc[:,[\"NFLX\"]]\n",
    "nflx_daily_returns = stock_df.NFLX.pct_change() * 100\n",
    "nflx_df[\"Return\"] = nflx_daily_returns\n",
    "nflx_df = nflx_df.replace(-np.inf, np.nan).dropna()\n",
    "nflx_df.to_csv(r'../Merged_data/nflx_returns.csv', index = True)\n",
    "nflx_df.tail()"
   ]
  },
  {
   "cell_type": "code",
   "execution_count": 27,
   "metadata": {},
   "outputs": [
    {
     "data": {
      "text/html": [
       "<div>\n",
       "<style scoped>\n",
       "    .dataframe tbody tr th:only-of-type {\n",
       "        vertical-align: middle;\n",
       "    }\n",
       "\n",
       "    .dataframe tbody tr th {\n",
       "        vertical-align: top;\n",
       "    }\n",
       "\n",
       "    .dataframe thead th {\n",
       "        text-align: right;\n",
       "    }\n",
       "</style>\n",
       "<table border=\"1\" class=\"dataframe\">\n",
       "  <thead>\n",
       "    <tr style=\"text-align: right;\">\n",
       "      <th></th>\n",
       "      <th>NFLX</th>\n",
       "      <th>Return</th>\n",
       "      <th>Lagged Return</th>\n",
       "    </tr>\n",
       "    <tr>\n",
       "      <th>date</th>\n",
       "      <th></th>\n",
       "      <th></th>\n",
       "      <th></th>\n",
       "    </tr>\n",
       "  </thead>\n",
       "  <tbody>\n",
       "    <tr>\n",
       "      <th>2016-06-08</th>\n",
       "      <td>97.860001</td>\n",
       "      <td>-2.032234</td>\n",
       "      <td>-0.843755</td>\n",
       "    </tr>\n",
       "    <tr>\n",
       "      <th>2016-06-09</th>\n",
       "      <td>97.089996</td>\n",
       "      <td>-0.786843</td>\n",
       "      <td>-2.032234</td>\n",
       "    </tr>\n",
       "    <tr>\n",
       "      <th>2016-06-10</th>\n",
       "      <td>93.750000</td>\n",
       "      <td>-3.440103</td>\n",
       "      <td>-0.786843</td>\n",
       "    </tr>\n",
       "    <tr>\n",
       "      <th>2016-06-13</th>\n",
       "      <td>93.849998</td>\n",
       "      <td>0.106665</td>\n",
       "      <td>-3.440103</td>\n",
       "    </tr>\n",
       "    <tr>\n",
       "      <th>2016-06-14</th>\n",
       "      <td>94.120003</td>\n",
       "      <td>0.287698</td>\n",
       "      <td>0.106665</td>\n",
       "    </tr>\n",
       "  </tbody>\n",
       "</table>\n",
       "</div>"
      ],
      "text/plain": [
       "                 NFLX    Return  Lagged Return\n",
       "date                                          \n",
       "2016-06-08  97.860001 -2.032234      -0.843755\n",
       "2016-06-09  97.089996 -0.786843      -2.032234\n",
       "2016-06-10  93.750000 -3.440103      -0.786843\n",
       "2016-06-13  93.849998  0.106665      -3.440103\n",
       "2016-06-14  94.120003  0.287698       0.106665"
      ]
     },
     "execution_count": 27,
     "metadata": {},
     "output_type": "execute_result"
    }
   ],
   "source": [
    "# Create a lagged return using the shift function\n",
    "nflx_lag_return = nflx_df[\"Return\"].shift()\n",
    "nflx_df[\"Lagged Return\"] = nflx_lag_return\n",
    "nflx_df = nflx_df.replace(-np.inf, np.nan).dropna()\n",
    "nflx_df.tail()"
   ]
  },
  {
   "cell_type": "code",
   "execution_count": 28,
   "metadata": {},
   "outputs": [],
   "source": [
    "# Create a train/test split for the data using  for testing and the rest for training\n",
    "nflx_train = nflx_df[:'2016-05-09']\n",
    "nflx_test = nflx_df['2016-05-10':]"
   ]
  },
  {
   "cell_type": "code",
   "execution_count": 29,
   "metadata": {},
   "outputs": [],
   "source": [
    "# Create four dataframes:\n",
    "# X_nflx_train (training set using just the independent variables), X_nflx_test (test set of of just the independent variables)\n",
    "# Y_nflx_train (training set using just the \"y\" variable), Y_nflx_test (test set of just the \"y\" variable):\n",
    "X_nflx_train = nflx_train[\"Lagged Return\"].to_frame()\n",
    "X_nflx_test = nflx_test[\"Lagged Return\"].to_frame()\n",
    "y_nflx_train = nflx_train[\"Return\"]\n",
    "y_nflx_test = nflx_test[\"Return\"]"
   ]
  },
  {
   "cell_type": "code",
   "execution_count": 30,
   "metadata": {},
   "outputs": [
    {
     "data": {
      "text/html": [
       "<div>\n",
       "<style scoped>\n",
       "    .dataframe tbody tr th:only-of-type {\n",
       "        vertical-align: middle;\n",
       "    }\n",
       "\n",
       "    .dataframe tbody tr th {\n",
       "        vertical-align: top;\n",
       "    }\n",
       "\n",
       "    .dataframe thead th {\n",
       "        text-align: right;\n",
       "    }\n",
       "</style>\n",
       "<table border=\"1\" class=\"dataframe\">\n",
       "  <thead>\n",
       "    <tr style=\"text-align: right;\">\n",
       "      <th></th>\n",
       "      <th>Lagged Return</th>\n",
       "    </tr>\n",
       "    <tr>\n",
       "      <th>date</th>\n",
       "      <th></th>\n",
       "    </tr>\n",
       "  </thead>\n",
       "  <tbody>\n",
       "    <tr>\n",
       "      <th>2016-04-06</th>\n",
       "      <td>0.565409</td>\n",
       "    </tr>\n",
       "    <tr>\n",
       "      <th>2016-04-07</th>\n",
       "      <td>-0.104822</td>\n",
       "    </tr>\n",
       "    <tr>\n",
       "      <th>2016-04-08</th>\n",
       "      <td>-0.362496</td>\n",
       "    </tr>\n",
       "    <tr>\n",
       "      <th>2016-04-11</th>\n",
       "      <td>-0.612733</td>\n",
       "    </tr>\n",
       "    <tr>\n",
       "      <th>2016-04-12</th>\n",
       "      <td>-1.088524</td>\n",
       "    </tr>\n",
       "  </tbody>\n",
       "</table>\n",
       "</div>"
      ],
      "text/plain": [
       "            Lagged Return\n",
       "date                     \n",
       "2016-04-06       0.565409\n",
       "2016-04-07      -0.104822\n",
       "2016-04-08      -0.362496\n",
       "2016-04-11      -0.612733\n",
       "2016-04-12      -1.088524"
      ]
     },
     "execution_count": 30,
     "metadata": {},
     "output_type": "execute_result"
    }
   ],
   "source": [
    "# Preview the X_nflx_train data\n",
    "X_nflx_train.head()"
   ]
  },
  {
   "cell_type": "code",
   "execution_count": 31,
   "metadata": {},
   "outputs": [
    {
     "data": {
      "text/plain": [
       "LinearRegression()"
      ]
     },
     "execution_count": 31,
     "metadata": {},
     "output_type": "execute_result"
    }
   ],
   "source": [
    "# Create a Linear Regression model and fit it to the training data\n",
    "from sklearn.linear_model import LinearRegression\n",
    "\n",
    "# Fit a SKLearn linear regression using  just the training set (X_amzn_train, Y_amzn_train):\n",
    "amzn_model = LinearRegression()\n",
    "amzn_model.fit(X_amzn_train, y_amzn_train)\n",
    "\n",
    "# Fit a SKLearn linear regression using  just the training set (X_aapl_train, Y_aapl_train):\n",
    "aapl_model = LinearRegression()\n",
    "aapl_model.fit(X_aapl_train, y_aapl_train)\n",
    "\n",
    "# Fit a SKLearn linear regression using  just the training set (X_nflx_train, Y_nflx_train):\n",
    "nflx_model = LinearRegression()\n",
    "nflx_model.fit(X_nflx_train, y_nflx_train)"
   ]
  },
  {
   "cell_type": "code",
   "execution_count": 32,
   "metadata": {},
   "outputs": [],
   "source": [
    "# Make Amazon prediction of \"y\" values using just the test dataset\n",
    "amzn_predictions = amzn_model.predict(X_amzn_test)\n",
    "\n",
    "# Make Apple prediction of \"y\" values using just the test dataset\n",
    "aapl_predictions = aapl_model.predict(X_aapl_test)\n",
    "\n",
    "# Make Netflix prediction of \"y\" values using just the test dataset\n",
    "nflx_predictions = nflx_model.predict(X_nflx_test)"
   ]
  },
  {
   "cell_type": "code",
   "execution_count": 33,
   "metadata": {},
   "outputs": [],
   "source": [
    "# Assemble actual y data (Y_amzn_test) with predicted y data into two columns in a dataframe:\n",
    "amzn_results = y_amzn_test.to_frame()\n",
    "amzn_results[\"Predicted Return\"] = amzn_predictions"
   ]
  },
  {
   "cell_type": "code",
   "execution_count": 34,
   "metadata": {},
   "outputs": [
    {
     "data": {
      "text/plain": [
       "array([<matplotlib.axes._subplots.AxesSubplot object at 0x7f8ecb811310>,\n",
       "       <matplotlib.axes._subplots.AxesSubplot object at 0x7f8ecb843cd0>],\n",
       "      dtype=object)"
      ]
     },
     "execution_count": 34,
     "metadata": {},
     "output_type": "execute_result"
    },
    {
     "data": {
      "image/png": "[encoded data removed]",
      "text/plain": [
       "<Figure size 432x288 with 2 Axes>"
      ]
     },
     "metadata": {
      "needs_background": "light"
     },
     "output_type": "display_data"
    }
   ],
   "source": [
    "# Plot the first 20 Amazon predictions vs the true values\n",
    "amzn_results[:20].plot(subplots=True)"
   ]
  },
  {
   "cell_type": "code",
   "execution_count": 35,
   "metadata": {},
   "outputs": [],
   "source": [
    "# Assemble actual y data (Y_aapl_test) with predicted y data into two columns in a dataframe:\n",
    "aapl_results = y_aapl_test.to_frame()\n",
    "aapl_results[\"Predicted Return\"] = aapl_predictions"
   ]
  },
  {
   "cell_type": "code",
   "execution_count": 36,
   "metadata": {},
   "outputs": [
    {
     "data": {
      "text/plain": [
       "array([<matplotlib.axes._subplots.AxesSubplot object at 0x7f8ecb8ff940>,\n",
       "       <matplotlib.axes._subplots.AxesSubplot object at 0x7f8ecb930730>],\n",
       "      dtype=object)"
      ]
     },
     "execution_count": 36,
     "metadata": {},
     "output_type": "execute_result"
    },
    {
     "data": {
      "image/png": "[encoded data removed]",
      "text/plain": [
       "<Figure size 432x288 with 2 Axes>"
      ]
     },
     "metadata": {
      "needs_background": "light"
     },
     "output_type": "display_data"
    }
   ],
   "source": [
    "# Plot the first 20 Apple predictions vs the true values\n",
    "aapl_results[:20].plot(subplots=True)"
   ]
  },
  {
   "cell_type": "code",
   "execution_count": 37,
   "metadata": {},
   "outputs": [],
   "source": [
    "# Assemble actual y data (Y_nflx_test) with predicted y data into two columns in a dataframe:\n",
    "nflx_results = y_nflx_test.to_frame()\n",
    "nflx_results[\"Predicted Return\"] = nflx_predictions"
   ]
  },
  {
   "cell_type": "code",
   "execution_count": 38,
   "metadata": {},
   "outputs": [
    {
     "data": {
      "text/plain": [
       "array([<matplotlib.axes._subplots.AxesSubplot object at 0x7f8ecba4fac0>,\n",
       "       <matplotlib.axes._subplots.AxesSubplot object at 0x7f8ecba64e80>],\n",
       "      dtype=object)"
      ]
     },
     "execution_count": 38,
     "metadata": {},
     "output_type": "execute_result"
    },
    {
     "data": {
      "image/png": "[encoded data removed]",
      "text/plain": [
       "<Figure size 432x288 with 2 Axes>"
      ]
     },
     "metadata": {
      "needs_background": "light"
     },
     "output_type": "display_data"
    }
   ],
   "source": [
    "# Plot the first 20 Netflix predictions vs the true values\n",
    "nflx_results[:20].plot(subplots=True)"
   ]
  },
  {
   "cell_type": "code",
   "execution_count": 39,
   "metadata": {},
   "outputs": [
    {
     "name": "stdout",
     "output_type": "stream",
     "text": [
      "Out-of-Sample Root Mean Squared Error (RMSE) for Amazon: 1.150242092230675\n"
     ]
    }
   ],
   "source": [
    "# Out-of-Sample Performance\n",
    "from sklearn.metrics import mean_squared_error\n",
    "# Calculate the mean_squared_error (MSE) on actual versus predicted test \"y\" \n",
    "amzn_mse = mean_squared_error(\n",
    "    amzn_results[\"Return\"],\n",
    "    amzn_results[\"Predicted Return\"]\n",
    ")\n",
    "\n",
    "# Using that mean-squared-error, calculate the root-mean-squared error (RMSE):\n",
    "amzn_out_of_sample_rmse = np.sqrt(amzn_mse)\n",
    "print(f\"Out-of-Sample Root Mean Squared Error (RMSE) for Amazon: {amzn_out_of_sample_rmse}\")"
   ]
  },
  {
   "cell_type": "code",
   "execution_count": 40,
   "metadata": {},
   "outputs": [
    {
     "name": "stdout",
     "output_type": "stream",
     "text": [
      "Out-of-Sample Root Mean Squared Error (RMSE) for Apple: 1.334836177455369\n"
     ]
    }
   ],
   "source": [
    "# Calculate the mean_squared_error (MSE) on actual versus predicted test \"y\" \n",
    "aapl_mse = mean_squared_error(\n",
    "    aapl_results[\"Return\"],\n",
    "    aapl_results[\"Predicted Return\"]\n",
    ")\n",
    "\n",
    "# Using that mean-squared-error, calculate the root-mean-squared error (RMSE):\n",
    "aapl_out_of_sample_rmse = np.sqrt(aapl_mse)\n",
    "print(f\"Out-of-Sample Root Mean Squared Error (RMSE) for Apple: {aapl_out_of_sample_rmse}\")"
   ]
  },
  {
   "cell_type": "code",
   "execution_count": 41,
   "metadata": {},
   "outputs": [
    {
     "name": "stdout",
     "output_type": "stream",
     "text": [
      "Out-of-Sample Root Mean Squared Error (RMSE) for Netflix: 2.0881334120179034\n"
     ]
    }
   ],
   "source": [
    "# Calculate the mean_squared_error (MSE) on actual versus predicted test \"y\" \n",
    "nflx_mse = mean_squared_error(\n",
    "    nflx_results[\"Return\"],\n",
    "    nflx_results[\"Predicted Return\"]\n",
    ")\n",
    "\n",
    "# Using that mean-squared-error, calculate the root-mean-squared error (RMSE):\n",
    "nflx_out_of_sample_rmse = np.sqrt(nflx_mse)\n",
    "print(f\"Out-of-Sample Root Mean Squared Error (RMSE) for Netflix: {nflx_out_of_sample_rmse}\")"
   ]
  },
  {
   "cell_type": "code",
   "execution_count": 42,
   "metadata": {},
   "outputs": [
    {
     "name": "stdout",
     "output_type": "stream",
     "text": [
      "In-sample Root Mean Squared Error (RMSE) for Amazon: 2.4000373143554103\n"
     ]
    }
   ],
   "source": [
    "# In-Sample Performance\n",
    "# Construct a dataframe using just the \"y\" training data:\n",
    "amzn_in_sample_results = y_amzn_train.to_frame()\n",
    "\n",
    "# Add a column of \"in-sample\" predictions to that dataframe:  \n",
    "amzn_in_sample_results[\"In-sample Predictions\"] = amzn_model.predict(X_amzn_train)\n",
    "\n",
    "# Calculate in-sample mean_squared_error (for comparison to out-of-sample)\n",
    "amzn_in_sample_mse = mean_squared_error(\n",
    "    amzn_in_sample_results[\"Return\"],\n",
    "    amzn_in_sample_results[\"In-sample Predictions\"]\n",
    ")\n",
    "\n",
    "# Calculate in-sample root mean_squared_error (for comparison to out-of-sample)\n",
    "amzn_in_sample_rmse = np.sqrt(amzn_in_sample_mse)\n",
    "print(f\"In-sample Root Mean Squared Error (RMSE) for Amazon: {amzn_in_sample_rmse}\")"
   ]
  },
  {
   "cell_type": "code",
   "execution_count": 44,
   "metadata": {},
   "outputs": [
    {
     "name": "stdout",
     "output_type": "stream",
     "text": [
      "In-sample Root Mean Squared Error (RMSE) for Apple: 1.5650738483449158\n"
     ]
    }
   ],
   "source": [
    "# Construct a dataframe using just the \"y\" training data:\n",
    "aapl_in_sample_results = y_aapl_train.to_frame()\n",
    "\n",
    "# Add a column of \"in-sample\" predictions to that dataframe:  \n",
    "aapl_in_sample_results[\"In-sample Predictions\"] = aapl_model.predict(X_aapl_train)\n",
    "\n",
    "# Calculate in-sample mean_squared_error (for comparison to out-of-sample)\n",
    "aapl_in_sample_mse = mean_squared_error(\n",
    "    aapl_in_sample_results[\"Return\"],\n",
    "    aapl_in_sample_results[\"In-sample Predictions\"]\n",
    ")\n",
    "\n",
    "# Calculate in-sample root mean_squared_error (for comparison to out-of-sample)\n",
    "aapl_in_sample_rmse = np.sqrt(aapl_in_sample_mse)\n",
    "print(f\"In-sample Root Mean Squared Error (RMSE) for Apple: {aapl_in_sample_rmse}\")"
   ]
  },
  {
   "cell_type": "code",
   "execution_count": 45,
   "metadata": {},
   "outputs": [
    {
     "name": "stdout",
     "output_type": "stream",
     "text": [
      "In-sample Root Mean Squared Error (RMSE) for Netflix: 3.1429642442216448\n"
     ]
    }
   ],
   "source": [
    "# Construct a dataframe using just the \"y\" training data:\n",
    "nflx_in_sample_results = y_nflx_train.to_frame()\n",
    "\n",
    "# Add a column of \"in-sample\" predictions to that dataframe:  \n",
    "nflx_in_sample_results[\"In-sample Predictions\"] = nflx_model.predict(X_nflx_train)\n",
    "\n",
    "# Calculate in-sample mean_squared_error (for comparison to out-of-sample)\n",
    "nflx_in_sample_mse = mean_squared_error(\n",
    "    nflx_in_sample_results[\"Return\"],\n",
    "    nflx_in_sample_results[\"In-sample Predictions\"]\n",
    ")\n",
    "\n",
    "# Calculate in-sample root mean_squared_error (for comparison to out-of-sample)\n",
    "nflx_in_sample_rmse = np.sqrt(nflx_in_sample_mse)\n",
    "print(f\"In-sample Root Mean Squared Error (RMSE) for Netflix: {nflx_in_sample_rmse}\")"
   ]
  },
  {
   "cell_type": "code",
   "execution_count": null,
   "metadata": {},
   "outputs": [],
   "source": []
  }
 ],
 "metadata": {
  "kernelspec": {
   "display_name": "Python 3",
   "language": "python",
   "name": "python3"
  },
  "language_info": {
   "codemirror_mode": {
    "name": "ipython",
    "version": 3
   },
   "file_extension": ".py",
   "mimetype": "text/x-python",
   "name": "python",
   "nbconvert_exporter": "python",
   "pygments_lexer": "ipython3",
   "version": "3.8.3"
  }
 },
 "nbformat": 4,
 "nbformat_minor": 4
}
