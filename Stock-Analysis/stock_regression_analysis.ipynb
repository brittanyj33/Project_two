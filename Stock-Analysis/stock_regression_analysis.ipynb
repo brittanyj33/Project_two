{
 "cells": [
  {
   "cell_type": "code",
   "execution_count": 1,
   "metadata": {},
   "outputs": [],
   "source": [
    "import numpy as np\n",
    "import pandas as pd\n",
    "from pathlib import Path\n",
    "%matplotlib inline\n",
    "import warnings\n",
    "warnings.simplefilter(action='ignore', category=Warning)"
   ]
  },
  {
   "cell_type": "code",
   "execution_count": 2,
   "metadata": {},
   "outputs": [
    {
     "data": {
      "text/html": [
       "<div>\n",
       "<style scoped>\n",
       "    .dataframe tbody tr th:only-of-type {\n",
       "        vertical-align: middle;\n",
       "    }\n",
       "\n",
       "    .dataframe tbody tr th {\n",
       "        vertical-align: top;\n",
       "    }\n",
       "\n",
       "    .dataframe thead th {\n",
       "        text-align: right;\n",
       "    }\n",
       "</style>\n",
       "<table border=\"1\" class=\"dataframe\">\n",
       "  <thead>\n",
       "    <tr style=\"text-align: right;\">\n",
       "      <th></th>\n",
       "      <th>AMZN</th>\n",
       "      <th>AAPL</th>\n",
       "      <th>NFLX</th>\n",
       "    </tr>\n",
       "    <tr>\n",
       "      <th>Date</th>\n",
       "      <th></th>\n",
       "      <th></th>\n",
       "      <th></th>\n",
       "    </tr>\n",
       "  </thead>\n",
       "  <tbody>\n",
       "    <tr>\n",
       "      <th>2016-04-04</th>\n",
       "      <td>593.190002</td>\n",
       "      <td>25.877037</td>\n",
       "      <td>104.349998</td>\n",
       "    </tr>\n",
       "    <tr>\n",
       "      <th>2016-04-05</th>\n",
       "      <td>586.140015</td>\n",
       "      <td>25.571972</td>\n",
       "      <td>104.940002</td>\n",
       "    </tr>\n",
       "    <tr>\n",
       "      <th>2016-04-06</th>\n",
       "      <td>602.080017</td>\n",
       "      <td>25.839775</td>\n",
       "      <td>104.830002</td>\n",
       "    </tr>\n",
       "    <tr>\n",
       "      <th>2016-04-07</th>\n",
       "      <td>591.429993</td>\n",
       "      <td>25.276215</td>\n",
       "      <td>104.449997</td>\n",
       "    </tr>\n",
       "    <tr>\n",
       "      <th>2016-04-08</th>\n",
       "      <td>594.599976</td>\n",
       "      <td>25.304159</td>\n",
       "      <td>103.809998</td>\n",
       "    </tr>\n",
       "  </tbody>\n",
       "</table>\n",
       "</div>"
      ],
      "text/plain": [
       "                  AMZN       AAPL        NFLX\n",
       "Date                                         \n",
       "2016-04-04  593.190002  25.877037  104.349998\n",
       "2016-04-05  586.140015  25.571972  104.940002\n",
       "2016-04-06  602.080017  25.839775  104.830002\n",
       "2016-04-07  591.429993  25.276215  104.449997\n",
       "2016-04-08  594.599976  25.304159  103.809998"
      ]
     },
     "execution_count": 2,
     "metadata": {},
     "output_type": "execute_result"
    }
   ],
   "source": [
    "# display 2016_stock_data.csv as dataframe\n",
    "stock_df = pd.read_csv(\n",
    "    Path(\"2016_stock_data.csv\"), index_col=\"Date\", infer_datetime_format=True, parse_dates=True)\n",
    "stock_df.head()"
   ]
  },
  {
   "cell_type": "code",
   "execution_count": 3,
   "metadata": {},
   "outputs": [
    {
     "data": {
      "text/html": [
       "<div>\n",
       "<style scoped>\n",
       "    .dataframe tbody tr th:only-of-type {\n",
       "        vertical-align: middle;\n",
       "    }\n",
       "\n",
       "    .dataframe tbody tr th {\n",
       "        vertical-align: top;\n",
       "    }\n",
       "\n",
       "    .dataframe thead th {\n",
       "        text-align: right;\n",
       "    }\n",
       "</style>\n",
       "<table border=\"1\" class=\"dataframe\">\n",
       "  <thead>\n",
       "    <tr style=\"text-align: right;\">\n",
       "      <th></th>\n",
       "      <th>AMZN</th>\n",
       "      <th>Return</th>\n",
       "    </tr>\n",
       "    <tr>\n",
       "      <th>Date</th>\n",
       "      <th></th>\n",
       "      <th></th>\n",
       "    </tr>\n",
       "  </thead>\n",
       "  <tbody>\n",
       "    <tr>\n",
       "      <th>2016-04-05</th>\n",
       "      <td>586.140015</td>\n",
       "      <td>4.593214</td>\n",
       "    </tr>\n",
       "    <tr>\n",
       "      <th>2016-04-06</th>\n",
       "      <td>602.080017</td>\n",
       "      <td>4.632002</td>\n",
       "    </tr>\n",
       "    <tr>\n",
       "      <th>2016-04-07</th>\n",
       "      <td>591.429993</td>\n",
       "      <td>4.587323</td>\n",
       "    </tr>\n",
       "    <tr>\n",
       "      <th>2016-04-08</th>\n",
       "      <td>594.599976</td>\n",
       "      <td>4.610516</td>\n",
       "    </tr>\n",
       "    <tr>\n",
       "      <th>2016-04-11</th>\n",
       "      <td>595.929993</td>\n",
       "      <td>4.607405</td>\n",
       "    </tr>\n",
       "  </tbody>\n",
       "</table>\n",
       "</div>"
      ],
      "text/plain": [
       "                  AMZN    Return\n",
       "Date                            \n",
       "2016-04-05  586.140015  4.593214\n",
       "2016-04-06  602.080017  4.632002\n",
       "2016-04-07  591.429993  4.587323\n",
       "2016-04-08  594.599976  4.610516\n",
       "2016-04-11  595.929993  4.607405"
      ]
     },
     "execution_count": 3,
     "metadata": {},
     "output_type": "execute_result"
    }
   ],
   "source": [
    "# Create a series using \"Price\" percentage returns, normalize daily pct change, drop any nan\"s, and check the results:\n",
    "amzn_df = stock_df.loc[:,[\"AMZN\"]]\n",
    "amzn_daily_returns = stock_df.AMZN.pct_change() * 100\n",
    "amzn_df[\"Return\"] = np.log(amzn_daily_returns + 100)\n",
    "amzn_df = amzn_df.replace(-np.inf, np.nan).dropna()\n",
    "amzn_df.head()"
   ]
  },
  {
   "cell_type": "code",
   "execution_count": 4,
   "metadata": {},
   "outputs": [
    {
     "data": {
      "image/png": "[encoded data removed]",
      "text/plain": [
       "<Figure size 720x720 with 1 Axes>"
      ]
     },
     "metadata": {
      "needs_background": "light"
     },
     "output_type": "display_data"
    }
   ],
   "source": [
    "# plot historical adj close price for Amazon\n",
    "AMZN_plot = stock_df.AMZN.plot(title=\"Historical Adjusted Closing Price for Amazon from April 2016 - June 2016\", figsize=(10,10))"
   ]
  },
  {
   "cell_type": "code",
   "execution_count": 5,
   "metadata": {},
   "outputs": [
    {
     "data": {
      "text/plain": [
       "<matplotlib.axes._subplots.AxesSubplot at 0x7fda7b2cda60>"
      ]
     },
     "execution_count": 5,
     "metadata": {},
     "output_type": "execute_result"
    },
    {
     "data": {
      "image/png": "[encoded data removed]",
      "text/plain": [
       "<Figure size 432x288 with 1 Axes>"
      ]
     },
     "metadata": {
      "needs_background": "light"
     },
     "output_type": "display_data"
    }
   ],
   "source": [
    "# Differencing AMZN adj close price stationarizes the time series\n",
    "amzn_df.AMZN.diff().plot()"
   ]
  },
  {
   "cell_type": "code",
   "execution_count": 6,
   "metadata": {},
   "outputs": [
    {
     "data": {
      "image/png": "[encoded data removed]",
      "text/plain": [
       "<Figure size 432x288 with 1 Axes>"
      ]
     },
     "metadata": {
      "needs_background": "light"
     },
     "output_type": "display_data"
    }
   ],
   "source": [
    "# Plot the autocorrelation of AMZN adj close prices\n",
    "from statsmodels.graphics.tsaplots import plot_acf, plot_pacf\n",
    "\n",
    "plot_acf(amzn_df.AMZN, zero=False, lags=24);"
   ]
  },
  {
   "cell_type": "code",
   "execution_count": 7,
   "metadata": {},
   "outputs": [
    {
     "data": {
      "image/png": "[encoded data removed]",
      "text/plain": [
       "<Figure size 432x288 with 1 Axes>"
      ]
     },
     "metadata": {
      "needs_background": "light"
     },
     "output_type": "display_data"
    }
   ],
   "source": [
    "# Plot the partial autocorrelation of the AMZN adj close price\n",
    "plot_pacf(amzn_df.AMZN, zero=False, lags=24);"
   ]
  },
  {
   "cell_type": "code",
   "execution_count": 8,
   "metadata": {},
   "outputs": [
    {
     "data": {
      "text/html": [
       "<div>\n",
       "<style scoped>\n",
       "    .dataframe tbody tr th:only-of-type {\n",
       "        vertical-align: middle;\n",
       "    }\n",
       "\n",
       "    .dataframe tbody tr th {\n",
       "        vertical-align: top;\n",
       "    }\n",
       "\n",
       "    .dataframe thead th {\n",
       "        text-align: right;\n",
       "    }\n",
       "</style>\n",
       "<table border=\"1\" class=\"dataframe\">\n",
       "  <thead>\n",
       "    <tr style=\"text-align: right;\">\n",
       "      <th></th>\n",
       "      <th>AMZN</th>\n",
       "      <th>Return</th>\n",
       "      <th>Lagged Return</th>\n",
       "    </tr>\n",
       "    <tr>\n",
       "      <th>Date</th>\n",
       "      <th></th>\n",
       "      <th></th>\n",
       "      <th></th>\n",
       "    </tr>\n",
       "  </thead>\n",
       "  <tbody>\n",
       "    <tr>\n",
       "      <th>2016-04-06</th>\n",
       "      <td>602.080017</td>\n",
       "      <td>4.632002</td>\n",
       "      <td>4.593214</td>\n",
       "    </tr>\n",
       "    <tr>\n",
       "      <th>2016-04-07</th>\n",
       "      <td>591.429993</td>\n",
       "      <td>4.587323</td>\n",
       "      <td>4.632002</td>\n",
       "    </tr>\n",
       "    <tr>\n",
       "      <th>2016-04-08</th>\n",
       "      <td>594.599976</td>\n",
       "      <td>4.610516</td>\n",
       "      <td>4.587323</td>\n",
       "    </tr>\n",
       "    <tr>\n",
       "      <th>2016-04-11</th>\n",
       "      <td>595.929993</td>\n",
       "      <td>4.607405</td>\n",
       "      <td>4.610516</td>\n",
       "    </tr>\n",
       "    <tr>\n",
       "      <th>2016-04-12</th>\n",
       "      <td>603.169983</td>\n",
       "      <td>4.617246</td>\n",
       "      <td>4.607405</td>\n",
       "    </tr>\n",
       "  </tbody>\n",
       "</table>\n",
       "</div>"
      ],
      "text/plain": [
       "                  AMZN    Return  Lagged Return\n",
       "Date                                           \n",
       "2016-04-06  602.080017  4.632002       4.593214\n",
       "2016-04-07  591.429993  4.587323       4.632002\n",
       "2016-04-08  594.599976  4.610516       4.587323\n",
       "2016-04-11  595.929993  4.607405       4.610516\n",
       "2016-04-12  603.169983  4.617246       4.607405"
      ]
     },
     "execution_count": 8,
     "metadata": {},
     "output_type": "execute_result"
    }
   ],
   "source": [
    "# Create a lagged return using the shift function\n",
    "amzn_lag_return = amzn_df[\"Return\"].shift()\n",
    "amzn_df[\"Lagged Return\"] = amzn_lag_return\n",
    "amzn_df = amzn_df.replace(-np.inf, np.nan).dropna()\n",
    "amzn_df.head()"
   ]
  },
  {
   "cell_type": "code",
   "execution_count": 9,
   "metadata": {},
   "outputs": [
    {
     "data": {
      "text/html": [
       "<div>\n",
       "<style scoped>\n",
       "    .dataframe tbody tr th:only-of-type {\n",
       "        vertical-align: middle;\n",
       "    }\n",
       "\n",
       "    .dataframe tbody tr th {\n",
       "        vertical-align: top;\n",
       "    }\n",
       "\n",
       "    .dataframe thead th {\n",
       "        text-align: right;\n",
       "    }\n",
       "</style>\n",
       "<table border=\"1\" class=\"dataframe\">\n",
       "  <thead>\n",
       "    <tr style=\"text-align: right;\">\n",
       "      <th></th>\n",
       "      <th>compound</th>\n",
       "    </tr>\n",
       "    <tr>\n",
       "      <th>Date</th>\n",
       "      <th></th>\n",
       "    </tr>\n",
       "  </thead>\n",
       "  <tbody>\n",
       "    <tr>\n",
       "      <th>2016-03-31</th>\n",
       "      <td>0.093505</td>\n",
       "    </tr>\n",
       "    <tr>\n",
       "      <th>2016-04-01</th>\n",
       "      <td>0.062275</td>\n",
       "    </tr>\n",
       "    <tr>\n",
       "      <th>2016-04-02</th>\n",
       "      <td>0.161957</td>\n",
       "    </tr>\n",
       "    <tr>\n",
       "      <th>2016-04-03</th>\n",
       "      <td>0.173476</td>\n",
       "    </tr>\n",
       "    <tr>\n",
       "      <th>2016-04-04</th>\n",
       "      <td>0.040698</td>\n",
       "    </tr>\n",
       "  </tbody>\n",
       "</table>\n",
       "</div>"
      ],
      "text/plain": [
       "            compound\n",
       "Date                \n",
       "2016-03-31  0.093505\n",
       "2016-04-01  0.062275\n",
       "2016-04-02  0.161957\n",
       "2016-04-03  0.173476\n",
       "2016-04-04  0.040698"
      ]
     },
     "execution_count": 9,
     "metadata": {},
     "output_type": "execute_result"
    }
   ],
   "source": [
    "# extract AMZN sentiment analysis. Slice only compound data for net sentiment score\n",
    "amzn_sentiment_data = Path('../Merged_data/amzn_sentiment.csv')\n",
    "amzn_sentiment = pd.read_csv(amzn_sentiment_data, index_col=\"Date\", infer_datetime_format=True, parse_dates=True)\n",
    "amzn_net_sentiment = amzn_sentiment.loc[:,[\"compound\"]]\n",
    "amzn_net_sentiment.head()"
   ]
  },
  {
   "cell_type": "code",
   "execution_count": 10,
   "metadata": {},
   "outputs": [
    {
     "data": {
      "text/html": [
       "<div>\n",
       "<style scoped>\n",
       "    .dataframe tbody tr th:only-of-type {\n",
       "        vertical-align: middle;\n",
       "    }\n",
       "\n",
       "    .dataframe tbody tr th {\n",
       "        vertical-align: top;\n",
       "    }\n",
       "\n",
       "    .dataframe thead th {\n",
       "        text-align: right;\n",
       "    }\n",
       "</style>\n",
       "<table border=\"1\" class=\"dataframe\">\n",
       "  <thead>\n",
       "    <tr style=\"text-align: right;\">\n",
       "      <th></th>\n",
       "      <th>AMZN</th>\n",
       "      <th>Return</th>\n",
       "      <th>Lagged Return</th>\n",
       "      <th>Lagged Sentiment</th>\n",
       "    </tr>\n",
       "    <tr>\n",
       "      <th>Date</th>\n",
       "      <th></th>\n",
       "      <th></th>\n",
       "      <th></th>\n",
       "      <th></th>\n",
       "    </tr>\n",
       "  </thead>\n",
       "  <tbody>\n",
       "    <tr>\n",
       "      <th>2016-04-06</th>\n",
       "      <td>602.080017</td>\n",
       "      <td>4.632002</td>\n",
       "      <td>4.593214</td>\n",
       "      <td>0.129678</td>\n",
       "    </tr>\n",
       "    <tr>\n",
       "      <th>2016-04-07</th>\n",
       "      <td>591.429993</td>\n",
       "      <td>4.587323</td>\n",
       "      <td>4.632002</td>\n",
       "      <td>0.112265</td>\n",
       "    </tr>\n",
       "    <tr>\n",
       "      <th>2016-04-08</th>\n",
       "      <td>594.599976</td>\n",
       "      <td>4.610516</td>\n",
       "      <td>4.587323</td>\n",
       "      <td>0.075437</td>\n",
       "    </tr>\n",
       "    <tr>\n",
       "      <th>2016-04-11</th>\n",
       "      <td>595.929993</td>\n",
       "      <td>4.607405</td>\n",
       "      <td>4.610516</td>\n",
       "      <td>0.122556</td>\n",
       "    </tr>\n",
       "    <tr>\n",
       "      <th>2016-04-12</th>\n",
       "      <td>603.169983</td>\n",
       "      <td>4.617246</td>\n",
       "      <td>4.607405</td>\n",
       "      <td>0.118127</td>\n",
       "    </tr>\n",
       "  </tbody>\n",
       "</table>\n",
       "</div>"
      ],
      "text/plain": [
       "                  AMZN    Return  Lagged Return  Lagged Sentiment\n",
       "Date                                                             \n",
       "2016-04-06  602.080017  4.632002       4.593214          0.129678\n",
       "2016-04-07  591.429993  4.587323       4.632002          0.112265\n",
       "2016-04-08  594.599976  4.610516       4.587323          0.075437\n",
       "2016-04-11  595.929993  4.607405       4.610516          0.122556\n",
       "2016-04-12  603.169983  4.617246       4.607405          0.118127"
      ]
     },
     "execution_count": 10,
     "metadata": {},
     "output_type": "execute_result"
    }
   ],
   "source": [
    "# use shift function to create lagged sentiment variable and add to amazon dataframe\n",
    "amzn_sentiment_lagged = amzn_net_sentiment.shift()\n",
    "amzn_df[\"Lagged Sentiment\"] = amzn_sentiment_lagged\n",
    "amzn_df = amzn_df.dropna()\n",
    "amzn_df.head()"
   ]
  },
  {
   "cell_type": "code",
   "execution_count": 11,
   "metadata": {},
   "outputs": [
    {
     "data": {
      "text/html": [
       "<table class=\"simpletable\">\n",
       "<caption>ARIMA Model Results</caption>\n",
       "<tr>\n",
       "  <th>Dep. Variable:</th>        <td>D.y</td>       <th>  No. Observations:  </th>    <td>45</td>   \n",
       "</tr>\n",
       "<tr>\n",
       "  <th>Model:</th>          <td>ARIMA(5, 1, 1)</td>  <th>  Log Likelihood     </th> <td>-172.015</td>\n",
       "</tr>\n",
       "<tr>\n",
       "  <th>Method:</th>             <td>css-mle</td>     <th>  S.D. of innovations</th>  <td>10.764</td> \n",
       "</tr>\n",
       "<tr>\n",
       "  <th>Date:</th>          <td>Fri, 22 Jan 2021</td> <th>  AIC                </th>  <td>360.029</td>\n",
       "</tr>\n",
       "<tr>\n",
       "  <th>Time:</th>              <td>01:46:05</td>     <th>  BIC                </th>  <td>374.483</td>\n",
       "</tr>\n",
       "<tr>\n",
       "  <th>Sample:</th>                <td>1</td>        <th>  HQIC               </th>  <td>365.417</td>\n",
       "</tr>\n",
       "<tr>\n",
       "  <th></th>                       <td> </td>        <th>                     </th>     <td> </td>   \n",
       "</tr>\n",
       "</table>\n",
       "<table class=\"simpletable\">\n",
       "<tr>\n",
       "      <td></td>         <th>coef</th>     <th>std err</th>      <th>z</th>      <th>P>|z|</th>  <th>[0.025</th>    <th>0.975]</th>  \n",
       "</tr>\n",
       "<tr>\n",
       "  <th>const</th>     <td>    3.0936</td> <td>    0.389</td> <td>    7.952</td> <td> 0.000</td> <td>    2.331</td> <td>    3.856</td>\n",
       "</tr>\n",
       "<tr>\n",
       "  <th>ar.L1.D.y</th> <td>    0.9616</td> <td>    0.150</td> <td>    6.397</td> <td> 0.000</td> <td>    0.667</td> <td>    1.256</td>\n",
       "</tr>\n",
       "<tr>\n",
       "  <th>ar.L2.D.y</th> <td>   -0.1990</td> <td>    0.205</td> <td>   -0.970</td> <td> 0.332</td> <td>   -0.601</td> <td>    0.203</td>\n",
       "</tr>\n",
       "<tr>\n",
       "  <th>ar.L3.D.y</th> <td>   -0.1691</td> <td>    0.205</td> <td>   -0.826</td> <td> 0.409</td> <td>   -0.570</td> <td>    0.232</td>\n",
       "</tr>\n",
       "<tr>\n",
       "  <th>ar.L4.D.y</th> <td>    0.1510</td> <td>    0.202</td> <td>    0.746</td> <td> 0.455</td> <td>   -0.245</td> <td>    0.547</td>\n",
       "</tr>\n",
       "<tr>\n",
       "  <th>ar.L5.D.y</th> <td>   -0.0274</td> <td>    0.149</td> <td>   -0.183</td> <td> 0.855</td> <td>   -0.320</td> <td>    0.266</td>\n",
       "</tr>\n",
       "<tr>\n",
       "  <th>ma.L1.D.y</th> <td>   -0.9999</td> <td>    0.072</td> <td>  -13.943</td> <td> 0.000</td> <td>   -1.141</td> <td>   -0.859</td>\n",
       "</tr>\n",
       "</table>\n",
       "<table class=\"simpletable\">\n",
       "<caption>Roots</caption>\n",
       "<tr>\n",
       "    <td></td>   <th>            Real</th>  <th>         Imaginary</th> <th>         Modulus</th>  <th>        Frequency</th>\n",
       "</tr>\n",
       "<tr>\n",
       "  <th>AR.1</th> <td>          -1.8550</td> <td>          -0.0000j</td> <td>           1.8550</td> <td>          -0.5000</td>\n",
       "</tr>\n",
       "<tr>\n",
       "  <th>AR.2</th> <td>           1.5339</td> <td>          -0.0000j</td> <td>           1.5339</td> <td>          -0.0000</td>\n",
       "</tr>\n",
       "<tr>\n",
       "  <th>AR.3</th> <td>           0.9775</td> <td>          -1.5333j</td> <td>           1.8184</td> <td>          -0.1597</td>\n",
       "</tr>\n",
       "<tr>\n",
       "  <th>AR.4</th> <td>           0.9775</td> <td>          +1.5333j</td> <td>           1.8184</td> <td>           0.1597</td>\n",
       "</tr>\n",
       "<tr>\n",
       "  <th>AR.5</th> <td>           3.8837</td> <td>          -0.0000j</td> <td>           3.8837</td> <td>          -0.0000</td>\n",
       "</tr>\n",
       "<tr>\n",
       "  <th>MA.1</th> <td>           1.0001</td> <td>          +0.0000j</td> <td>           1.0001</td> <td>           0.0000</td>\n",
       "</tr>\n",
       "</table>"
      ],
      "text/plain": [
       "<class 'statsmodels.iolib.summary.Summary'>\n",
       "\"\"\"\n",
       "                             ARIMA Model Results                              \n",
       "==============================================================================\n",
       "Dep. Variable:                    D.y   No. Observations:                   45\n",
       "Model:                 ARIMA(5, 1, 1)   Log Likelihood                -172.015\n",
       "Method:                       css-mle   S.D. of innovations             10.764\n",
       "Date:                Fri, 22 Jan 2021   AIC                            360.029\n",
       "Time:                        01:46:05   BIC                            374.483\n",
       "Sample:                             1   HQIC                           365.417\n",
       "                                                                              \n",
       "==============================================================================\n",
       "                 coef    std err          z      P>|z|      [0.025      0.975]\n",
       "------------------------------------------------------------------------------\n",
       "const          3.0936      0.389      7.952      0.000       2.331       3.856\n",
       "ar.L1.D.y      0.9616      0.150      6.397      0.000       0.667       1.256\n",
       "ar.L2.D.y     -0.1990      0.205     -0.970      0.332      -0.601       0.203\n",
       "ar.L3.D.y     -0.1691      0.205     -0.826      0.409      -0.570       0.232\n",
       "ar.L4.D.y      0.1510      0.202      0.746      0.455      -0.245       0.547\n",
       "ar.L5.D.y     -0.0274      0.149     -0.183      0.855      -0.320       0.266\n",
       "ma.L1.D.y     -0.9999      0.072    -13.943      0.000      -1.141      -0.859\n",
       "                                    Roots                                    \n",
       "=============================================================================\n",
       "                  Real          Imaginary           Modulus         Frequency\n",
       "-----------------------------------------------------------------------------\n",
       "AR.1           -1.8550           -0.0000j            1.8550           -0.5000\n",
       "AR.2            1.5339           -0.0000j            1.5339           -0.0000\n",
       "AR.3            0.9775           -1.5333j            1.8184           -0.1597\n",
       "AR.4            0.9775           +1.5333j            1.8184            0.1597\n",
       "AR.5            3.8837           -0.0000j            3.8837           -0.0000\n",
       "MA.1            1.0001           +0.0000j            1.0001            0.0000\n",
       "-----------------------------------------------------------------------------\n",
       "\"\"\""
      ]
     },
     "execution_count": 11,
     "metadata": {},
     "output_type": "execute_result"
    }
   ],
   "source": [
    "# Forecasting the AMZN adj closing price using an ARIMA Model\n",
    "from statsmodels.tsa.arima_model import ARIMA\n",
    "\n",
    "# Estimate and ARIMA Model with 5 lagged observations:\n",
    "amzn_arima_model = ARIMA(amzn_df.AMZN.values, order=(5,1,1))\n",
    "\n",
    "# Fit the model\n",
    "amzn_arima_results = amzn_arima_model.fit()\n",
    "\n",
    "# Output model summary results:\n",
    "amzn_arima_results.summary()"
   ]
  },
  {
   "cell_type": "code",
   "execution_count": 12,
   "metadata": {},
   "outputs": [
    {
     "data": {
      "text/html": [
       "<table class=\"simpletable\">\n",
       "<caption>ARIMA Model Results</caption>\n",
       "<tr>\n",
       "  <th>Dep. Variable:</th>        <td>D.y</td>       <th>  No. Observations:  </th>    <td>45</td>   \n",
       "</tr>\n",
       "<tr>\n",
       "  <th>Model:</th>          <td>ARIMA(8, 1, 1)</td>  <th>  Log Likelihood     </th> <td>-171.518</td>\n",
       "</tr>\n",
       "<tr>\n",
       "  <th>Method:</th>             <td>css-mle</td>     <th>  S.D. of innovations</th>  <td>10.612</td> \n",
       "</tr>\n",
       "<tr>\n",
       "  <th>Date:</th>          <td>Fri, 22 Jan 2021</td> <th>  AIC                </th>  <td>365.037</td>\n",
       "</tr>\n",
       "<tr>\n",
       "  <th>Time:</th>              <td>01:46:08</td>     <th>  BIC                </th>  <td>384.910</td>\n",
       "</tr>\n",
       "<tr>\n",
       "  <th>Sample:</th>                <td>1</td>        <th>  HQIC               </th>  <td>372.445</td>\n",
       "</tr>\n",
       "<tr>\n",
       "  <th></th>                       <td> </td>        <th>                     </th>     <td> </td>   \n",
       "</tr>\n",
       "</table>\n",
       "<table class=\"simpletable\">\n",
       "<tr>\n",
       "      <td></td>         <th>coef</th>     <th>std err</th>      <th>z</th>      <th>P>|z|</th>  <th>[0.025</th>    <th>0.975]</th>  \n",
       "</tr>\n",
       "<tr>\n",
       "  <th>const</th>     <td>    3.1127</td> <td>    0.376</td> <td>    8.268</td> <td> 0.000</td> <td>    2.375</td> <td>    3.851</td>\n",
       "</tr>\n",
       "<tr>\n",
       "  <th>ar.L1.D.y</th> <td>    0.9597</td> <td>    0.149</td> <td>    6.458</td> <td> 0.000</td> <td>    0.668</td> <td>    1.251</td>\n",
       "</tr>\n",
       "<tr>\n",
       "  <th>ar.L2.D.y</th> <td>   -0.1998</td> <td>    0.205</td> <td>   -0.975</td> <td> 0.329</td> <td>   -0.601</td> <td>    0.202</td>\n",
       "</tr>\n",
       "<tr>\n",
       "  <th>ar.L3.D.y</th> <td>   -0.1730</td> <td>    0.206</td> <td>   -0.839</td> <td> 0.401</td> <td>   -0.577</td> <td>    0.231</td>\n",
       "</tr>\n",
       "<tr>\n",
       "  <th>ar.L4.D.y</th> <td>    0.1878</td> <td>    0.207</td> <td>    0.907</td> <td> 0.364</td> <td>   -0.218</td> <td>    0.594</td>\n",
       "</tr>\n",
       "<tr>\n",
       "  <th>ar.L5.D.y</th> <td>   -0.1184</td> <td>    0.204</td> <td>   -0.581</td> <td> 0.561</td> <td>   -0.518</td> <td>    0.281</td>\n",
       "</tr>\n",
       "<tr>\n",
       "  <th>ar.L6.D.y</th> <td>    0.0508</td> <td>    0.202</td> <td>    0.251</td> <td> 0.802</td> <td>   -0.346</td> <td>    0.448</td>\n",
       "</tr>\n",
       "<tr>\n",
       "  <th>ar.L7.D.y</th> <td>    0.1084</td> <td>    0.200</td> <td>    0.543</td> <td> 0.587</td> <td>   -0.283</td> <td>    0.500</td>\n",
       "</tr>\n",
       "<tr>\n",
       "  <th>ar.L8.D.y</th> <td>   -0.1264</td> <td>    0.145</td> <td>   -0.873</td> <td> 0.383</td> <td>   -0.410</td> <td>    0.157</td>\n",
       "</tr>\n",
       "<tr>\n",
       "  <th>ma.L1.D.y</th> <td>   -0.9999</td> <td>    0.075</td> <td>  -13.273</td> <td> 0.000</td> <td>   -1.148</td> <td>   -0.852</td>\n",
       "</tr>\n",
       "</table>\n",
       "<table class=\"simpletable\">\n",
       "<caption>Roots</caption>\n",
       "<tr>\n",
       "    <td></td>   <th>            Real</th>  <th>         Imaginary</th> <th>         Modulus</th>  <th>        Frequency</th>\n",
       "</tr>\n",
       "<tr>\n",
       "  <th>AR.1</th> <td>          -1.3063</td> <td>          -0.4746j</td> <td>           1.3899</td> <td>          -0.4445</td>\n",
       "</tr>\n",
       "<tr>\n",
       "  <th>AR.2</th> <td>          -1.3063</td> <td>          +0.4746j</td> <td>           1.3899</td> <td>           0.4445</td>\n",
       "</tr>\n",
       "<tr>\n",
       "  <th>AR.3</th> <td>          -0.2156</td> <td>          -1.3113j</td> <td>           1.3289</td> <td>          -0.2759</td>\n",
       "</tr>\n",
       "<tr>\n",
       "  <th>AR.4</th> <td>          -0.2156</td> <td>          +1.3113j</td> <td>           1.3289</td> <td>           0.2759</td>\n",
       "</tr>\n",
       "<tr>\n",
       "  <th>AR.5</th> <td>           0.7509</td> <td>          -0.9718j</td> <td>           1.2281</td> <td>          -0.1453</td>\n",
       "</tr>\n",
       "<tr>\n",
       "  <th>AR.6</th> <td>           0.7509</td> <td>          +0.9718j</td> <td>           1.2281</td> <td>           0.1453</td>\n",
       "</tr>\n",
       "<tr>\n",
       "  <th>AR.7</th> <td>           1.2000</td> <td>          -0.3128j</td> <td>           1.2401</td> <td>          -0.0406</td>\n",
       "</tr>\n",
       "<tr>\n",
       "  <th>AR.8</th> <td>           1.2000</td> <td>          +0.3128j</td> <td>           1.2401</td> <td>           0.0406</td>\n",
       "</tr>\n",
       "<tr>\n",
       "  <th>MA.1</th> <td>           1.0001</td> <td>          +0.0000j</td> <td>           1.0001</td> <td>           0.0000</td>\n",
       "</tr>\n",
       "</table>"
      ],
      "text/plain": [
       "<class 'statsmodels.iolib.summary.Summary'>\n",
       "\"\"\"\n",
       "                             ARIMA Model Results                              \n",
       "==============================================================================\n",
       "Dep. Variable:                    D.y   No. Observations:                   45\n",
       "Model:                 ARIMA(8, 1, 1)   Log Likelihood                -171.518\n",
       "Method:                       css-mle   S.D. of innovations             10.612\n",
       "Date:                Fri, 22 Jan 2021   AIC                            365.037\n",
       "Time:                        01:46:08   BIC                            384.910\n",
       "Sample:                             1   HQIC                           372.445\n",
       "                                                                              \n",
       "==============================================================================\n",
       "                 coef    std err          z      P>|z|      [0.025      0.975]\n",
       "------------------------------------------------------------------------------\n",
       "const          3.1127      0.376      8.268      0.000       2.375       3.851\n",
       "ar.L1.D.y      0.9597      0.149      6.458      0.000       0.668       1.251\n",
       "ar.L2.D.y     -0.1998      0.205     -0.975      0.329      -0.601       0.202\n",
       "ar.L3.D.y     -0.1730      0.206     -0.839      0.401      -0.577       0.231\n",
       "ar.L4.D.y      0.1878      0.207      0.907      0.364      -0.218       0.594\n",
       "ar.L5.D.y     -0.1184      0.204     -0.581      0.561      -0.518       0.281\n",
       "ar.L6.D.y      0.0508      0.202      0.251      0.802      -0.346       0.448\n",
       "ar.L7.D.y      0.1084      0.200      0.543      0.587      -0.283       0.500\n",
       "ar.L8.D.y     -0.1264      0.145     -0.873      0.383      -0.410       0.157\n",
       "ma.L1.D.y     -0.9999      0.075    -13.273      0.000      -1.148      -0.852\n",
       "                                    Roots                                    \n",
       "=============================================================================\n",
       "                  Real          Imaginary           Modulus         Frequency\n",
       "-----------------------------------------------------------------------------\n",
       "AR.1           -1.3063           -0.4746j            1.3899           -0.4445\n",
       "AR.2           -1.3063           +0.4746j            1.3899            0.4445\n",
       "AR.3           -0.2156           -1.3113j            1.3289           -0.2759\n",
       "AR.4           -0.2156           +1.3113j            1.3289            0.2759\n",
       "AR.5            0.7509           -0.9718j            1.2281           -0.1453\n",
       "AR.6            0.7509           +0.9718j            1.2281            0.1453\n",
       "AR.7            1.2000           -0.3128j            1.2401           -0.0406\n",
       "AR.8            1.2000           +0.3128j            1.2401            0.0406\n",
       "MA.1            1.0001           +0.0000j            1.0001            0.0000\n",
       "-----------------------------------------------------------------------------\n",
       "\"\"\""
      ]
     },
     "execution_count": 12,
     "metadata": {},
     "output_type": "execute_result"
    }
   ],
   "source": [
    "# Estimate and ARIMA Model with 8 lagged observations:\n",
    "amzn_arima_model_2 = ARIMA(amzn_df.AMZN.values, order=(8,1,1))\n",
    "\n",
    "# Fit the model\n",
    "amzn_arima_results_2 = amzn_arima_model_2.fit()\n",
    "\n",
    "# Output model summary results:\n",
    "amzn_arima_results_2.summary()"
   ]
  },
  {
   "cell_type": "code",
   "execution_count": 13,
   "metadata": {},
   "outputs": [
    {
     "data": {
      "text/plain": [
       "<matplotlib.axes._subplots.AxesSubplot at 0x7fda7cf9e160>"
      ]
     },
     "execution_count": 13,
     "metadata": {},
     "output_type": "execute_result"
    },
    {
     "data": {
      "image/png": "[encoded data removed]",
      "text/plain": [
       "<Figure size 432x288 with 1 Axes>"
      ]
     },
     "metadata": {
      "needs_background": "light"
     },
     "output_type": "display_data"
    }
   ],
   "source": [
    "# Plot the 5 Day Price Forecast for Amazon for ARIMA model with 5 lag observations\n",
    "pd.DataFrame(amzn_arima_results.forecast(steps=5)[0]).plot(title=\"Amazon's 5 Day Future Price Forecast with 5 Lag Observations\")"
   ]
  },
  {
   "cell_type": "code",
   "execution_count": 14,
   "metadata": {},
   "outputs": [
    {
     "data": {
      "text/plain": [
       "<matplotlib.axes._subplots.AxesSubplot at 0x7fda7d87e5e0>"
      ]
     },
     "execution_count": 14,
     "metadata": {},
     "output_type": "execute_result"
    },
    {
     "data": {
      "image/png": "[encoded data removed]",
      "text/plain": [
       "<Figure size 432x288 with 1 Axes>"
      ]
     },
     "metadata": {
      "needs_background": "light"
     },
     "output_type": "display_data"
    }
   ],
   "source": [
    "# Plot the 5 Day Price Forecast for Amazon for ARIMA model with 8 lag observations\n",
    "pd.DataFrame(amzn_arima_results_2.forecast(steps=5)[0]).plot(title=\"Amazon's 5 Day Future Price Forecast with 8 Lag Observations\")"
   ]
  },
  {
   "cell_type": "code",
   "execution_count": 15,
   "metadata": {},
   "outputs": [
    {
     "data": {
      "text/html": [
       "<div>\n",
       "<style scoped>\n",
       "    .dataframe tbody tr th:only-of-type {\n",
       "        vertical-align: middle;\n",
       "    }\n",
       "\n",
       "    .dataframe tbody tr th {\n",
       "        vertical-align: top;\n",
       "    }\n",
       "\n",
       "    .dataframe thead th {\n",
       "        text-align: right;\n",
       "    }\n",
       "</style>\n",
       "<table border=\"1\" class=\"dataframe\">\n",
       "  <thead>\n",
       "    <tr style=\"text-align: right;\">\n",
       "      <th></th>\n",
       "      <th>AAPL</th>\n",
       "      <th>Return</th>\n",
       "    </tr>\n",
       "    <tr>\n",
       "      <th>Date</th>\n",
       "      <th></th>\n",
       "      <th></th>\n",
       "    </tr>\n",
       "  </thead>\n",
       "  <tbody>\n",
       "    <tr>\n",
       "      <th>2016-04-05</th>\n",
       "      <td>25.571972</td>\n",
       "      <td>4.593311</td>\n",
       "    </tr>\n",
       "    <tr>\n",
       "      <th>2016-04-06</th>\n",
       "      <td>25.839775</td>\n",
       "      <td>4.615588</td>\n",
       "    </tr>\n",
       "    <tr>\n",
       "      <th>2016-04-07</th>\n",
       "      <td>25.276215</td>\n",
       "      <td>4.583119</td>\n",
       "    </tr>\n",
       "    <tr>\n",
       "      <th>2016-04-08</th>\n",
       "      <td>25.304159</td>\n",
       "      <td>4.606275</td>\n",
       "    </tr>\n",
       "    <tr>\n",
       "      <th>2016-04-11</th>\n",
       "      <td>25.387993</td>\n",
       "      <td>4.608478</td>\n",
       "    </tr>\n",
       "  </tbody>\n",
       "</table>\n",
       "</div>"
      ],
      "text/plain": [
       "                 AAPL    Return\n",
       "Date                           \n",
       "2016-04-05  25.571972  4.593311\n",
       "2016-04-06  25.839775  4.615588\n",
       "2016-04-07  25.276215  4.583119\n",
       "2016-04-08  25.304159  4.606275\n",
       "2016-04-11  25.387993  4.608478"
      ]
     },
     "execution_count": 15,
     "metadata": {},
     "output_type": "execute_result"
    }
   ],
   "source": [
    "# Create a series using Apple's price percentage returns, normalize, drop any nan\"s, and check the results:\n",
    "aapl_df = stock_df.loc[:,[\"AAPL\"]]\n",
    "aapl_daily_returns = stock_df.AAPL.pct_change() * 100\n",
    "aapl_df[\"Return\"] = np.log(aapl_daily_returns + 100)\n",
    "aapl_df = aapl_df.replace(-np.inf, np.nan).dropna()\n",
    "aapl_df.head()"
   ]
  },
  {
   "cell_type": "code",
   "execution_count": 16,
   "metadata": {},
   "outputs": [
    {
     "data": {
      "image/png": "[encoded data removed]",
      "text/plain": [
       "<Figure size 720x720 with 1 Axes>"
      ]
     },
     "metadata": {
      "needs_background": "light"
     },
     "output_type": "display_data"
    }
   ],
   "source": [
    "# plot historical adj close price for Apple\n",
    "AAPL_plot = stock_df.AAPL.plot(title=\"Historical Adjusted Closing Price for Apple from April 2016 - June 2016\", figsize=(10,10))"
   ]
  },
  {
   "cell_type": "code",
   "execution_count": 17,
   "metadata": {},
   "outputs": [
    {
     "data": {
      "text/plain": [
       "<matplotlib.axes._subplots.AxesSubplot at 0x7fda7d9fb910>"
      ]
     },
     "execution_count": 17,
     "metadata": {},
     "output_type": "execute_result"
    },
    {
     "data": {
      "image/png": "[encoded data removed]",
      "text/plain": [
       "<Figure size 432x288 with 1 Axes>"
      ]
     },
     "metadata": {
      "needs_background": "light"
     },
     "output_type": "display_data"
    }
   ],
   "source": [
    "# Differencing AAPL adj close price stationarizes the time series\n",
    "aapl_df.AAPL.diff().plot()"
   ]
  },
  {
   "cell_type": "code",
   "execution_count": 18,
   "metadata": {},
   "outputs": [
    {
     "data": {
      "image/png": "[encoded data removed]",
      "text/plain": [
       "<Figure size 432x288 with 1 Axes>"
      ]
     },
     "metadata": {
      "needs_background": "light"
     },
     "output_type": "display_data"
    }
   ],
   "source": [
    "# Plot the autocorrelation of AAPL adj close prices\n",
    "plot_acf(aapl_df.AAPL, zero=False, lags=24);"
   ]
  },
  {
   "cell_type": "code",
   "execution_count": 19,
   "metadata": {},
   "outputs": [
    {
     "data": {
      "image/png": "[encoded data removed]",
      "text/plain": [
       "<Figure size 432x288 with 1 Axes>"
      ]
     },
     "metadata": {
      "needs_background": "light"
     },
     "output_type": "display_data"
    }
   ],
   "source": [
    "# Plot the partial autocorrelation of Apple's returns\n",
    "plot_pacf(aapl_df.AAPL, zero=False, lags=24);"
   ]
  },
  {
   "cell_type": "code",
   "execution_count": 20,
   "metadata": {},
   "outputs": [
    {
     "data": {
      "text/html": [
       "<div>\n",
       "<style scoped>\n",
       "    .dataframe tbody tr th:only-of-type {\n",
       "        vertical-align: middle;\n",
       "    }\n",
       "\n",
       "    .dataframe tbody tr th {\n",
       "        vertical-align: top;\n",
       "    }\n",
       "\n",
       "    .dataframe thead th {\n",
       "        text-align: right;\n",
       "    }\n",
       "</style>\n",
       "<table border=\"1\" class=\"dataframe\">\n",
       "  <thead>\n",
       "    <tr style=\"text-align: right;\">\n",
       "      <th></th>\n",
       "      <th>AAPL</th>\n",
       "      <th>Return</th>\n",
       "      <th>Lagged Return</th>\n",
       "    </tr>\n",
       "    <tr>\n",
       "      <th>Date</th>\n",
       "      <th></th>\n",
       "      <th></th>\n",
       "      <th></th>\n",
       "    </tr>\n",
       "  </thead>\n",
       "  <tbody>\n",
       "    <tr>\n",
       "      <th>2016-04-06</th>\n",
       "      <td>25.839775</td>\n",
       "      <td>4.615588</td>\n",
       "      <td>4.593311</td>\n",
       "    </tr>\n",
       "    <tr>\n",
       "      <th>2016-04-07</th>\n",
       "      <td>25.276215</td>\n",
       "      <td>4.583119</td>\n",
       "      <td>4.615588</td>\n",
       "    </tr>\n",
       "    <tr>\n",
       "      <th>2016-04-08</th>\n",
       "      <td>25.304159</td>\n",
       "      <td>4.606275</td>\n",
       "      <td>4.583119</td>\n",
       "    </tr>\n",
       "    <tr>\n",
       "      <th>2016-04-11</th>\n",
       "      <td>25.387993</td>\n",
       "      <td>4.608478</td>\n",
       "      <td>4.606275</td>\n",
       "    </tr>\n",
       "    <tr>\n",
       "      <th>2016-04-12</th>\n",
       "      <td>25.718679</td>\n",
       "      <td>4.618111</td>\n",
       "      <td>4.608478</td>\n",
       "    </tr>\n",
       "  </tbody>\n",
       "</table>\n",
       "</div>"
      ],
      "text/plain": [
       "                 AAPL    Return  Lagged Return\n",
       "Date                                          \n",
       "2016-04-06  25.839775  4.615588       4.593311\n",
       "2016-04-07  25.276215  4.583119       4.615588\n",
       "2016-04-08  25.304159  4.606275       4.583119\n",
       "2016-04-11  25.387993  4.608478       4.606275\n",
       "2016-04-12  25.718679  4.618111       4.608478"
      ]
     },
     "execution_count": 20,
     "metadata": {},
     "output_type": "execute_result"
    }
   ],
   "source": [
    "# Create a lagged return using the shift function\n",
    "aapl_lag_return = aapl_df[\"Return\"].shift()\n",
    "aapl_df[\"Lagged Return\"] = aapl_lag_return\n",
    "aapl_df = aapl_df.replace(-np.inf, np.nan).dropna()\n",
    "aapl_df.head()"
   ]
  },
  {
   "cell_type": "code",
   "execution_count": 21,
   "metadata": {},
   "outputs": [
    {
     "data": {
      "text/html": [
       "<div>\n",
       "<style scoped>\n",
       "    .dataframe tbody tr th:only-of-type {\n",
       "        vertical-align: middle;\n",
       "    }\n",
       "\n",
       "    .dataframe tbody tr th {\n",
       "        vertical-align: top;\n",
       "    }\n",
       "\n",
       "    .dataframe thead th {\n",
       "        text-align: right;\n",
       "    }\n",
       "</style>\n",
       "<table border=\"1\" class=\"dataframe\">\n",
       "  <thead>\n",
       "    <tr style=\"text-align: right;\">\n",
       "      <th></th>\n",
       "      <th>compound</th>\n",
       "    </tr>\n",
       "    <tr>\n",
       "      <th>Date</th>\n",
       "      <th></th>\n",
       "    </tr>\n",
       "  </thead>\n",
       "  <tbody>\n",
       "    <tr>\n",
       "      <th>2016-04-02</th>\n",
       "      <td>0.121392</td>\n",
       "    </tr>\n",
       "    <tr>\n",
       "      <th>2016-04-03</th>\n",
       "      <td>0.069846</td>\n",
       "    </tr>\n",
       "    <tr>\n",
       "      <th>2016-04-04</th>\n",
       "      <td>0.076840</td>\n",
       "    </tr>\n",
       "    <tr>\n",
       "      <th>2016-04-05</th>\n",
       "      <td>0.074800</td>\n",
       "    </tr>\n",
       "    <tr>\n",
       "      <th>2016-04-06</th>\n",
       "      <td>0.123945</td>\n",
       "    </tr>\n",
       "  </tbody>\n",
       "</table>\n",
       "</div>"
      ],
      "text/plain": [
       "            compound\n",
       "Date                \n",
       "2016-04-02  0.121392\n",
       "2016-04-03  0.069846\n",
       "2016-04-04  0.076840\n",
       "2016-04-05  0.074800\n",
       "2016-04-06  0.123945"
      ]
     },
     "execution_count": 21,
     "metadata": {},
     "output_type": "execute_result"
    }
   ],
   "source": [
    "# import sentiment data for Apple\n",
    "aapl_sentiment_data = Path('../Merged_data/aapl_sentiment.csv')\n",
    "aapl_sentiment = pd.read_csv(aapl_sentiment_data, index_col=\"Date\", infer_datetime_format=True, parse_dates=True)\n",
    "aapl_net_sentiment = aapl_sentiment.loc[:,[\"compound\"]]\n",
    "aapl_net_sentiment.head()"
   ]
  },
  {
   "cell_type": "code",
   "execution_count": 22,
   "metadata": {},
   "outputs": [
    {
     "data": {
      "text/html": [
       "<div>\n",
       "<style scoped>\n",
       "    .dataframe tbody tr th:only-of-type {\n",
       "        vertical-align: middle;\n",
       "    }\n",
       "\n",
       "    .dataframe tbody tr th {\n",
       "        vertical-align: top;\n",
       "    }\n",
       "\n",
       "    .dataframe thead th {\n",
       "        text-align: right;\n",
       "    }\n",
       "</style>\n",
       "<table border=\"1\" class=\"dataframe\">\n",
       "  <thead>\n",
       "    <tr style=\"text-align: right;\">\n",
       "      <th></th>\n",
       "      <th>AAPL</th>\n",
       "      <th>Return</th>\n",
       "      <th>Lagged Return</th>\n",
       "      <th>Lagged Sentiment</th>\n",
       "    </tr>\n",
       "    <tr>\n",
       "      <th>Date</th>\n",
       "      <th></th>\n",
       "      <th></th>\n",
       "      <th></th>\n",
       "      <th></th>\n",
       "    </tr>\n",
       "  </thead>\n",
       "  <tbody>\n",
       "    <tr>\n",
       "      <th>2016-04-06</th>\n",
       "      <td>25.839775</td>\n",
       "      <td>4.615588</td>\n",
       "      <td>4.593311</td>\n",
       "      <td>0.074800</td>\n",
       "    </tr>\n",
       "    <tr>\n",
       "      <th>2016-04-07</th>\n",
       "      <td>25.276215</td>\n",
       "      <td>4.583119</td>\n",
       "      <td>4.615588</td>\n",
       "      <td>0.123945</td>\n",
       "    </tr>\n",
       "    <tr>\n",
       "      <th>2016-04-08</th>\n",
       "      <td>25.304159</td>\n",
       "      <td>4.606275</td>\n",
       "      <td>4.583119</td>\n",
       "      <td>0.105394</td>\n",
       "    </tr>\n",
       "    <tr>\n",
       "      <th>2016-04-11</th>\n",
       "      <td>25.387993</td>\n",
       "      <td>4.608478</td>\n",
       "      <td>4.606275</td>\n",
       "      <td>0.096676</td>\n",
       "    </tr>\n",
       "    <tr>\n",
       "      <th>2016-04-12</th>\n",
       "      <td>25.718679</td>\n",
       "      <td>4.618111</td>\n",
       "      <td>4.608478</td>\n",
       "      <td>0.113251</td>\n",
       "    </tr>\n",
       "  </tbody>\n",
       "</table>\n",
       "</div>"
      ],
      "text/plain": [
       "                 AAPL    Return  Lagged Return  Lagged Sentiment\n",
       "Date                                                            \n",
       "2016-04-06  25.839775  4.615588       4.593311          0.074800\n",
       "2016-04-07  25.276215  4.583119       4.615588          0.123945\n",
       "2016-04-08  25.304159  4.606275       4.583119          0.105394\n",
       "2016-04-11  25.387993  4.608478       4.606275          0.096676\n",
       "2016-04-12  25.718679  4.618111       4.608478          0.113251"
      ]
     },
     "execution_count": 22,
     "metadata": {},
     "output_type": "execute_result"
    }
   ],
   "source": [
    "# create lagged sentiment data for Appe with shift function and add to the exisiting Apple dataframe\n",
    "aapl_lagged_sentiment = aapl_net_sentiment.shift()\n",
    "aapl_df[\"Lagged Sentiment\"] = aapl_lagged_sentiment\n",
    "aapl_df = aapl_df.dropna()\n",
    "aapl_df.head()"
   ]
  },
  {
   "cell_type": "code",
   "execution_count": 23,
   "metadata": {},
   "outputs": [
    {
     "data": {
      "text/html": [
       "<table class=\"simpletable\">\n",
       "<caption>ARIMA Model Results</caption>\n",
       "<tr>\n",
       "  <th>Dep. Variable:</th>        <td>D.y</td>       <th>  No. Observations:  </th>   <td>44</td>   \n",
       "</tr>\n",
       "<tr>\n",
       "  <th>Model:</th>          <td>ARIMA(5, 1, 1)</td>  <th>  Log Likelihood     </th> <td>-13.833</td>\n",
       "</tr>\n",
       "<tr>\n",
       "  <th>Method:</th>             <td>css-mle</td>     <th>  S.D. of innovations</th>  <td>0.330</td> \n",
       "</tr>\n",
       "<tr>\n",
       "  <th>Date:</th>          <td>Fri, 22 Jan 2021</td> <th>  AIC                </th> <td>43.666</td> \n",
       "</tr>\n",
       "<tr>\n",
       "  <th>Time:</th>              <td>01:46:21</td>     <th>  BIC                </th> <td>57.940</td> \n",
       "</tr>\n",
       "<tr>\n",
       "  <th>Sample:</th>                <td>1</td>        <th>  HQIC               </th> <td>48.959</td> \n",
       "</tr>\n",
       "<tr>\n",
       "  <th></th>                       <td> </td>        <th>                     </th>    <td> </td>   \n",
       "</tr>\n",
       "</table>\n",
       "<table class=\"simpletable\">\n",
       "<tr>\n",
       "      <td></td>         <th>coef</th>     <th>std err</th>      <th>z</th>      <th>P>|z|</th>  <th>[0.025</th>    <th>0.975]</th>  \n",
       "</tr>\n",
       "<tr>\n",
       "  <th>const</th>     <td>   -0.0750</td> <td>    0.083</td> <td>   -0.901</td> <td> 0.368</td> <td>   -0.238</td> <td>    0.088</td>\n",
       "</tr>\n",
       "<tr>\n",
       "  <th>ar.L1.D.y</th> <td>    0.9396</td> <td>    0.478</td> <td>    1.965</td> <td> 0.049</td> <td>    0.002</td> <td>    1.877</td>\n",
       "</tr>\n",
       "<tr>\n",
       "  <th>ar.L2.D.y</th> <td>   -0.2745</td> <td>    0.292</td> <td>   -0.942</td> <td> 0.346</td> <td>   -0.846</td> <td>    0.297</td>\n",
       "</tr>\n",
       "<tr>\n",
       "  <th>ar.L3.D.y</th> <td>   -0.1100</td> <td>    0.216</td> <td>   -0.508</td> <td> 0.611</td> <td>   -0.534</td> <td>    0.314</td>\n",
       "</tr>\n",
       "<tr>\n",
       "  <th>ar.L4.D.y</th> <td>    0.0876</td> <td>    0.225</td> <td>    0.389</td> <td> 0.697</td> <td>   -0.354</td> <td>    0.529</td>\n",
       "</tr>\n",
       "<tr>\n",
       "  <th>ar.L5.D.y</th> <td>    0.0851</td> <td>    0.164</td> <td>    0.518</td> <td> 0.605</td> <td>   -0.237</td> <td>    0.408</td>\n",
       "</tr>\n",
       "<tr>\n",
       "  <th>ma.L1.D.y</th> <td>   -0.5258</td> <td>    0.457</td> <td>   -1.151</td> <td> 0.250</td> <td>   -1.421</td> <td>    0.369</td>\n",
       "</tr>\n",
       "</table>\n",
       "<table class=\"simpletable\">\n",
       "<caption>Roots</caption>\n",
       "<tr>\n",
       "    <td></td>   <th>            Real</th>  <th>         Imaginary</th> <th>         Modulus</th>  <th>        Frequency</th>\n",
       "</tr>\n",
       "<tr>\n",
       "  <th>AR.1</th> <td>           1.2470</td> <td>          -0.0000j</td> <td>           1.2470</td> <td>          -0.0000</td>\n",
       "</tr>\n",
       "<tr>\n",
       "  <th>AR.2</th> <td>           0.7404</td> <td>          -1.1018j</td> <td>           1.3274</td> <td>          -0.1558</td>\n",
       "</tr>\n",
       "<tr>\n",
       "  <th>AR.3</th> <td>           0.7404</td> <td>          +1.1018j</td> <td>           1.3274</td> <td>           0.1558</td>\n",
       "</tr>\n",
       "<tr>\n",
       "  <th>AR.4</th> <td>          -1.8781</td> <td>          -1.3485j</td> <td>           2.3121</td> <td>          -0.4009</td>\n",
       "</tr>\n",
       "<tr>\n",
       "  <th>AR.5</th> <td>          -1.8781</td> <td>          +1.3485j</td> <td>           2.3121</td> <td>           0.4009</td>\n",
       "</tr>\n",
       "<tr>\n",
       "  <th>MA.1</th> <td>           1.9020</td> <td>          +0.0000j</td> <td>           1.9020</td> <td>           0.0000</td>\n",
       "</tr>\n",
       "</table>"
      ],
      "text/plain": [
       "<class 'statsmodels.iolib.summary.Summary'>\n",
       "\"\"\"\n",
       "                             ARIMA Model Results                              \n",
       "==============================================================================\n",
       "Dep. Variable:                    D.y   No. Observations:                   44\n",
       "Model:                 ARIMA(5, 1, 1)   Log Likelihood                 -13.833\n",
       "Method:                       css-mle   S.D. of innovations              0.330\n",
       "Date:                Fri, 22 Jan 2021   AIC                             43.666\n",
       "Time:                        01:46:21   BIC                             57.940\n",
       "Sample:                             1   HQIC                            48.959\n",
       "                                                                              \n",
       "==============================================================================\n",
       "                 coef    std err          z      P>|z|      [0.025      0.975]\n",
       "------------------------------------------------------------------------------\n",
       "const         -0.0750      0.083     -0.901      0.368      -0.238       0.088\n",
       "ar.L1.D.y      0.9396      0.478      1.965      0.049       0.002       1.877\n",
       "ar.L2.D.y     -0.2745      0.292     -0.942      0.346      -0.846       0.297\n",
       "ar.L3.D.y     -0.1100      0.216     -0.508      0.611      -0.534       0.314\n",
       "ar.L4.D.y      0.0876      0.225      0.389      0.697      -0.354       0.529\n",
       "ar.L5.D.y      0.0851      0.164      0.518      0.605      -0.237       0.408\n",
       "ma.L1.D.y     -0.5258      0.457     -1.151      0.250      -1.421       0.369\n",
       "                                    Roots                                    \n",
       "=============================================================================\n",
       "                  Real          Imaginary           Modulus         Frequency\n",
       "-----------------------------------------------------------------------------\n",
       "AR.1            1.2470           -0.0000j            1.2470           -0.0000\n",
       "AR.2            0.7404           -1.1018j            1.3274           -0.1558\n",
       "AR.3            0.7404           +1.1018j            1.3274            0.1558\n",
       "AR.4           -1.8781           -1.3485j            2.3121           -0.4009\n",
       "AR.5           -1.8781           +1.3485j            2.3121            0.4009\n",
       "MA.1            1.9020           +0.0000j            1.9020            0.0000\n",
       "-----------------------------------------------------------------------------\n",
       "\"\"\""
      ]
     },
     "execution_count": 23,
     "metadata": {},
     "output_type": "execute_result"
    }
   ],
   "source": [
    "# Estimate and ARIMA Model for Apple with 5 lagged observations:\n",
    "aapl_arima_model = ARIMA(aapl_df.AAPL.values, order=(5,1,1))\n",
    "\n",
    "# Fit the model\n",
    "aapl_arima_results = aapl_arima_model.fit()\n",
    "\n",
    "# Output model summary results:\n",
    "aapl_arima_results.summary()"
   ]
  },
  {
   "cell_type": "code",
   "execution_count": 24,
   "metadata": {},
   "outputs": [
    {
     "data": {
      "text/html": [
       "<table class=\"simpletable\">\n",
       "<caption>ARIMA Model Results</caption>\n",
       "<tr>\n",
       "  <th>Dep. Variable:</th>        <td>D.y</td>       <th>  No. Observations:  </th>   <td>44</td>   \n",
       "</tr>\n",
       "<tr>\n",
       "  <th>Model:</th>          <td>ARIMA(8, 1, 1)</td>  <th>  Log Likelihood     </th> <td>-13.270</td>\n",
       "</tr>\n",
       "<tr>\n",
       "  <th>Method:</th>             <td>css-mle</td>     <th>  S.D. of innovations</th>  <td>0.325</td> \n",
       "</tr>\n",
       "<tr>\n",
       "  <th>Date:</th>          <td>Fri, 22 Jan 2021</td> <th>  AIC                </th> <td>48.540</td> \n",
       "</tr>\n",
       "<tr>\n",
       "  <th>Time:</th>              <td>01:46:23</td>     <th>  BIC                </th> <td>68.166</td> \n",
       "</tr>\n",
       "<tr>\n",
       "  <th>Sample:</th>                <td>1</td>        <th>  HQIC               </th> <td>55.819</td> \n",
       "</tr>\n",
       "<tr>\n",
       "  <th></th>                       <td> </td>        <th>                     </th>    <td> </td>   \n",
       "</tr>\n",
       "</table>\n",
       "<table class=\"simpletable\">\n",
       "<tr>\n",
       "      <td></td>         <th>coef</th>     <th>std err</th>      <th>z</th>      <th>P>|z|</th>  <th>[0.025</th>    <th>0.975]</th>  \n",
       "</tr>\n",
       "<tr>\n",
       "  <th>const</th>     <td>   -0.0769</td> <td>    0.088</td> <td>   -0.875</td> <td> 0.381</td> <td>   -0.249</td> <td>    0.095</td>\n",
       "</tr>\n",
       "<tr>\n",
       "  <th>ar.L1.D.y</th> <td>    0.2649</td> <td>    1.626</td> <td>    0.163</td> <td> 0.871</td> <td>   -2.922</td> <td>    3.452</td>\n",
       "</tr>\n",
       "<tr>\n",
       "  <th>ar.L2.D.y</th> <td>   -0.0042</td> <td>    0.708</td> <td>   -0.006</td> <td> 0.995</td> <td>   -1.393</td> <td>    1.384</td>\n",
       "</tr>\n",
       "<tr>\n",
       "  <th>ar.L3.D.y</th> <td>   -0.1667</td> <td>    0.196</td> <td>   -0.850</td> <td> 0.395</td> <td>   -0.551</td> <td>    0.218</td>\n",
       "</tr>\n",
       "<tr>\n",
       "  <th>ar.L4.D.y</th> <td>    0.0070</td> <td>    0.287</td> <td>    0.024</td> <td> 0.981</td> <td>   -0.555</td> <td>    0.569</td>\n",
       "</tr>\n",
       "<tr>\n",
       "  <th>ar.L5.D.y</th> <td>    0.1198</td> <td>    0.162</td> <td>    0.739</td> <td> 0.460</td> <td>   -0.198</td> <td>    0.438</td>\n",
       "</tr>\n",
       "<tr>\n",
       "  <th>ar.L6.D.y</th> <td>   -0.0428</td> <td>    0.236</td> <td>   -0.182</td> <td> 0.856</td> <td>   -0.505</td> <td>    0.419</td>\n",
       "</tr>\n",
       "<tr>\n",
       "  <th>ar.L7.D.y</th> <td>    0.1476</td> <td>    0.180</td> <td>    0.821</td> <td> 0.412</td> <td>   -0.205</td> <td>    0.500</td>\n",
       "</tr>\n",
       "<tr>\n",
       "  <th>ar.L8.D.y</th> <td>    0.0670</td> <td>    0.309</td> <td>    0.217</td> <td> 0.829</td> <td>   -0.539</td> <td>    0.673</td>\n",
       "</tr>\n",
       "<tr>\n",
       "  <th>ma.L1.D.y</th> <td>    0.1551</td> <td>    1.624</td> <td>    0.095</td> <td> 0.924</td> <td>   -3.029</td> <td>    3.339</td>\n",
       "</tr>\n",
       "</table>\n",
       "<table class=\"simpletable\">\n",
       "<caption>Roots</caption>\n",
       "<tr>\n",
       "    <td></td>   <th>            Real</th>  <th>         Imaginary</th> <th>         Modulus</th>  <th>        Frequency</th>\n",
       "</tr>\n",
       "<tr>\n",
       "  <th>AR.1</th> <td>           1.1950</td> <td>          -0.0000j</td> <td>           1.1950</td> <td>          -0.0000</td>\n",
       "</tr>\n",
       "<tr>\n",
       "  <th>AR.2</th> <td>           0.7712</td> <td>          -0.9146j</td> <td>           1.1963</td> <td>          -0.1385</td>\n",
       "</tr>\n",
       "<tr>\n",
       "  <th>AR.3</th> <td>           0.7712</td> <td>          +0.9146j</td> <td>           1.1963</td> <td>           0.1385</td>\n",
       "</tr>\n",
       "<tr>\n",
       "  <th>AR.4</th> <td>           0.0155</td> <td>          -1.3542j</td> <td>           1.3543</td> <td>          -0.2482</td>\n",
       "</tr>\n",
       "<tr>\n",
       "  <th>AR.5</th> <td>           0.0155</td> <td>          +1.3542j</td> <td>           1.3543</td> <td>           0.2482</td>\n",
       "</tr>\n",
       "<tr>\n",
       "  <th>AR.6</th> <td>          -1.1525</td> <td>          -0.6757j</td> <td>           1.3360</td> <td>          -0.4156</td>\n",
       "</tr>\n",
       "<tr>\n",
       "  <th>AR.7</th> <td>          -1.1525</td> <td>          +0.6757j</td> <td>           1.3360</td> <td>           0.4156</td>\n",
       "</tr>\n",
       "<tr>\n",
       "  <th>AR.8</th> <td>          -2.6669</td> <td>          -0.0000j</td> <td>           2.6669</td> <td>          -0.5000</td>\n",
       "</tr>\n",
       "<tr>\n",
       "  <th>MA.1</th> <td>          -6.4461</td> <td>          +0.0000j</td> <td>           6.4461</td> <td>           0.5000</td>\n",
       "</tr>\n",
       "</table>"
      ],
      "text/plain": [
       "<class 'statsmodels.iolib.summary.Summary'>\n",
       "\"\"\"\n",
       "                             ARIMA Model Results                              \n",
       "==============================================================================\n",
       "Dep. Variable:                    D.y   No. Observations:                   44\n",
       "Model:                 ARIMA(8, 1, 1)   Log Likelihood                 -13.270\n",
       "Method:                       css-mle   S.D. of innovations              0.325\n",
       "Date:                Fri, 22 Jan 2021   AIC                             48.540\n",
       "Time:                        01:46:23   BIC                             68.166\n",
       "Sample:                             1   HQIC                            55.819\n",
       "                                                                              \n",
       "==============================================================================\n",
       "                 coef    std err          z      P>|z|      [0.025      0.975]\n",
       "------------------------------------------------------------------------------\n",
       "const         -0.0769      0.088     -0.875      0.381      -0.249       0.095\n",
       "ar.L1.D.y      0.2649      1.626      0.163      0.871      -2.922       3.452\n",
       "ar.L2.D.y     -0.0042      0.708     -0.006      0.995      -1.393       1.384\n",
       "ar.L3.D.y     -0.1667      0.196     -0.850      0.395      -0.551       0.218\n",
       "ar.L4.D.y      0.0070      0.287      0.024      0.981      -0.555       0.569\n",
       "ar.L5.D.y      0.1198      0.162      0.739      0.460      -0.198       0.438\n",
       "ar.L6.D.y     -0.0428      0.236     -0.182      0.856      -0.505       0.419\n",
       "ar.L7.D.y      0.1476      0.180      0.821      0.412      -0.205       0.500\n",
       "ar.L8.D.y      0.0670      0.309      0.217      0.829      -0.539       0.673\n",
       "ma.L1.D.y      0.1551      1.624      0.095      0.924      -3.029       3.339\n",
       "                                    Roots                                    \n",
       "=============================================================================\n",
       "                  Real          Imaginary           Modulus         Frequency\n",
       "-----------------------------------------------------------------------------\n",
       "AR.1            1.1950           -0.0000j            1.1950           -0.0000\n",
       "AR.2            0.7712           -0.9146j            1.1963           -0.1385\n",
       "AR.3            0.7712           +0.9146j            1.1963            0.1385\n",
       "AR.4            0.0155           -1.3542j            1.3543           -0.2482\n",
       "AR.5            0.0155           +1.3542j            1.3543            0.2482\n",
       "AR.6           -1.1525           -0.6757j            1.3360           -0.4156\n",
       "AR.7           -1.1525           +0.6757j            1.3360            0.4156\n",
       "AR.8           -2.6669           -0.0000j            2.6669           -0.5000\n",
       "MA.1           -6.4461           +0.0000j            6.4461            0.5000\n",
       "-----------------------------------------------------------------------------\n",
       "\"\"\""
      ]
     },
     "execution_count": 24,
     "metadata": {},
     "output_type": "execute_result"
    }
   ],
   "source": [
    "# Estimate and ARIMA Model for Apple with 8 lagged obersvations:\n",
    "aapl_arima_model_2 = ARIMA(aapl_df.AAPL.values, order=(8,1,1))\n",
    "\n",
    "# Fit the model\n",
    "aapl_arima_results_2 = aapl_arima_model_2.fit()\n",
    "\n",
    "# Output model summary results:\n",
    "aapl_arima_results_2.summary()"
   ]
  },
  {
   "cell_type": "code",
   "execution_count": 25,
   "metadata": {},
   "outputs": [
    {
     "data": {
      "text/plain": [
       "<matplotlib.axes._subplots.AxesSubplot at 0x7fda7cf01e20>"
      ]
     },
     "execution_count": 25,
     "metadata": {},
     "output_type": "execute_result"
    },
    {
     "data": {
      "image/png": "[encoded data removed]",
      "text/plain": [
       "<Figure size 432x288 with 1 Axes>"
      ]
     },
     "metadata": {
      "needs_background": "light"
     },
     "output_type": "display_data"
    }
   ],
   "source": [
    "# Plot the 5 Day Price Forecast for Apple with 5 lagged observations\n",
    "pd.DataFrame(aapl_arima_results.forecast(steps=5)[0]).plot(title=\"Apple's 5 Day Future Price Forecast with 5 Lag Observations\")"
   ]
  },
  {
   "cell_type": "code",
   "execution_count": 26,
   "metadata": {},
   "outputs": [
    {
     "data": {
      "text/plain": [
       "<matplotlib.axes._subplots.AxesSubplot at 0x7fda78910fd0>"
      ]
     },
     "execution_count": 26,
     "metadata": {},
     "output_type": "execute_result"
    },
    {
     "data": {
      "image/png": "[encoded data removed]",
      "text/plain": [
       "<Figure size 432x288 with 1 Axes>"
      ]
     },
     "metadata": {
      "needs_background": "light"
     },
     "output_type": "display_data"
    }
   ],
   "source": [
    "# Plot the 5 Day Price Forecast for Apple with 8 lagged observations\n",
    "pd.DataFrame(aapl_arima_results_2.forecast(steps=5)[0]).plot(title=\"Apple's 5 Day Future Price Forecast with 8 Lag Observations\")"
   ]
  },
  {
   "cell_type": "code",
   "execution_count": 27,
   "metadata": {},
   "outputs": [
    {
     "data": {
      "text/html": [
       "<div>\n",
       "<style scoped>\n",
       "    .dataframe tbody tr th:only-of-type {\n",
       "        vertical-align: middle;\n",
       "    }\n",
       "\n",
       "    .dataframe tbody tr th {\n",
       "        vertical-align: top;\n",
       "    }\n",
       "\n",
       "    .dataframe thead th {\n",
       "        text-align: right;\n",
       "    }\n",
       "</style>\n",
       "<table border=\"1\" class=\"dataframe\">\n",
       "  <thead>\n",
       "    <tr style=\"text-align: right;\">\n",
       "      <th></th>\n",
       "      <th>NFLX</th>\n",
       "      <th>Return</th>\n",
       "    </tr>\n",
       "    <tr>\n",
       "      <th>Date</th>\n",
       "      <th></th>\n",
       "      <th></th>\n",
       "    </tr>\n",
       "  </thead>\n",
       "  <tbody>\n",
       "    <tr>\n",
       "      <th>2016-04-05</th>\n",
       "      <td>104.940002</td>\n",
       "      <td>4.610808</td>\n",
       "    </tr>\n",
       "    <tr>\n",
       "      <th>2016-04-06</th>\n",
       "      <td>104.830002</td>\n",
       "      <td>4.604121</td>\n",
       "    </tr>\n",
       "    <tr>\n",
       "      <th>2016-04-07</th>\n",
       "      <td>104.449997</td>\n",
       "      <td>4.601539</td>\n",
       "    </tr>\n",
       "    <tr>\n",
       "      <th>2016-04-08</th>\n",
       "      <td>103.809998</td>\n",
       "      <td>4.599024</td>\n",
       "    </tr>\n",
       "    <tr>\n",
       "      <th>2016-04-11</th>\n",
       "      <td>102.680000</td>\n",
       "      <td>4.594225</td>\n",
       "    </tr>\n",
       "  </tbody>\n",
       "</table>\n",
       "</div>"
      ],
      "text/plain": [
       "                  NFLX    Return\n",
       "Date                            \n",
       "2016-04-05  104.940002  4.610808\n",
       "2016-04-06  104.830002  4.604121\n",
       "2016-04-07  104.449997  4.601539\n",
       "2016-04-08  103.809998  4.599024\n",
       "2016-04-11  102.680000  4.594225"
      ]
     },
     "execution_count": 27,
     "metadata": {},
     "output_type": "execute_result"
    }
   ],
   "source": [
    "# Create a series using Netflix price percentage returns, normalize, drop any nan\"s, and check the results:\n",
    "nflx_df = stock_df.loc[:,[\"NFLX\"]]\n",
    "nflx_daily_returns = stock_df.NFLX.pct_change() * 100\n",
    "nflx_df[\"Return\"] = np.log(nflx_daily_returns + 100)\n",
    "nflx_df = nflx_df.replace(-np.inf, np.nan).dropna()\n",
    "nflx_df.head()"
   ]
  },
  {
   "cell_type": "code",
   "execution_count": 28,
   "metadata": {},
   "outputs": [
    {
     "data": {
      "image/png": "[encoded data removed]",
      "text/plain": [
       "<Figure size 720x720 with 1 Axes>"
      ]
     },
     "metadata": {
      "needs_background": "light"
     },
     "output_type": "display_data"
    }
   ],
   "source": [
    "# plot historical adj close price for NFLX\n",
    "NFLX_plot = stock_df.NFLX.plot(title=\"Historical Adjusted Closing Price for Netflix from April 2016 - June 2016\", figsize=(10,10))"
   ]
  },
  {
   "cell_type": "code",
   "execution_count": 29,
   "metadata": {},
   "outputs": [
    {
     "data": {
      "text/plain": [
       "<matplotlib.axes._subplots.AxesSubplot at 0x7fda7de6e970>"
      ]
     },
     "execution_count": 29,
     "metadata": {},
     "output_type": "execute_result"
    },
    {
     "data": {
      "image/png": "[encoded data removed]",
      "text/plain": [
       "<Figure size 432x288 with 1 Axes>"
      ]
     },
     "metadata": {
      "needs_background": "light"
     },
     "output_type": "display_data"
    }
   ],
   "source": [
    "# Differencing NFLX adj close price stationarizes the time series\n",
    "nflx_df.NFLX.diff().plot()"
   ]
  },
  {
   "cell_type": "code",
   "execution_count": 30,
   "metadata": {},
   "outputs": [
    {
     "data": {
      "image/png": "[encoded data removed]",
      "text/plain": [
       "<Figure size 432x288 with 1 Axes>"
      ]
     },
     "metadata": {
      "needs_background": "light"
     },
     "output_type": "display_data"
    }
   ],
   "source": [
    "# Plot the autocorrelation of NFLX adj close prices\n",
    "plot_acf(nflx_df.NFLX, zero=False, lags=24);"
   ]
  },
  {
   "cell_type": "code",
   "execution_count": 31,
   "metadata": {},
   "outputs": [
    {
     "data": {
      "image/png": "[encoded data removed]",
      "text/plain": [
       "<Figure size 432x288 with 1 Axes>"
      ]
     },
     "metadata": {
      "needs_background": "light"
     },
     "output_type": "display_data"
    }
   ],
   "source": [
    "# Plot the partial autocorrelation of Netflix's returns\n",
    "plot_pacf(nflx_df.NFLX, zero=False, lags=24);"
   ]
  },
  {
   "cell_type": "code",
   "execution_count": 32,
   "metadata": {},
   "outputs": [
    {
     "data": {
      "text/html": [
       "<div>\n",
       "<style scoped>\n",
       "    .dataframe tbody tr th:only-of-type {\n",
       "        vertical-align: middle;\n",
       "    }\n",
       "\n",
       "    .dataframe tbody tr th {\n",
       "        vertical-align: top;\n",
       "    }\n",
       "\n",
       "    .dataframe thead th {\n",
       "        text-align: right;\n",
       "    }\n",
       "</style>\n",
       "<table border=\"1\" class=\"dataframe\">\n",
       "  <thead>\n",
       "    <tr style=\"text-align: right;\">\n",
       "      <th></th>\n",
       "      <th>NFLX</th>\n",
       "      <th>Return</th>\n",
       "      <th>Lagged Return</th>\n",
       "    </tr>\n",
       "    <tr>\n",
       "      <th>Date</th>\n",
       "      <th></th>\n",
       "      <th></th>\n",
       "      <th></th>\n",
       "    </tr>\n",
       "  </thead>\n",
       "  <tbody>\n",
       "    <tr>\n",
       "      <th>2016-04-06</th>\n",
       "      <td>104.830002</td>\n",
       "      <td>4.604121</td>\n",
       "      <td>4.610808</td>\n",
       "    </tr>\n",
       "    <tr>\n",
       "      <th>2016-04-07</th>\n",
       "      <td>104.449997</td>\n",
       "      <td>4.601539</td>\n",
       "      <td>4.604121</td>\n",
       "    </tr>\n",
       "    <tr>\n",
       "      <th>2016-04-08</th>\n",
       "      <td>103.809998</td>\n",
       "      <td>4.599024</td>\n",
       "      <td>4.601539</td>\n",
       "    </tr>\n",
       "    <tr>\n",
       "      <th>2016-04-11</th>\n",
       "      <td>102.680000</td>\n",
       "      <td>4.594225</td>\n",
       "      <td>4.599024</td>\n",
       "    </tr>\n",
       "    <tr>\n",
       "      <th>2016-04-12</th>\n",
       "      <td>106.980003</td>\n",
       "      <td>4.646195</td>\n",
       "      <td>4.594225</td>\n",
       "    </tr>\n",
       "  </tbody>\n",
       "</table>\n",
       "</div>"
      ],
      "text/plain": [
       "                  NFLX    Return  Lagged Return\n",
       "Date                                           \n",
       "2016-04-06  104.830002  4.604121       4.610808\n",
       "2016-04-07  104.449997  4.601539       4.604121\n",
       "2016-04-08  103.809998  4.599024       4.601539\n",
       "2016-04-11  102.680000  4.594225       4.599024\n",
       "2016-04-12  106.980003  4.646195       4.594225"
      ]
     },
     "execution_count": 32,
     "metadata": {},
     "output_type": "execute_result"
    }
   ],
   "source": [
    "# Create a lagged return using the shift function\n",
    "nflx_lag_return = nflx_df[\"Return\"].shift()\n",
    "nflx_df[\"Lagged Return\"] = nflx_lag_return\n",
    "nflx_df = nflx_df.replace(-np.inf, np.nan).dropna()\n",
    "nflx_df.head()"
   ]
  },
  {
   "cell_type": "code",
   "execution_count": 33,
   "metadata": {},
   "outputs": [
    {
     "data": {
      "text/html": [
       "<div>\n",
       "<style scoped>\n",
       "    .dataframe tbody tr th:only-of-type {\n",
       "        vertical-align: middle;\n",
       "    }\n",
       "\n",
       "    .dataframe tbody tr th {\n",
       "        vertical-align: top;\n",
       "    }\n",
       "\n",
       "    .dataframe thead th {\n",
       "        text-align: right;\n",
       "    }\n",
       "</style>\n",
       "<table border=\"1\" class=\"dataframe\">\n",
       "  <thead>\n",
       "    <tr style=\"text-align: right;\">\n",
       "      <th></th>\n",
       "      <th>compound</th>\n",
       "    </tr>\n",
       "    <tr>\n",
       "      <th>Date</th>\n",
       "      <th></th>\n",
       "    </tr>\n",
       "  </thead>\n",
       "  <tbody>\n",
       "    <tr>\n",
       "      <th>2016-03-31</th>\n",
       "      <td>0.067721</td>\n",
       "    </tr>\n",
       "    <tr>\n",
       "      <th>2016-04-01</th>\n",
       "      <td>0.130846</td>\n",
       "    </tr>\n",
       "    <tr>\n",
       "      <th>2016-04-02</th>\n",
       "      <td>0.114563</td>\n",
       "    </tr>\n",
       "    <tr>\n",
       "      <th>2016-04-03</th>\n",
       "      <td>0.107733</td>\n",
       "    </tr>\n",
       "    <tr>\n",
       "      <th>2016-04-04</th>\n",
       "      <td>0.086935</td>\n",
       "    </tr>\n",
       "  </tbody>\n",
       "</table>\n",
       "</div>"
      ],
      "text/plain": [
       "            compound\n",
       "Date                \n",
       "2016-03-31  0.067721\n",
       "2016-04-01  0.130846\n",
       "2016-04-02  0.114563\n",
       "2016-04-03  0.107733\n",
       "2016-04-04  0.086935"
      ]
     },
     "execution_count": 33,
     "metadata": {},
     "output_type": "execute_result"
    }
   ],
   "source": [
    "nflx_sentiment_data = Path('../Merged_data/ntflx_sentiment.csv')\n",
    "nflx_sentiment = pd.read_csv(nflx_sentiment_data, index_col=\"Date\", infer_datetime_format=True, parse_dates=True)\n",
    "nflx_net_sentiment = nflx_sentiment.loc[:,[\"compound\"]]\n",
    "nflx_net_sentiment.head()"
   ]
  },
  {
   "cell_type": "code",
   "execution_count": 34,
   "metadata": {},
   "outputs": [
    {
     "data": {
      "text/html": [
       "<div>\n",
       "<style scoped>\n",
       "    .dataframe tbody tr th:only-of-type {\n",
       "        vertical-align: middle;\n",
       "    }\n",
       "\n",
       "    .dataframe tbody tr th {\n",
       "        vertical-align: top;\n",
       "    }\n",
       "\n",
       "    .dataframe thead th {\n",
       "        text-align: right;\n",
       "    }\n",
       "</style>\n",
       "<table border=\"1\" class=\"dataframe\">\n",
       "  <thead>\n",
       "    <tr style=\"text-align: right;\">\n",
       "      <th></th>\n",
       "      <th>NFLX</th>\n",
       "      <th>Return</th>\n",
       "      <th>Lagged Return</th>\n",
       "      <th>Lagged Sentiment</th>\n",
       "    </tr>\n",
       "    <tr>\n",
       "      <th>Date</th>\n",
       "      <th></th>\n",
       "      <th></th>\n",
       "      <th></th>\n",
       "      <th></th>\n",
       "    </tr>\n",
       "  </thead>\n",
       "  <tbody>\n",
       "    <tr>\n",
       "      <th>2016-04-06</th>\n",
       "      <td>104.830002</td>\n",
       "      <td>4.604121</td>\n",
       "      <td>4.610808</td>\n",
       "      <td>0.069388</td>\n",
       "    </tr>\n",
       "    <tr>\n",
       "      <th>2016-04-07</th>\n",
       "      <td>104.449997</td>\n",
       "      <td>4.601539</td>\n",
       "      <td>4.604121</td>\n",
       "      <td>0.046270</td>\n",
       "    </tr>\n",
       "    <tr>\n",
       "      <th>2016-04-08</th>\n",
       "      <td>103.809998</td>\n",
       "      <td>4.599024</td>\n",
       "      <td>4.601539</td>\n",
       "      <td>0.091341</td>\n",
       "    </tr>\n",
       "    <tr>\n",
       "      <th>2016-04-11</th>\n",
       "      <td>102.680000</td>\n",
       "      <td>4.594225</td>\n",
       "      <td>4.599024</td>\n",
       "      <td>0.159414</td>\n",
       "    </tr>\n",
       "    <tr>\n",
       "      <th>2016-04-12</th>\n",
       "      <td>106.980003</td>\n",
       "      <td>4.646195</td>\n",
       "      <td>4.594225</td>\n",
       "      <td>0.174188</td>\n",
       "    </tr>\n",
       "  </tbody>\n",
       "</table>\n",
       "</div>"
      ],
      "text/plain": [
       "                  NFLX    Return  Lagged Return  Lagged Sentiment\n",
       "Date                                                             \n",
       "2016-04-06  104.830002  4.604121       4.610808          0.069388\n",
       "2016-04-07  104.449997  4.601539       4.604121          0.046270\n",
       "2016-04-08  103.809998  4.599024       4.601539          0.091341\n",
       "2016-04-11  102.680000  4.594225       4.599024          0.159414\n",
       "2016-04-12  106.980003  4.646195       4.594225          0.174188"
      ]
     },
     "execution_count": 34,
     "metadata": {},
     "output_type": "execute_result"
    }
   ],
   "source": [
    "# create lagged sentiment with shift function for Netflix and add to the exisiting dataframe\n",
    "nflx_lagged_sentiment = nflx_net_sentiment.shift()\n",
    "nflx_df[\"Lagged Sentiment\"] = nflx_net_sentiment\n",
    "nflx_df = nflx_df.dropna()\n",
    "nflx_df.head()"
   ]
  },
  {
   "cell_type": "code",
   "execution_count": 35,
   "metadata": {},
   "outputs": [
    {
     "data": {
      "text/html": [
       "<table class=\"simpletable\">\n",
       "<caption>ARIMA Model Results</caption>\n",
       "<tr>\n",
       "  <th>Dep. Variable:</th>        <td>D.y</td>       <th>  No. Observations:  </th>    <td>46</td>   \n",
       "</tr>\n",
       "<tr>\n",
       "  <th>Model:</th>          <td>ARIMA(5, 1, 1)</td>  <th>  Log Likelihood     </th> <td>-111.528</td>\n",
       "</tr>\n",
       "<tr>\n",
       "  <th>Method:</th>             <td>css-mle</td>     <th>  S.D. of innovations</th>   <td>2.715</td> \n",
       "</tr>\n",
       "<tr>\n",
       "  <th>Date:</th>          <td>Fri, 22 Jan 2021</td> <th>  AIC                </th>  <td>239.056</td>\n",
       "</tr>\n",
       "<tr>\n",
       "  <th>Time:</th>              <td>01:46:37</td>     <th>  BIC                </th>  <td>253.685</td>\n",
       "</tr>\n",
       "<tr>\n",
       "  <th>Sample:</th>                <td>1</td>        <th>  HQIC               </th>  <td>244.536</td>\n",
       "</tr>\n",
       "<tr>\n",
       "  <th></th>                       <td> </td>        <th>                     </th>     <td> </td>   \n",
       "</tr>\n",
       "</table>\n",
       "<table class=\"simpletable\">\n",
       "<tr>\n",
       "      <td></td>         <th>coef</th>     <th>std err</th>      <th>z</th>      <th>P>|z|</th>  <th>[0.025</th>    <th>0.975]</th>  \n",
       "</tr>\n",
       "<tr>\n",
       "  <th>const</th>     <td>   -0.2226</td> <td>    0.404</td> <td>   -0.551</td> <td> 0.582</td> <td>   -1.014</td> <td>    0.569</td>\n",
       "</tr>\n",
       "<tr>\n",
       "  <th>ar.L1.D.y</th> <td>   -0.7333</td> <td>    0.183</td> <td>   -4.015</td> <td> 0.000</td> <td>   -1.091</td> <td>   -0.375</td>\n",
       "</tr>\n",
       "<tr>\n",
       "  <th>ar.L2.D.y</th> <td>    0.1058</td> <td>    0.178</td> <td>    0.594</td> <td> 0.553</td> <td>   -0.243</td> <td>    0.455</td>\n",
       "</tr>\n",
       "<tr>\n",
       "  <th>ar.L3.D.y</th> <td>   -0.0054</td> <td>    0.182</td> <td>   -0.030</td> <td> 0.976</td> <td>   -0.362</td> <td>    0.352</td>\n",
       "</tr>\n",
       "<tr>\n",
       "  <th>ar.L4.D.y</th> <td>   -0.0668</td> <td>    0.185</td> <td>   -0.362</td> <td> 0.717</td> <td>   -0.429</td> <td>    0.295</td>\n",
       "</tr>\n",
       "<tr>\n",
       "  <th>ar.L5.D.y</th> <td>   -0.1786</td> <td>    0.156</td> <td>   -1.143</td> <td> 0.253</td> <td>   -0.485</td> <td>    0.128</td>\n",
       "</tr>\n",
       "<tr>\n",
       "  <th>ma.L1.D.y</th> <td>    0.8752</td> <td>    0.130</td> <td>    6.750</td> <td> 0.000</td> <td>    0.621</td> <td>    1.129</td>\n",
       "</tr>\n",
       "</table>\n",
       "<table class=\"simpletable\">\n",
       "<caption>Roots</caption>\n",
       "<tr>\n",
       "    <td></td>   <th>            Real</th>  <th>         Imaginary</th> <th>         Modulus</th>  <th>        Frequency</th>\n",
       "</tr>\n",
       "<tr>\n",
       "  <th>AR.1</th> <td>          -1.0269</td> <td>          -0.0000j</td> <td>           1.0269</td> <td>          -0.5000</td>\n",
       "</tr>\n",
       "<tr>\n",
       "  <th>AR.2</th> <td>          -0.8466</td> <td>          -1.2516j</td> <td>           1.5110</td> <td>          -0.3446</td>\n",
       "</tr>\n",
       "<tr>\n",
       "  <th>AR.3</th> <td>          -0.8466</td> <td>          +1.2516j</td> <td>           1.5110</td> <td>           0.3446</td>\n",
       "</tr>\n",
       "<tr>\n",
       "  <th>AR.4</th> <td>           1.1728</td> <td>          -1.0065j</td> <td>           1.5455</td> <td>          -0.1129</td>\n",
       "</tr>\n",
       "<tr>\n",
       "  <th>AR.5</th> <td>           1.1728</td> <td>          +1.0065j</td> <td>           1.5455</td> <td>           0.1129</td>\n",
       "</tr>\n",
       "<tr>\n",
       "  <th>MA.1</th> <td>          -1.1425</td> <td>          +0.0000j</td> <td>           1.1425</td> <td>           0.5000</td>\n",
       "</tr>\n",
       "</table>"
      ],
      "text/plain": [
       "<class 'statsmodels.iolib.summary.Summary'>\n",
       "\"\"\"\n",
       "                             ARIMA Model Results                              \n",
       "==============================================================================\n",
       "Dep. Variable:                    D.y   No. Observations:                   46\n",
       "Model:                 ARIMA(5, 1, 1)   Log Likelihood                -111.528\n",
       "Method:                       css-mle   S.D. of innovations              2.715\n",
       "Date:                Fri, 22 Jan 2021   AIC                            239.056\n",
       "Time:                        01:46:37   BIC                            253.685\n",
       "Sample:                             1   HQIC                           244.536\n",
       "                                                                              \n",
       "==============================================================================\n",
       "                 coef    std err          z      P>|z|      [0.025      0.975]\n",
       "------------------------------------------------------------------------------\n",
       "const         -0.2226      0.404     -0.551      0.582      -1.014       0.569\n",
       "ar.L1.D.y     -0.7333      0.183     -4.015      0.000      -1.091      -0.375\n",
       "ar.L2.D.y      0.1058      0.178      0.594      0.553      -0.243       0.455\n",
       "ar.L3.D.y     -0.0054      0.182     -0.030      0.976      -0.362       0.352\n",
       "ar.L4.D.y     -0.0668      0.185     -0.362      0.717      -0.429       0.295\n",
       "ar.L5.D.y     -0.1786      0.156     -1.143      0.253      -0.485       0.128\n",
       "ma.L1.D.y      0.8752      0.130      6.750      0.000       0.621       1.129\n",
       "                                    Roots                                    \n",
       "=============================================================================\n",
       "                  Real          Imaginary           Modulus         Frequency\n",
       "-----------------------------------------------------------------------------\n",
       "AR.1           -1.0269           -0.0000j            1.0269           -0.5000\n",
       "AR.2           -0.8466           -1.2516j            1.5110           -0.3446\n",
       "AR.3           -0.8466           +1.2516j            1.5110            0.3446\n",
       "AR.4            1.1728           -1.0065j            1.5455           -0.1129\n",
       "AR.5            1.1728           +1.0065j            1.5455            0.1129\n",
       "MA.1           -1.1425           +0.0000j            1.1425            0.5000\n",
       "-----------------------------------------------------------------------------\n",
       "\"\"\""
      ]
     },
     "execution_count": 35,
     "metadata": {},
     "output_type": "execute_result"
    }
   ],
   "source": [
    "# Estimate and ARIMA Model with 5 lagged observations:\n",
    "nflx_arima_model = ARIMA(nflx_df.NFLX.values, order=(5,1,1))\n",
    "\n",
    "# Fit the model\n",
    "nflx_arima_results = nflx_arima_model.fit()\n",
    "\n",
    "# Output model summary results:\n",
    "nflx_arima_results.summary()"
   ]
  },
  {
   "cell_type": "code",
   "execution_count": 36,
   "metadata": {},
   "outputs": [
    {
     "data": {
      "text/html": [
       "<table class=\"simpletable\">\n",
       "<caption>ARIMA Model Results</caption>\n",
       "<tr>\n",
       "  <th>Dep. Variable:</th>        <td>D.y</td>       <th>  No. Observations:  </th>    <td>46</td>   \n",
       "</tr>\n",
       "<tr>\n",
       "  <th>Model:</th>          <td>ARIMA(8, 1, 1)</td>  <th>  Log Likelihood     </th> <td>-110.327</td>\n",
       "</tr>\n",
       "<tr>\n",
       "  <th>Method:</th>             <td>css-mle</td>     <th>  S.D. of innovations</th>   <td>2.577</td> \n",
       "</tr>\n",
       "<tr>\n",
       "  <th>Date:</th>          <td>Fri, 22 Jan 2021</td> <th>  AIC                </th>  <td>242.653</td>\n",
       "</tr>\n",
       "<tr>\n",
       "  <th>Time:</th>              <td>01:46:39</td>     <th>  BIC                </th>  <td>262.768</td>\n",
       "</tr>\n",
       "<tr>\n",
       "  <th>Sample:</th>                <td>1</td>        <th>  HQIC               </th>  <td>250.189</td>\n",
       "</tr>\n",
       "<tr>\n",
       "  <th></th>                       <td> </td>        <th>                     </th>     <td> </td>   \n",
       "</tr>\n",
       "</table>\n",
       "<table class=\"simpletable\">\n",
       "<tr>\n",
       "      <td></td>         <th>coef</th>     <th>std err</th>      <th>z</th>      <th>P>|z|</th>  <th>[0.025</th>    <th>0.975]</th>  \n",
       "</tr>\n",
       "<tr>\n",
       "  <th>const</th>     <td>   -0.1406</td> <td>    0.154</td> <td>   -0.915</td> <td> 0.360</td> <td>   -0.442</td> <td>    0.161</td>\n",
       "</tr>\n",
       "<tr>\n",
       "  <th>ar.L1.D.y</th> <td>    0.9898</td> <td>    0.151</td> <td>    6.547</td> <td> 0.000</td> <td>    0.693</td> <td>    1.286</td>\n",
       "</tr>\n",
       "<tr>\n",
       "  <th>ar.L2.D.y</th> <td>   -0.0282</td> <td>    0.201</td> <td>   -0.141</td> <td> 0.888</td> <td>   -0.422</td> <td>    0.365</td>\n",
       "</tr>\n",
       "<tr>\n",
       "  <th>ar.L3.D.y</th> <td>   -0.0978</td> <td>    0.195</td> <td>   -0.500</td> <td> 0.617</td> <td>   -0.481</td> <td>    0.285</td>\n",
       "</tr>\n",
       "<tr>\n",
       "  <th>ar.L4.D.y</th> <td>    0.0111</td> <td>    0.204</td> <td>    0.054</td> <td> 0.957</td> <td>   -0.388</td> <td>    0.410</td>\n",
       "</tr>\n",
       "<tr>\n",
       "  <th>ar.L5.D.y</th> <td>   -0.0584</td> <td>    0.204</td> <td>   -0.286</td> <td> 0.775</td> <td>   -0.458</td> <td>    0.341</td>\n",
       "</tr>\n",
       "<tr>\n",
       "  <th>ar.L6.D.y</th> <td>    0.3272</td> <td>    0.202</td> <td>    1.621</td> <td> 0.105</td> <td>   -0.068</td> <td>    0.723</td>\n",
       "</tr>\n",
       "<tr>\n",
       "  <th>ar.L7.D.y</th> <td>   -0.2826</td> <td>    0.208</td> <td>   -1.358</td> <td> 0.175</td> <td>   -0.691</td> <td>    0.125</td>\n",
       "</tr>\n",
       "<tr>\n",
       "  <th>ar.L8.D.y</th> <td>   -0.0458</td> <td>    0.171</td> <td>   -0.268</td> <td> 0.789</td> <td>   -0.381</td> <td>    0.289</td>\n",
       "</tr>\n",
       "<tr>\n",
       "  <th>ma.L1.D.y</th> <td>   -1.0000</td> <td>    0.072</td> <td>  -13.849</td> <td> 0.000</td> <td>   -1.142</td> <td>   -0.858</td>\n",
       "</tr>\n",
       "</table>\n",
       "<table class=\"simpletable\">\n",
       "<caption>Roots</caption>\n",
       "<tr>\n",
       "    <td></td>   <th>            Real</th>  <th>         Imaginary</th> <th>         Modulus</th>  <th>        Frequency</th>\n",
       "</tr>\n",
       "<tr>\n",
       "  <th>AR.1</th> <td>           1.0565</td> <td>          -0.2234j</td> <td>           1.0798</td> <td>          -0.0332</td>\n",
       "</tr>\n",
       "<tr>\n",
       "  <th>AR.2</th> <td>           1.0565</td> <td>          +0.2234j</td> <td>           1.0798</td> <td>           0.0332</td>\n",
       "</tr>\n",
       "<tr>\n",
       "  <th>AR.3</th> <td>           0.6349</td> <td>          -1.0042j</td> <td>           1.1881</td> <td>          -0.1603</td>\n",
       "</tr>\n",
       "<tr>\n",
       "  <th>AR.4</th> <td>           0.6349</td> <td>          +1.0042j</td> <td>           1.1881</td> <td>           0.1603</td>\n",
       "</tr>\n",
       "<tr>\n",
       "  <th>AR.5</th> <td>          -1.2101</td> <td>          -0.0000j</td> <td>           1.2101</td> <td>          -0.5000</td>\n",
       "</tr>\n",
       "<tr>\n",
       "  <th>AR.6</th> <td>          -0.5766</td> <td>          -1.0919j</td> <td>           1.2348</td> <td>          -0.3273</td>\n",
       "</tr>\n",
       "<tr>\n",
       "  <th>AR.7</th> <td>          -0.5766</td> <td>          +1.0919j</td> <td>           1.2348</td> <td>           0.3273</td>\n",
       "</tr>\n",
       "<tr>\n",
       "  <th>AR.8</th> <td>          -7.1938</td> <td>          -0.0000j</td> <td>           7.1938</td> <td>          -0.5000</td>\n",
       "</tr>\n",
       "<tr>\n",
       "  <th>MA.1</th> <td>           1.0000</td> <td>          +0.0000j</td> <td>           1.0000</td> <td>           0.0000</td>\n",
       "</tr>\n",
       "</table>"
      ],
      "text/plain": [
       "<class 'statsmodels.iolib.summary.Summary'>\n",
       "\"\"\"\n",
       "                             ARIMA Model Results                              \n",
       "==============================================================================\n",
       "Dep. Variable:                    D.y   No. Observations:                   46\n",
       "Model:                 ARIMA(8, 1, 1)   Log Likelihood                -110.327\n",
       "Method:                       css-mle   S.D. of innovations              2.577\n",
       "Date:                Fri, 22 Jan 2021   AIC                            242.653\n",
       "Time:                        01:46:39   BIC                            262.768\n",
       "Sample:                             1   HQIC                           250.189\n",
       "                                                                              \n",
       "==============================================================================\n",
       "                 coef    std err          z      P>|z|      [0.025      0.975]\n",
       "------------------------------------------------------------------------------\n",
       "const         -0.1406      0.154     -0.915      0.360      -0.442       0.161\n",
       "ar.L1.D.y      0.9898      0.151      6.547      0.000       0.693       1.286\n",
       "ar.L2.D.y     -0.0282      0.201     -0.141      0.888      -0.422       0.365\n",
       "ar.L3.D.y     -0.0978      0.195     -0.500      0.617      -0.481       0.285\n",
       "ar.L4.D.y      0.0111      0.204      0.054      0.957      -0.388       0.410\n",
       "ar.L5.D.y     -0.0584      0.204     -0.286      0.775      -0.458       0.341\n",
       "ar.L6.D.y      0.3272      0.202      1.621      0.105      -0.068       0.723\n",
       "ar.L7.D.y     -0.2826      0.208     -1.358      0.175      -0.691       0.125\n",
       "ar.L8.D.y     -0.0458      0.171     -0.268      0.789      -0.381       0.289\n",
       "ma.L1.D.y     -1.0000      0.072    -13.849      0.000      -1.142      -0.858\n",
       "                                    Roots                                    \n",
       "=============================================================================\n",
       "                  Real          Imaginary           Modulus         Frequency\n",
       "-----------------------------------------------------------------------------\n",
       "AR.1            1.0565           -0.2234j            1.0798           -0.0332\n",
       "AR.2            1.0565           +0.2234j            1.0798            0.0332\n",
       "AR.3            0.6349           -1.0042j            1.1881           -0.1603\n",
       "AR.4            0.6349           +1.0042j            1.1881            0.1603\n",
       "AR.5           -1.2101           -0.0000j            1.2101           -0.5000\n",
       "AR.6           -0.5766           -1.0919j            1.2348           -0.3273\n",
       "AR.7           -0.5766           +1.0919j            1.2348            0.3273\n",
       "AR.8           -7.1938           -0.0000j            7.1938           -0.5000\n",
       "MA.1            1.0000           +0.0000j            1.0000            0.0000\n",
       "-----------------------------------------------------------------------------\n",
       "\"\"\""
      ]
     },
     "execution_count": 36,
     "metadata": {},
     "output_type": "execute_result"
    }
   ],
   "source": [
    "# Estimate and ARIMA Modelwith 8 lagged observations:\n",
    "nflx_arima_model_2 = ARIMA(nflx_df.NFLX.values, order=(8,1,1))\n",
    "\n",
    "# Fit the model\n",
    "nflx_arima_results_2 = nflx_arima_model_2.fit()\n",
    "\n",
    "# Output model summary results:\n",
    "nflx_arima_results_2.summary()"
   ]
  },
  {
   "cell_type": "code",
   "execution_count": 37,
   "metadata": {},
   "outputs": [
    {
     "data": {
      "text/plain": [
       "<matplotlib.axes._subplots.AxesSubplot at 0x7fda7e25f6a0>"
      ]
     },
     "execution_count": 37,
     "metadata": {},
     "output_type": "execute_result"
    },
    {
     "data": {
      "image/png": "[encoded data removed]",
      "text/plain": [
       "<Figure size 432x288 with 1 Axes>"
      ]
     },
     "metadata": {
      "needs_background": "light"
     },
     "output_type": "display_data"
    }
   ],
   "source": [
    "# Plot the 5 Day Price Forecast for Netflix with 5 lagged observations\n",
    "pd.DataFrame(nflx_arima_results.forecast(steps=5)[0]).plot(title=\"Netflix's 5 Day Future Price Forecast with 5 Lag Observations\")"
   ]
  },
  {
   "cell_type": "code",
   "execution_count": 38,
   "metadata": {},
   "outputs": [
    {
     "data": {
      "text/plain": [
       "<matplotlib.axes._subplots.AxesSubplot at 0x7fda7e2c5940>"
      ]
     },
     "execution_count": 38,
     "metadata": {},
     "output_type": "execute_result"
    },
    {
     "data": {
      "image/png": "[encoded data removed]",
      "text/plain": [
       "<Figure size 432x288 with 1 Axes>"
      ]
     },
     "metadata": {
      "needs_background": "light"
     },
     "output_type": "display_data"
    }
   ],
   "source": [
    "# Plot the 5 Day Price Forecast for Netflix with 8 lagged observations\n",
    "pd.DataFrame(nflx_arima_results_2.forecast(steps=5)[0]).plot(title=\"Netflix's 5 Day Future Price Forecast with 8 Lag Observations\")"
   ]
  },
  {
   "cell_type": "code",
   "execution_count": 39,
   "metadata": {},
   "outputs": [
    {
     "data": {
      "text/html": [
       "<div>\n",
       "<style scoped>\n",
       "    .dataframe tbody tr th:only-of-type {\n",
       "        vertical-align: middle;\n",
       "    }\n",
       "\n",
       "    .dataframe tbody tr th {\n",
       "        vertical-align: top;\n",
       "    }\n",
       "\n",
       "    .dataframe thead th {\n",
       "        text-align: right;\n",
       "    }\n",
       "</style>\n",
       "<table border=\"1\" class=\"dataframe\">\n",
       "  <thead>\n",
       "    <tr style=\"text-align: right;\">\n",
       "      <th></th>\n",
       "      <th>AMZN</th>\n",
       "      <th>Return</th>\n",
       "      <th>Lagged Return</th>\n",
       "    </tr>\n",
       "    <tr>\n",
       "      <th>Date</th>\n",
       "      <th></th>\n",
       "      <th></th>\n",
       "      <th></th>\n",
       "    </tr>\n",
       "  </thead>\n",
       "  <tbody>\n",
       "    <tr>\n",
       "      <th>2016-04-06</th>\n",
       "      <td>602.080017</td>\n",
       "      <td>2.719487</td>\n",
       "      <td>-1.188487</td>\n",
       "    </tr>\n",
       "    <tr>\n",
       "      <th>2016-04-07</th>\n",
       "      <td>591.429993</td>\n",
       "      <td>-1.768872</td>\n",
       "      <td>2.719487</td>\n",
       "    </tr>\n",
       "    <tr>\n",
       "      <th>2016-04-08</th>\n",
       "      <td>594.599976</td>\n",
       "      <td>0.535986</td>\n",
       "      <td>-1.768872</td>\n",
       "    </tr>\n",
       "    <tr>\n",
       "      <th>2016-04-11</th>\n",
       "      <td>595.929993</td>\n",
       "      <td>0.223683</td>\n",
       "      <td>0.535986</td>\n",
       "    </tr>\n",
       "    <tr>\n",
       "      <th>2016-04-12</th>\n",
       "      <td>603.169983</td>\n",
       "      <td>1.214906</td>\n",
       "      <td>0.223683</td>\n",
       "    </tr>\n",
       "  </tbody>\n",
       "</table>\n",
       "</div>"
      ],
      "text/plain": [
       "                  AMZN    Return  Lagged Return\n",
       "Date                                           \n",
       "2016-04-06  602.080017  2.719487      -1.188487\n",
       "2016-04-07  591.429993 -1.768872       2.719487\n",
       "2016-04-08  594.599976  0.535986      -1.768872\n",
       "2016-04-11  595.929993  0.223683       0.535986\n",
       "2016-04-12  603.169983  1.214906       0.223683"
      ]
     },
     "execution_count": 39,
     "metadata": {},
     "output_type": "execute_result"
    }
   ],
   "source": [
    "amzn_df2 = stock_df.loc[:,[\"AMZN\"]]\n",
    "amzn_daily_returns2 = stock_df.AMZN.pct_change() * 100\n",
    "amzn_df2[\"Return\"] = amzn_daily_returns2\n",
    "amzn_df2 = amzn_df2.replace(-np.inf, np.nan).dropna()\n",
    "amzn_lag_return2 = amzn_df2[\"Return\"].shift()\n",
    "amzn_df2[\"Lagged Return\"] = amzn_lag_return2\n",
    "amzn_df2 = amzn_df2.replace(-np.inf, np.nan).dropna()\n",
    "amzn_df2.head()"
   ]
  },
  {
   "cell_type": "code",
   "execution_count": 40,
   "metadata": {},
   "outputs": [],
   "source": [
    "# Create a train/test split for the data using  for testing and the rest for training to compare ARIMA vs standard \n",
    "amzn_train = amzn_df2[:'2016-05-05']\n",
    "amzn_test = amzn_df2['2016-05-06':]"
   ]
  },
  {
   "cell_type": "code",
   "execution_count": 41,
   "metadata": {},
   "outputs": [],
   "source": [
    "# Create four dataframes:\n",
    "# X_amzn_train (training set using just the independent variables), X_amzn_test (test set of of just the independent variables)\n",
    "# Y_amzn_train (training set using just the \"y\" variable), Y_amzn_test (test set of just the \"y\" variable):\n",
    "X_amzn_train = amzn_train[\"Lagged Return\"].to_frame()\n",
    "X_amzn_test = amzn_test[\"Lagged Return\"].to_frame()\n",
    "y_amzn_train = amzn_train[\"Return\"]\n",
    "y_amzn_test = amzn_test[\"Return\"]"
   ]
  },
  {
   "cell_type": "code",
   "execution_count": 42,
   "metadata": {},
   "outputs": [
    {
     "data": {
      "text/html": [
       "<div>\n",
       "<style scoped>\n",
       "    .dataframe tbody tr th:only-of-type {\n",
       "        vertical-align: middle;\n",
       "    }\n",
       "\n",
       "    .dataframe tbody tr th {\n",
       "        vertical-align: top;\n",
       "    }\n",
       "\n",
       "    .dataframe thead th {\n",
       "        text-align: right;\n",
       "    }\n",
       "</style>\n",
       "<table border=\"1\" class=\"dataframe\">\n",
       "  <thead>\n",
       "    <tr style=\"text-align: right;\">\n",
       "      <th></th>\n",
       "      <th>Lagged Return</th>\n",
       "    </tr>\n",
       "    <tr>\n",
       "      <th>Date</th>\n",
       "      <th></th>\n",
       "    </tr>\n",
       "  </thead>\n",
       "  <tbody>\n",
       "    <tr>\n",
       "      <th>2016-04-06</th>\n",
       "      <td>-1.188487</td>\n",
       "    </tr>\n",
       "    <tr>\n",
       "      <th>2016-04-07</th>\n",
       "      <td>2.719487</td>\n",
       "    </tr>\n",
       "    <tr>\n",
       "      <th>2016-04-08</th>\n",
       "      <td>-1.768872</td>\n",
       "    </tr>\n",
       "    <tr>\n",
       "      <th>2016-04-11</th>\n",
       "      <td>0.535986</td>\n",
       "    </tr>\n",
       "    <tr>\n",
       "      <th>2016-04-12</th>\n",
       "      <td>0.223683</td>\n",
       "    </tr>\n",
       "  </tbody>\n",
       "</table>\n",
       "</div>"
      ],
      "text/plain": [
       "            Lagged Return\n",
       "Date                     \n",
       "2016-04-06      -1.188487\n",
       "2016-04-07       2.719487\n",
       "2016-04-08      -1.768872\n",
       "2016-04-11       0.535986\n",
       "2016-04-12       0.223683"
      ]
     },
     "execution_count": 42,
     "metadata": {},
     "output_type": "execute_result"
    }
   ],
   "source": [
    "# Preview the X_amzn_train data\n",
    "X_amzn_train.head()"
   ]
  },
  {
   "cell_type": "code",
   "execution_count": 43,
   "metadata": {},
   "outputs": [
    {
     "data": {
      "text/plain": [
       "LinearRegression()"
      ]
     },
     "execution_count": 43,
     "metadata": {},
     "output_type": "execute_result"
    }
   ],
   "source": [
    "# Create a Linear Regression model and fit it to the training data\n",
    "from sklearn.linear_model import LinearRegression\n",
    "\n",
    "# Fit a SKLearn linear regression using  just the training set (X_amzn_train, Y_amzn_train):\n",
    "amzn_model = LinearRegression()\n",
    "amzn_model.fit(X_amzn_train, y_amzn_train)"
   ]
  },
  {
   "cell_type": "code",
   "execution_count": 44,
   "metadata": {},
   "outputs": [],
   "source": [
    "# Make Amazon prediction of \"y\" values using just the test dataset\n",
    "amzn_predictions = amzn_model.predict(X_amzn_test)"
   ]
  },
  {
   "cell_type": "code",
   "execution_count": 45,
   "metadata": {},
   "outputs": [],
   "source": [
    "# Assemble actual y data (Y_amzn_test) with predicted y data into two columns in a dataframe:\n",
    "amzn_results = y_amzn_test.to_frame()\n",
    "amzn_results[\"Predicted Return\"] = amzn_predictions"
   ]
  },
  {
   "cell_type": "code",
   "execution_count": 46,
   "metadata": {},
   "outputs": [
    {
     "data": {
      "text/plain": [
       "array([<matplotlib.axes._subplots.AxesSubplot object at 0x7fda7b158790>,\n",
       "       <matplotlib.axes._subplots.AxesSubplot object at 0x7fda7ce00f10>],\n",
       "      dtype=object)"
      ]
     },
     "execution_count": 46,
     "metadata": {},
     "output_type": "execute_result"
    },
    {
     "data": {
      "image/png": "[encoded data removed]",
      "text/plain": [
       "<Figure size 432x288 with 2 Axes>"
      ]
     },
     "metadata": {
      "needs_background": "light"
     },
     "output_type": "display_data"
    }
   ],
   "source": [
    "# Plot the first 20 Amazon predictions vs the true values\n",
    "amzn_results[:20].plot(subplots=True)"
   ]
  },
  {
   "cell_type": "code",
   "execution_count": 47,
   "metadata": {},
   "outputs": [
    {
     "name": "stdout",
     "output_type": "stream",
     "text": [
      "Out-of-Sample Root Mean Squared Error (RMSE) for Amazon: 1.1367110437913377\n"
     ]
    }
   ],
   "source": [
    "# Out-of-Sample Performance\n",
    "from sklearn.metrics import mean_squared_error\n",
    "# Calculate the mean_squared_error (MSE) on actual versus predicted test \"y\" \n",
    "amzn_mse = mean_squared_error(\n",
    "    amzn_results[\"Return\"],\n",
    "    amzn_results[\"Predicted Return\"]\n",
    ")\n",
    "\n",
    "# Using that mean-squared-error, calculate the root-mean-squared error (RMSE):\n",
    "amzn_out_of_sample_rmse = np.sqrt(amzn_mse)\n",
    "print(f\"Out-of-Sample Root Mean Squared Error (RMSE) for Amazon: {amzn_out_of_sample_rmse}\")"
   ]
  },
  {
   "cell_type": "code",
   "execution_count": 48,
   "metadata": {},
   "outputs": [
    {
     "data": {
      "text/html": [
       "<div>\n",
       "<style scoped>\n",
       "    .dataframe tbody tr th:only-of-type {\n",
       "        vertical-align: middle;\n",
       "    }\n",
       "\n",
       "    .dataframe tbody tr th {\n",
       "        vertical-align: top;\n",
       "    }\n",
       "\n",
       "    .dataframe thead th {\n",
       "        text-align: right;\n",
       "    }\n",
       "</style>\n",
       "<table border=\"1\" class=\"dataframe\">\n",
       "  <thead>\n",
       "    <tr style=\"text-align: right;\">\n",
       "      <th></th>\n",
       "      <th>AAPL</th>\n",
       "      <th>Return</th>\n",
       "      <th>Lagged Return</th>\n",
       "    </tr>\n",
       "    <tr>\n",
       "      <th>Date</th>\n",
       "      <th></th>\n",
       "      <th></th>\n",
       "      <th></th>\n",
       "    </tr>\n",
       "  </thead>\n",
       "  <tbody>\n",
       "    <tr>\n",
       "      <th>2016-04-06</th>\n",
       "      <td>25.839775</td>\n",
       "      <td>1.047253</td>\n",
       "      <td>-1.178903</td>\n",
       "    </tr>\n",
       "    <tr>\n",
       "      <th>2016-04-07</th>\n",
       "      <td>25.276215</td>\n",
       "      <td>-2.180981</td>\n",
       "      <td>1.047253</td>\n",
       "    </tr>\n",
       "    <tr>\n",
       "      <th>2016-04-08</th>\n",
       "      <td>25.304159</td>\n",
       "      <td>0.110557</td>\n",
       "      <td>-2.180981</td>\n",
       "    </tr>\n",
       "    <tr>\n",
       "      <th>2016-04-11</th>\n",
       "      <td>25.387993</td>\n",
       "      <td>0.331304</td>\n",
       "      <td>0.110557</td>\n",
       "    </tr>\n",
       "    <tr>\n",
       "      <th>2016-04-12</th>\n",
       "      <td>25.718679</td>\n",
       "      <td>1.302531</td>\n",
       "      <td>0.331304</td>\n",
       "    </tr>\n",
       "  </tbody>\n",
       "</table>\n",
       "</div>"
      ],
      "text/plain": [
       "                 AAPL    Return  Lagged Return\n",
       "Date                                          \n",
       "2016-04-06  25.839775  1.047253      -1.178903\n",
       "2016-04-07  25.276215 -2.180981       1.047253\n",
       "2016-04-08  25.304159  0.110557      -2.180981\n",
       "2016-04-11  25.387993  0.331304       0.110557\n",
       "2016-04-12  25.718679  1.302531       0.331304"
      ]
     },
     "execution_count": 48,
     "metadata": {},
     "output_type": "execute_result"
    }
   ],
   "source": [
    "aapl_df2 = stock_df.loc[:,[\"AAPL\"]]\n",
    "aapl_daily_returns2 = stock_df.AAPL.pct_change() * 100\n",
    "aapl_df2[\"Return\"] = aapl_daily_returns2\n",
    "aapl_df2 = aapl_df2.replace(-np.inf, np.nan).dropna()\n",
    "aapl_lag_return2 = aapl_df2[\"Return\"].shift()\n",
    "aapl_df2[\"Lagged Return\"] = aapl_lag_return2\n",
    "aapl_df2 = aapl_df2.replace(-np.inf, np.nan).dropna()\n",
    "aapl_df2.head()"
   ]
  },
  {
   "cell_type": "code",
   "execution_count": 49,
   "metadata": {},
   "outputs": [],
   "source": [
    "# Create a train/test split for the data using  for testing and the rest for training to compare ARIMA vs standard \n",
    "aapl_train = aapl_df2[:'2016-05-05']\n",
    "aapl_test = aapl_df2['2016-05-06':]"
   ]
  },
  {
   "cell_type": "code",
   "execution_count": 50,
   "metadata": {},
   "outputs": [],
   "source": [
    "# Create four dataframes:\n",
    "# X_aapl_train (training set using just the independent variables), X_aapl_test (test set of of just the independent variables)\n",
    "# Y_aapl_train (training set using just the \"y\" variable), Y_aapl_test (test set of just the \"y\" variable):\n",
    "X_aapl_train = aapl_train[\"Lagged Return\"].to_frame()\n",
    "X_aapl_test = aapl_test[\"Lagged Return\"].to_frame()\n",
    "y_aapl_train = aapl_train[\"Return\"]\n",
    "y_aapl_test = aapl_test[\"Return\"]"
   ]
  },
  {
   "cell_type": "code",
   "execution_count": 51,
   "metadata": {},
   "outputs": [
    {
     "data": {
      "text/html": [
       "<div>\n",
       "<style scoped>\n",
       "    .dataframe tbody tr th:only-of-type {\n",
       "        vertical-align: middle;\n",
       "    }\n",
       "\n",
       "    .dataframe tbody tr th {\n",
       "        vertical-align: top;\n",
       "    }\n",
       "\n",
       "    .dataframe thead th {\n",
       "        text-align: right;\n",
       "    }\n",
       "</style>\n",
       "<table border=\"1\" class=\"dataframe\">\n",
       "  <thead>\n",
       "    <tr style=\"text-align: right;\">\n",
       "      <th></th>\n",
       "      <th>Lagged Return</th>\n",
       "    </tr>\n",
       "    <tr>\n",
       "      <th>Date</th>\n",
       "      <th></th>\n",
       "    </tr>\n",
       "  </thead>\n",
       "  <tbody>\n",
       "    <tr>\n",
       "      <th>2016-04-06</th>\n",
       "      <td>-1.178903</td>\n",
       "    </tr>\n",
       "    <tr>\n",
       "      <th>2016-04-07</th>\n",
       "      <td>1.047253</td>\n",
       "    </tr>\n",
       "    <tr>\n",
       "      <th>2016-04-08</th>\n",
       "      <td>-2.180981</td>\n",
       "    </tr>\n",
       "    <tr>\n",
       "      <th>2016-04-11</th>\n",
       "      <td>0.110557</td>\n",
       "    </tr>\n",
       "    <tr>\n",
       "      <th>2016-04-12</th>\n",
       "      <td>0.331304</td>\n",
       "    </tr>\n",
       "  </tbody>\n",
       "</table>\n",
       "</div>"
      ],
      "text/plain": [
       "            Lagged Return\n",
       "Date                     \n",
       "2016-04-06      -1.178903\n",
       "2016-04-07       1.047253\n",
       "2016-04-08      -2.180981\n",
       "2016-04-11       0.110557\n",
       "2016-04-12       0.331304"
      ]
     },
     "execution_count": 51,
     "metadata": {},
     "output_type": "execute_result"
    }
   ],
   "source": [
    "# Preview the X_aapl_train data\n",
    "X_aapl_train.head()"
   ]
  },
  {
   "cell_type": "code",
   "execution_count": 52,
   "metadata": {},
   "outputs": [
    {
     "data": {
      "text/plain": [
       "LinearRegression()"
      ]
     },
     "execution_count": 52,
     "metadata": {},
     "output_type": "execute_result"
    }
   ],
   "source": [
    "# Fit a SKLearn linear regression using  just the training set (X_aapl_train, Y_aapl_train):\n",
    "aapl_model = LinearRegression()\n",
    "aapl_model.fit(X_aapl_train, y_aapl_train)"
   ]
  },
  {
   "cell_type": "code",
   "execution_count": 53,
   "metadata": {},
   "outputs": [],
   "source": [
    "# Make Apple prediction of \"y\" values using just the test dataset\n",
    "aapl_predictions = aapl_model.predict(X_aapl_test)"
   ]
  },
  {
   "cell_type": "code",
   "execution_count": 54,
   "metadata": {},
   "outputs": [],
   "source": [
    "# Assemble actual y data (Y_aapl_test) with predicted y data into two columns in a dataframe:\n",
    "aapl_results = y_aapl_test.to_frame()\n",
    "aapl_results[\"Predicted Return\"] = aapl_predictions"
   ]
  },
  {
   "cell_type": "code",
   "execution_count": 55,
   "metadata": {},
   "outputs": [
    {
     "data": {
      "text/plain": [
       "array([<matplotlib.axes._subplots.AxesSubplot object at 0x7fda7b337640>,\n",
       "       <matplotlib.axes._subplots.AxesSubplot object at 0x7fda7b358670>],\n",
       "      dtype=object)"
      ]
     },
     "execution_count": 55,
     "metadata": {},
     "output_type": "execute_result"
    },
    {
     "data": {
      "image/png": "[encoded data removed]",
      "text/plain": [
       "<Figure size 432x288 with 2 Axes>"
      ]
     },
     "metadata": {
      "needs_background": "light"
     },
     "output_type": "display_data"
    }
   ],
   "source": [
    "# Plot the first 20 Apple predictions vs the true values\n",
    "aapl_results[:20].plot(subplots=True)"
   ]
  },
  {
   "cell_type": "code",
   "execution_count": 56,
   "metadata": {},
   "outputs": [
    {
     "name": "stdout",
     "output_type": "stream",
     "text": [
      "Out-of-Sample Root Mean Squared Error (RMSE) for Apple: 1.3064118157022506\n"
     ]
    }
   ],
   "source": [
    "# Calculate the mean_squared_error (MSE) on actual versus predicted test \"y\" \n",
    "aapl_mse = mean_squared_error(\n",
    "    aapl_results[\"Return\"],\n",
    "    aapl_results[\"Predicted Return\"]\n",
    ")\n",
    "\n",
    "# Using that mean-squared-error, calculate the root-mean-squared error (RMSE):\n",
    "aapl_out_of_sample_rmse = np.sqrt(aapl_mse)\n",
    "print(f\"Out-of-Sample Root Mean Squared Error (RMSE) for Apple: {aapl_out_of_sample_rmse}\")"
   ]
  },
  {
   "cell_type": "code",
   "execution_count": 57,
   "metadata": {},
   "outputs": [
    {
     "data": {
      "text/html": [
       "<div>\n",
       "<style scoped>\n",
       "    .dataframe tbody tr th:only-of-type {\n",
       "        vertical-align: middle;\n",
       "    }\n",
       "\n",
       "    .dataframe tbody tr th {\n",
       "        vertical-align: top;\n",
       "    }\n",
       "\n",
       "    .dataframe thead th {\n",
       "        text-align: right;\n",
       "    }\n",
       "</style>\n",
       "<table border=\"1\" class=\"dataframe\">\n",
       "  <thead>\n",
       "    <tr style=\"text-align: right;\">\n",
       "      <th></th>\n",
       "      <th>NFLX</th>\n",
       "      <th>Return</th>\n",
       "      <th>Lagged Return</th>\n",
       "    </tr>\n",
       "    <tr>\n",
       "      <th>Date</th>\n",
       "      <th></th>\n",
       "      <th></th>\n",
       "      <th></th>\n",
       "    </tr>\n",
       "  </thead>\n",
       "  <tbody>\n",
       "    <tr>\n",
       "      <th>2016-04-06</th>\n",
       "      <td>104.830002</td>\n",
       "      <td>-0.104822</td>\n",
       "      <td>0.565409</td>\n",
       "    </tr>\n",
       "    <tr>\n",
       "      <th>2016-04-07</th>\n",
       "      <td>104.449997</td>\n",
       "      <td>-0.362496</td>\n",
       "      <td>-0.104822</td>\n",
       "    </tr>\n",
       "    <tr>\n",
       "      <th>2016-04-08</th>\n",
       "      <td>103.809998</td>\n",
       "      <td>-0.612733</td>\n",
       "      <td>-0.362496</td>\n",
       "    </tr>\n",
       "    <tr>\n",
       "      <th>2016-04-11</th>\n",
       "      <td>102.680000</td>\n",
       "      <td>-1.088525</td>\n",
       "      <td>-0.612733</td>\n",
       "    </tr>\n",
       "    <tr>\n",
       "      <th>2016-04-12</th>\n",
       "      <td>106.980003</td>\n",
       "      <td>4.187771</td>\n",
       "      <td>-1.088525</td>\n",
       "    </tr>\n",
       "  </tbody>\n",
       "</table>\n",
       "</div>"
      ],
      "text/plain": [
       "                  NFLX    Return  Lagged Return\n",
       "Date                                           \n",
       "2016-04-06  104.830002 -0.104822       0.565409\n",
       "2016-04-07  104.449997 -0.362496      -0.104822\n",
       "2016-04-08  103.809998 -0.612733      -0.362496\n",
       "2016-04-11  102.680000 -1.088525      -0.612733\n",
       "2016-04-12  106.980003  4.187771      -1.088525"
      ]
     },
     "execution_count": 57,
     "metadata": {},
     "output_type": "execute_result"
    }
   ],
   "source": [
    "nflx_df2 = stock_df.loc[:,[\"NFLX\"]]\n",
    "nflx_daily_returns2 = stock_df.NFLX.pct_change() * 100\n",
    "nflx_df2[\"Return\"] = nflx_daily_returns2\n",
    "nflx_df2 = nflx_df2.replace(-np.inf, np.nan).dropna()\n",
    "nflx_lag_return2 = nflx_df2[\"Return\"].shift()\n",
    "nflx_df2[\"Lagged Return\"] = nflx_lag_return2\n",
    "nflx_df2 = nflx_df2.replace(-np.inf, np.nan).dropna()\n",
    "nflx_df2.head()"
   ]
  },
  {
   "cell_type": "code",
   "execution_count": 58,
   "metadata": {},
   "outputs": [],
   "source": [
    "# Create a train/test split for the data using  for testing and the rest for training to compare ARIMA vs standard \n",
    "nflx_train = aapl_df2[:'2016-05-05']\n",
    "nflx_test = aapl_df2['2016-05-06':]"
   ]
  },
  {
   "cell_type": "code",
   "execution_count": 59,
   "metadata": {},
   "outputs": [],
   "source": [
    "# Create four dataframes:\n",
    "# X_nflx_train (training set using just the independent variables), X_nflx_test (test set of of just the independent variables)\n",
    "# Y_nflx_train (training set using just the \"y\" variable), Y_nflx_test (test set of just the \"y\" variable):\n",
    "X_nflx_train = nflx_train[\"Lagged Return\"].to_frame()\n",
    "X_nflx_test = nflx_test[\"Lagged Return\"].to_frame()\n",
    "y_nflx_train = nflx_train[\"Return\"]\n",
    "y_nflx_test = nflx_test[\"Return\"]"
   ]
  },
  {
   "cell_type": "code",
   "execution_count": 60,
   "metadata": {},
   "outputs": [
    {
     "data": {
      "text/html": [
       "<div>\n",
       "<style scoped>\n",
       "    .dataframe tbody tr th:only-of-type {\n",
       "        vertical-align: middle;\n",
       "    }\n",
       "\n",
       "    .dataframe tbody tr th {\n",
       "        vertical-align: top;\n",
       "    }\n",
       "\n",
       "    .dataframe thead th {\n",
       "        text-align: right;\n",
       "    }\n",
       "</style>\n",
       "<table border=\"1\" class=\"dataframe\">\n",
       "  <thead>\n",
       "    <tr style=\"text-align: right;\">\n",
       "      <th></th>\n",
       "      <th>Lagged Return</th>\n",
       "    </tr>\n",
       "    <tr>\n",
       "      <th>Date</th>\n",
       "      <th></th>\n",
       "    </tr>\n",
       "  </thead>\n",
       "  <tbody>\n",
       "    <tr>\n",
       "      <th>2016-04-06</th>\n",
       "      <td>-1.178903</td>\n",
       "    </tr>\n",
       "    <tr>\n",
       "      <th>2016-04-07</th>\n",
       "      <td>1.047253</td>\n",
       "    </tr>\n",
       "    <tr>\n",
       "      <th>2016-04-08</th>\n",
       "      <td>-2.180981</td>\n",
       "    </tr>\n",
       "    <tr>\n",
       "      <th>2016-04-11</th>\n",
       "      <td>0.110557</td>\n",
       "    </tr>\n",
       "    <tr>\n",
       "      <th>2016-04-12</th>\n",
       "      <td>0.331304</td>\n",
       "    </tr>\n",
       "  </tbody>\n",
       "</table>\n",
       "</div>"
      ],
      "text/plain": [
       "            Lagged Return\n",
       "Date                     \n",
       "2016-04-06      -1.178903\n",
       "2016-04-07       1.047253\n",
       "2016-04-08      -2.180981\n",
       "2016-04-11       0.110557\n",
       "2016-04-12       0.331304"
      ]
     },
     "execution_count": 60,
     "metadata": {},
     "output_type": "execute_result"
    }
   ],
   "source": [
    "# Preview the X_nflx_train data\n",
    "X_nflx_train.head()"
   ]
  },
  {
   "cell_type": "code",
   "execution_count": 61,
   "metadata": {},
   "outputs": [
    {
     "data": {
      "text/plain": [
       "LinearRegression()"
      ]
     },
     "execution_count": 61,
     "metadata": {},
     "output_type": "execute_result"
    }
   ],
   "source": [
    "# Fit a SKLearn linear regression using  just the training set (X_nflx_train, Y_nflx_train):\n",
    "nflx_model = LinearRegression()\n",
    "nflx_model.fit(X_nflx_train, y_nflx_train)"
   ]
  },
  {
   "cell_type": "code",
   "execution_count": 62,
   "metadata": {},
   "outputs": [],
   "source": [
    "# Make Netflix prediction of \"y\" values using just the test dataset\n",
    "nflx_predictions = nflx_model.predict(X_nflx_test)"
   ]
  },
  {
   "cell_type": "code",
   "execution_count": 63,
   "metadata": {},
   "outputs": [],
   "source": [
    "# Assemble actual y data (Y_nflx_test) with predicted y data into two columns in a dataframe:\n",
    "nflx_results = y_nflx_test.to_frame()\n",
    "nflx_results[\"Predicted Return\"] = nflx_predictions"
   ]
  },
  {
   "cell_type": "code",
   "execution_count": 64,
   "metadata": {},
   "outputs": [
    {
     "data": {
      "text/plain": [
       "array([<matplotlib.axes._subplots.AxesSubplot object at 0x7fda7b458b50>,\n",
       "       <matplotlib.axes._subplots.AxesSubplot object at 0x7fda7b48ea60>],\n",
       "      dtype=object)"
      ]
     },
     "execution_count": 64,
     "metadata": {},
     "output_type": "execute_result"
    },
    {
     "data": {
      "image/png": "[encoded data removed]",
      "text/plain": [
       "<Figure size 432x288 with 2 Axes>"
      ]
     },
     "metadata": {
      "needs_background": "light"
     },
     "output_type": "display_data"
    }
   ],
   "source": [
    "# Plot the first 20 Netflix predictions vs the true values\n",
    "nflx_results[:20].plot(subplots=True)"
   ]
  },
  {
   "cell_type": "code",
   "execution_count": 65,
   "metadata": {},
   "outputs": [
    {
     "name": "stdout",
     "output_type": "stream",
     "text": [
      "Out-of-Sample Root Mean Squared Error (RMSE) for Netflix: 1.3064118157022506\n"
     ]
    }
   ],
   "source": [
    "# Calculate the mean_squared_error (MSE) on actual versus predicted test \"y\" \n",
    "nflx_mse = mean_squared_error(\n",
    "    nflx_results[\"Return\"],\n",
    "    nflx_results[\"Predicted Return\"]\n",
    ")\n",
    "\n",
    "# Using that mean-squared-error, calculate the root-mean-squared error (RMSE):\n",
    "nflx_out_of_sample_rmse = np.sqrt(nflx_mse)\n",
    "print(f\"Out-of-Sample Root Mean Squared Error (RMSE) for Netflix: {nflx_out_of_sample_rmse}\")"
   ]
  },
  {
   "cell_type": "code",
   "execution_count": 66,
   "metadata": {},
   "outputs": [
    {
     "name": "stdout",
     "output_type": "stream",
     "text": [
      "In-sample Root Mean Squared Error (RMSE) for Amazon: 2.477248219662401\n"
     ]
    }
   ],
   "source": [
    "# In-Sample Performance\n",
    "# Construct a dataframe using just the \"y\" training data:\n",
    "amzn_in_sample_results = y_amzn_train.to_frame()\n",
    "\n",
    "# Add a column of \"in-sample\" predictions to that dataframe:  \n",
    "amzn_in_sample_results[\"In-sample Predictions\"] = amzn_model.predict(X_amzn_train)\n",
    "\n",
    "# Calculate in-sample mean_squared_error (for comparison to out-of-sample)\n",
    "amzn_in_sample_mse = mean_squared_error(\n",
    "    amzn_in_sample_results[\"Return\"],\n",
    "    amzn_in_sample_results[\"In-sample Predictions\"]\n",
    ")\n",
    "\n",
    "# Calculate in-sample root mean_squared_error (for comparison to out-of-sample)\n",
    "amzn_in_sample_rmse = np.sqrt(amzn_in_sample_mse)\n",
    "print(f\"In-sample Root Mean Squared Error (RMSE) for Amazon: {amzn_in_sample_rmse}\")"
   ]
  },
  {
   "cell_type": "code",
   "execution_count": 67,
   "metadata": {},
   "outputs": [
    {
     "name": "stdout",
     "output_type": "stream",
     "text": [
      "In-sample Root Mean Squared Error (RMSE) for Apple: 1.6277212465077104\n"
     ]
    }
   ],
   "source": [
    "# Construct a dataframe using just the \"y\" training data:\n",
    "aapl_in_sample_results = y_aapl_train.to_frame()\n",
    "\n",
    "# Add a column of \"in-sample\" predictions to that dataframe:  \n",
    "aapl_in_sample_results[\"In-sample Predictions\"] = aapl_model.predict(X_aapl_train)\n",
    "\n",
    "# Calculate in-sample mean_squared_error (for comparison to out-of-sample)\n",
    "aapl_in_sample_mse = mean_squared_error(\n",
    "    aapl_in_sample_results[\"Return\"],\n",
    "    aapl_in_sample_results[\"In-sample Predictions\"]\n",
    ")\n",
    "\n",
    "# Calculate in-sample root mean_squared_error (for comparison to out-of-sample)\n",
    "aapl_in_sample_rmse = np.sqrt(aapl_in_sample_mse)\n",
    "print(f\"In-sample Root Mean Squared Error (RMSE) for Apple: {aapl_in_sample_rmse}\")"
   ]
  },
  {
   "cell_type": "code",
   "execution_count": 68,
   "metadata": {},
   "outputs": [
    {
     "name": "stdout",
     "output_type": "stream",
     "text": [
      "In-sample Root Mean Squared Error (RMSE) for Netflix: 1.6277212465077104\n"
     ]
    }
   ],
   "source": [
    "# Construct a dataframe using just the \"y\" training data:\n",
    "nflx_in_sample_results = y_nflx_train.to_frame()\n",
    "\n",
    "# Add a column of \"in-sample\" predictions to that dataframe:  \n",
    "nflx_in_sample_results[\"In-sample Predictions\"] = nflx_model.predict(X_nflx_train)\n",
    "\n",
    "# Calculate in-sample mean_squared_error (for comparison to out-of-sample)\n",
    "nflx_in_sample_mse = mean_squared_error(\n",
    "    nflx_in_sample_results[\"Return\"],\n",
    "    nflx_in_sample_results[\"In-sample Predictions\"]\n",
    ")\n",
    "\n",
    "# Calculate in-sample root mean_squared_error (for comparison to out-of-sample)\n",
    "nflx_in_sample_rmse = np.sqrt(nflx_in_sample_mse)\n",
    "print(f\"In-sample Root Mean Squared Error (RMSE) for Netflix: {nflx_in_sample_rmse}\")"
   ]
  },
  {
   "cell_type": "code",
   "execution_count": null,
   "metadata": {},
   "outputs": [],
   "source": []
  }
 ],
 "metadata": {
  "kernelspec": {
   "display_name": "Python 3",
   "language": "python",
   "name": "python3"
  },
  "language_info": {
   "codemirror_mode": {
    "name": "ipython",
    "version": 3
   },
   "file_extension": ".py",
   "mimetype": "text/x-python",
   "name": "python",
   "nbconvert_exporter": "python",
   "pygments_lexer": "ipython3",
   "version": "3.8.2"
  }
 },
 "nbformat": 4,
 "nbformat_minor": 4
}
