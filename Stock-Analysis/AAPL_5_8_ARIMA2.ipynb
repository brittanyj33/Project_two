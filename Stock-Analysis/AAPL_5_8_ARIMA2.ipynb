{
 "cells": [
  {
   "cell_type": "markdown",
   "metadata": {},
   "source": [
    "---"
   ]
  },
  {
   "cell_type": "markdown",
   "metadata": {},
   "source": [
    "### Import Libraries and Dependencies"
   ]
  },
  {
   "cell_type": "code",
   "execution_count": 16,
   "metadata": {},
   "outputs": [],
   "source": [
    "# Import libraries and dependencies\n",
    "import numpy as np\n",
    "import pandas as pd\n",
    "import hvplot.pandas\n",
    "from pathlib import Path\n",
    "from IPython.display import Markdown\n",
    "\n",
    "import warnings\n",
    "warnings.filterwarnings('ignore')"
   ]
  },
  {
   "cell_type": "markdown",
   "metadata": {},
   "source": [
    "### Read CSV into Pandas DataFrame"
   ]
  },
  {
   "cell_type": "code",
   "execution_count": 17,
   "metadata": {},
   "outputs": [
    {
     "data": {
      "text/html": [
       "<div>\n",
       "<style scoped>\n",
       "    .dataframe tbody tr th:only-of-type {\n",
       "        vertical-align: middle;\n",
       "    }\n",
       "\n",
       "    .dataframe tbody tr th {\n",
       "        vertical-align: top;\n",
       "    }\n",
       "\n",
       "    .dataframe thead th {\n",
       "        text-align: right;\n",
       "    }\n",
       "</style>\n",
       "<table border=\"1\" class=\"dataframe\">\n",
       "  <thead>\n",
       "    <tr style=\"text-align: right;\">\n",
       "      <th></th>\n",
       "      <th>Date</th>\n",
       "      <th>AMZN</th>\n",
       "      <th>AAPL</th>\n",
       "      <th>NFLX</th>\n",
       "    </tr>\n",
       "  </thead>\n",
       "  <tbody>\n",
       "    <tr>\n",
       "      <th>0</th>\n",
       "      <td>2016-04-04</td>\n",
       "      <td>593.190002</td>\n",
       "      <td>25.877037</td>\n",
       "      <td>104.349998</td>\n",
       "    </tr>\n",
       "    <tr>\n",
       "      <th>1</th>\n",
       "      <td>2016-04-05</td>\n",
       "      <td>586.140015</td>\n",
       "      <td>25.571972</td>\n",
       "      <td>104.940002</td>\n",
       "    </tr>\n",
       "    <tr>\n",
       "      <th>2</th>\n",
       "      <td>2016-04-06</td>\n",
       "      <td>602.080017</td>\n",
       "      <td>25.839775</td>\n",
       "      <td>104.830002</td>\n",
       "    </tr>\n",
       "    <tr>\n",
       "      <th>3</th>\n",
       "      <td>2016-04-07</td>\n",
       "      <td>591.429993</td>\n",
       "      <td>25.276215</td>\n",
       "      <td>104.449997</td>\n",
       "    </tr>\n",
       "    <tr>\n",
       "      <th>4</th>\n",
       "      <td>2016-04-08</td>\n",
       "      <td>594.599976</td>\n",
       "      <td>25.304159</td>\n",
       "      <td>103.809998</td>\n",
       "    </tr>\n",
       "  </tbody>\n",
       "</table>\n",
       "</div>"
      ],
      "text/plain": [
       "         Date        AMZN       AAPL        NFLX\n",
       "0  2016-04-04  593.190002  25.877037  104.349998\n",
       "1  2016-04-05  586.140015  25.571972  104.940002\n",
       "2  2016-04-06  602.080017  25.839775  104.830002\n",
       "3  2016-04-07  591.429993  25.276215  104.449997\n",
       "4  2016-04-08  594.599976  25.304159  103.809998"
      ]
     },
     "execution_count": 17,
     "metadata": {},
     "output_type": "execute_result"
    }
   ],
   "source": [
    "\n",
    "# Read the CSV located at the file path into a Pandas DataFrame\n",
    "# Set the `Date` column as the index\n",
    "stock_df = pd.read_csv(\n",
    "    Path(\"2016_stock_data.csv\"), infer_datetime_format=True, parse_dates=True)\n",
    "#stock_df.reset_index()\n",
    "\n",
    "stock_df.head()"
   ]
  },
  {
   "cell_type": "markdown",
   "metadata": {},
   "source": [
    "### Generate a Dual Moving Average Crossover Trading Signal"
   ]
  },
  {
   "cell_type": "code",
   "execution_count": 18,
   "metadata": {},
   "outputs": [
    {
     "data": {
      "text/html": [
       "<div>\n",
       "<style scoped>\n",
       "    .dataframe tbody tr th:only-of-type {\n",
       "        vertical-align: middle;\n",
       "    }\n",
       "\n",
       "    .dataframe tbody tr th {\n",
       "        vertical-align: top;\n",
       "    }\n",
       "\n",
       "    .dataframe thead th {\n",
       "        text-align: right;\n",
       "    }\n",
       "</style>\n",
       "<table border=\"1\" class=\"dataframe\">\n",
       "  <thead>\n",
       "    <tr style=\"text-align: right;\">\n",
       "      <th></th>\n",
       "      <th>AAPL</th>\n",
       "      <th>SMA5</th>\n",
       "      <th>SMA8</th>\n",
       "      <th>Signal</th>\n",
       "      <th>Entry/Exit</th>\n",
       "    </tr>\n",
       "    <tr>\n",
       "      <th>Date</th>\n",
       "      <th></th>\n",
       "      <th></th>\n",
       "      <th></th>\n",
       "      <th></th>\n",
       "      <th></th>\n",
       "    </tr>\n",
       "  </thead>\n",
       "  <tbody>\n",
       "    <tr>\n",
       "      <th>2016-06-08</th>\n",
       "      <td>23.180901</td>\n",
       "      <td>23.065628</td>\n",
       "      <td>23.163037</td>\n",
       "      <td>1.0</td>\n",
       "      <td>0.0</td>\n",
       "    </tr>\n",
       "    <tr>\n",
       "      <th>2016-06-09</th>\n",
       "      <td>23.347248</td>\n",
       "      <td>23.156065</td>\n",
       "      <td>23.142536</td>\n",
       "      <td>0.0</td>\n",
       "      <td>-1.0</td>\n",
       "    </tr>\n",
       "    <tr>\n",
       "      <th>2016-06-10</th>\n",
       "      <td>23.155132</td>\n",
       "      <td>23.198706</td>\n",
       "      <td>23.112371</td>\n",
       "      <td>0.0</td>\n",
       "      <td>0.0</td>\n",
       "    </tr>\n",
       "    <tr>\n",
       "      <th>2016-06-13</th>\n",
       "      <td>22.806034</td>\n",
       "      <td>23.138260</td>\n",
       "      <td>23.079570</td>\n",
       "      <td>0.0</td>\n",
       "      <td>0.0</td>\n",
       "    </tr>\n",
       "    <tr>\n",
       "      <th>2016-06-14</th>\n",
       "      <td>22.834148</td>\n",
       "      <td>23.064693</td>\n",
       "      <td>23.071955</td>\n",
       "      <td>1.0</td>\n",
       "      <td>1.0</td>\n",
       "    </tr>\n",
       "  </tbody>\n",
       "</table>\n",
       "</div>"
      ],
      "text/plain": [
       "                 AAPL       SMA5       SMA8  Signal  Entry/Exit\n",
       "Date                                                           \n",
       "2016-06-08  23.180901  23.065628  23.163037     1.0         0.0\n",
       "2016-06-09  23.347248  23.156065  23.142536     0.0        -1.0\n",
       "2016-06-10  23.155132  23.198706  23.112371     0.0         0.0\n",
       "2016-06-13  22.806034  23.138260  23.079570     0.0         0.0\n",
       "2016-06-14  22.834148  23.064693  23.071955     1.0         1.0"
      ]
     },
     "execution_count": 18,
     "metadata": {},
     "output_type": "execute_result"
    }
   ],
   "source": [
    "# Grab just the `date` and `close` from the IEX dataset\n",
    "signals_df = stock_df.loc[:, [\"Date\", \"AAPL\"]].copy()\n",
    "\n",
    "# Set the `date` column as the index\n",
    "signals_df = signals_df.set_index(\"Date\", drop=True)\n",
    "\n",
    "# Set the short window and long windows\n",
    "short_window = 5\n",
    "long_window = 8\n",
    "\n",
    "# Generate the short and long moving averages (50 and 100 days, respectively)\n",
    "signals_df[\"SMA5\"] = signals_df[\"AAPL\"].rolling(window=short_window).mean()\n",
    "signals_df[\"SMA8\"] = signals_df[\"AAPL\"].rolling(window=long_window).mean()\n",
    "\n",
    "# Initialize the new `Signal` column\n",
    "signals_df[\"Signal\"] = 0.0\n",
    "\n",
    "# Generate the trading signal 0 or 1,\n",
    "# where 0 (buy) is when the SMA5 is under the SMA10, and\n",
    "# where 1 (sell) is when the SMA5 is higher (or crosses over) the SMA10\n",
    "signals_df[\"Signal\"][short_window:] = np.where(\n",
    "    signals_df[\"SMA5\"][short_window:] < signals_df[\"SMA8\"][short_window:], 1.0, 0.0\n",
    ")\n",
    "\n",
    "# Calculate the points in time at which a position should be taken, 1 or -1\n",
    "signals_df[\"Entry/Exit\"] = signals_df[\"Signal\"].diff()\n",
    "\n",
    "# Print the DataFrame\n",
    "signals_df.tail()"
   ]
  },
  {
   "cell_type": "markdown",
   "metadata": {},
   "source": [
    "### Plot Entry and Exit Points of Dual Moving Average Crossover Trading Strategy"
   ]
  },
  {
   "cell_type": "code",
   "execution_count": 19,
   "metadata": {},
   "outputs": [
    {
     "data": {},
     "metadata": {},
     "output_type": "display_data"
    },
    {
     "data": {
      "application/vnd.holoviews_exec.v0+json": "",
      "text/html": [
       "<div id='1621'>\n",
       "\n",
       "\n",
       "\n",
       "\n",
       "\n",
       "  <div class=\"bk-root\" id=\"17bc95dd-737f-4e94-aad7-fc8b7b15a87e\" data-root-id=\"1621\"></div>\n",
       "</div>\n",
       "<script type=\"application/javascript\">(function(root) {\n",
       "  function embed_document(root) {\n",
       "  var docs_json = {\"c79299aa-136d-49b4-91fb-84d163251287\":{\"roots\":{\"references\":[{\"attributes\":{\"axis\":{\"id\":\"1639\"},\"grid_line_color\":null,\"ticker\":null},\"id\":\"1641\",\"type\":\"Grid\"},{\"attributes\":{\"data_source\":{\"id\":\"1793\"},\"glyph\":{\"id\":\"1796\"},\"hover_glyph\":null,\"muted_glyph\":{\"id\":\"1798\"},\"nonselection_glyph\":{\"id\":\"1797\"},\"selection_glyph\":null,\"view\":{\"id\":\"1800\"}},\"id\":\"1799\",\"type\":\"GlyphRenderer\"},{\"attributes\":{\"fill_color\":{\"value\":\"green\"},\"line_color\":{\"value\":\"green\"},\"size\":{\"units\":\"screen\",\"value\":5.477225575051661},\"x\":{\"field\":\"Date\"},\"y\":{\"field\":\"AAPL\"}},\"id\":\"1796\",\"type\":\"Scatter\"},{\"attributes\":{\"fill_alpha\":{\"value\":0.1},\"fill_color\":{\"value\":\"green\"},\"line_alpha\":{\"value\":0.1},\"line_color\":{\"value\":\"green\"},\"size\":{\"units\":\"screen\",\"value\":5.477225575051661},\"x\":{\"field\":\"Date\"},\"y\":{\"field\":\"AAPL\"}},\"id\":\"1797\",\"type\":\"Scatter\"},{\"attributes\":{},\"id\":\"1640\",\"type\":\"CategoricalTicker\"},{\"attributes\":{\"text\":\"\",\"text_color\":{\"value\":\"black\"},\"text_font_size\":{\"value\":\"12pt\"}},\"id\":\"1631\",\"type\":\"Title\"},{\"attributes\":{},\"id\":\"1687\",\"type\":\"UnionRenderers\"},{\"attributes\":{\"source\":{\"id\":\"1793\"}},\"id\":\"1800\",\"type\":\"CDSView\"},{\"attributes\":{\"fill_alpha\":{\"value\":0.2},\"fill_color\":{\"value\":\"green\"},\"line_alpha\":{\"value\":0.2},\"line_color\":{\"value\":\"green\"},\"size\":{\"units\":\"screen\",\"value\":5.477225575051661},\"x\":{\"field\":\"Date\"},\"y\":{\"field\":\"AAPL\"}},\"id\":\"1798\",\"type\":\"Scatter\"},{\"attributes\":{\"fill_alpha\":{\"value\":0.1},\"fill_color\":{\"value\":\"red\"},\"line_alpha\":{\"value\":0.1},\"line_color\":{\"value\":\"red\"},\"size\":{\"units\":\"screen\",\"value\":5.477225575051661},\"x\":{\"field\":\"Date\"},\"y\":{\"field\":\"AAPL\"}},\"id\":\"1805\",\"type\":\"Scatter\"},{\"attributes\":{},\"id\":\"1635\",\"type\":\"CategoricalScale\"},{\"attributes\":{\"data\":{\"AAPL\":{\"__ndarray__\":\"XCEHgIXgOUAEyPG/bJI5QKOLE4D71jlAf60BALZGOUCV+uxf3U05QBHIBIBTYzlAbigIYPu3OUAp4fAfXhc6QHPs6p/xGjpAWj0OIM+UOUBvJPnfhAc5QDdf/J+J5ThAb2P1P6fyOEDX3xKAf604QNnDC+A1nDhAkTL7n3B4OEC3R+t/60w4QDGI/r+gxzZAw+H9n2AVNkBVufU/ZdQ1QGhl8x9vzjVAjT/2Hz4qNkANa/DfOO81QLDL8J9u2DVAjT/2Hz65NUDGlQbAcL01QH2e9d854zVA+cIBgKWsNUAr3BOgfSo1QDR/EsBJNTVAiXcEYNH+NUC8YfQ/bec1QL1J/B+aJzZAmgANgAISNkDtKO9fME82QOlg/Z/DlzZA994IIO/vNkBZWRXAGFc3QCYV8N96hjdAjSsNgOGCN0B4r//ffWU3QJKEEqCFETdABqzqHyPlNkBIpfnfIfE2QD208j+3GzdAkbDzX7UzN0BO+u9/Ty43QOQyC0DlWDdAhRrwv7YnN0DZAghAWM42QN31DMCK1TZA\",\"dtype\":\"float64\",\"shape\":[51]},\"Date\":[\"2016-04-04\",\"2016-04-05\",\"2016-04-06\",\"2016-04-07\",\"2016-04-08\",\"2016-04-11\",\"2016-04-12\",\"2016-04-13\",\"2016-04-14\",\"2016-04-15\",\"2016-04-18\",\"2016-04-19\",\"2016-04-20\",\"2016-04-21\",\"2016-04-22\",\"2016-04-25\",\"2016-04-26\",\"2016-04-27\",\"2016-04-28\",\"2016-04-29\",\"2016-05-02\",\"2016-05-03\",\"2016-05-04\",\"2016-05-05\",\"2016-05-06\",\"2016-05-09\",\"2016-05-10\",\"2016-05-11\",\"2016-05-12\",\"2016-05-13\",\"2016-05-16\",\"2016-05-17\",\"2016-05-18\",\"2016-05-19\",\"2016-05-20\",\"2016-05-23\",\"2016-05-24\",\"2016-05-25\",\"2016-05-26\",\"2016-05-27\",\"2016-05-31\",\"2016-06-01\",\"2016-06-02\",\"2016-06-03\",\"2016-06-06\",\"2016-06-07\",\"2016-06-08\",\"2016-06-09\",\"2016-06-10\",\"2016-06-13\",\"2016-06-14\"]},\"selected\":{\"id\":\"1665\"},\"selection_policy\":{\"id\":\"1687\"}},\"id\":\"1664\",\"type\":\"ColumnDataSource\"},{\"attributes\":{\"fill_color\":{\"value\":\"red\"},\"line_color\":{\"value\":\"red\"},\"size\":{\"units\":\"screen\",\"value\":5.477225575051661},\"x\":{\"field\":\"Date\"},\"y\":{\"field\":\"AAPL\"}},\"id\":\"1804\",\"type\":\"Scatter\"},{\"attributes\":{\"active_drag\":\"auto\",\"active_inspect\":\"auto\",\"active_multi\":null,\"active_scroll\":\"auto\",\"active_tap\":\"auto\",\"tools\":[{\"id\":\"1625\"},{\"id\":\"1626\"},{\"id\":\"1646\"},{\"id\":\"1647\"},{\"id\":\"1648\"},{\"id\":\"1649\"},{\"id\":\"1650\"}]},\"id\":\"1652\",\"type\":\"Toolbar\"},{\"attributes\":{},\"id\":\"1647\",\"type\":\"PanTool\"},{\"attributes\":{\"source\":{\"id\":\"1801\"}},\"id\":\"1808\",\"type\":\"CDSView\"},{\"attributes\":{\"axis_label\":\"Date\",\"bounds\":\"auto\",\"formatter\":{\"id\":\"1661\"},\"major_label_orientation\":\"horizontal\",\"ticker\":{\"id\":\"1640\"},\"visible\":false},\"id\":\"1639\",\"type\":\"CategoricalAxis\"},{\"attributes\":{},\"id\":\"1648\",\"type\":\"WheelZoomTool\"},{\"attributes\":{},\"id\":\"1661\",\"type\":\"CategoricalTickFormatter\"},{\"attributes\":{\"line_color\":\"#2ba02b\",\"line_width\":2,\"x\":{\"field\":\"Date\"},\"y\":{\"field\":\"value\"}},\"id\":\"1693\",\"type\":\"Line\"},{\"attributes\":{},\"id\":\"1646\",\"type\":\"SaveTool\"},{\"attributes\":{\"line_alpha\":0.1,\"line_color\":\"#ff7e0e\",\"line_width\":2,\"x\":{\"field\":\"Date\"},\"y\":{\"field\":\"value\"}},\"id\":\"1676\",\"type\":\"Line\"},{\"attributes\":{},\"id\":\"1802\",\"type\":\"Selection\"},{\"attributes\":{\"below\":[{\"id\":\"1639\"}],\"center\":[{\"id\":\"1641\"},{\"id\":\"1645\"}],\"left\":[{\"id\":\"1642\"}],\"margin\":null,\"min_border_bottom\":10,\"min_border_left\":10,\"min_border_right\":10,\"min_border_top\":10,\"plot_height\":400,\"plot_width\":1000,\"renderers\":[{\"id\":\"1670\"},{\"id\":\"1678\"},{\"id\":\"1696\"},{\"id\":\"1799\"},{\"id\":\"1807\"}],\"right\":[{\"id\":\"1688\"}],\"sizing_mode\":\"fixed\",\"title\":{\"id\":\"1631\"},\"toolbar\":{\"id\":\"1652\"},\"x_range\":{\"id\":\"1623\"},\"x_scale\":{\"id\":\"1635\"},\"y_range\":{\"id\":\"1624\"},\"y_scale\":{\"id\":\"1637\"}},\"id\":\"1630\",\"subtype\":\"Figure\",\"type\":\"Plot\"},{\"attributes\":{\"data\":{\"AAPL\":{\"__ndarray__\":\"KeHwH14XOkBvY/U/p/I4QEil+d8h8TZA3fUMwIrVNkA=\",\"dtype\":\"float64\",\"shape\":[4]},\"Date\":[\"2016-04-13\",\"2016-04-20\",\"2016-06-03\",\"2016-06-14\"]},\"selected\":{\"id\":\"1802\"},\"selection_policy\":{\"id\":\"1824\"}},\"id\":\"1801\",\"type\":\"ColumnDataSource\"},{\"attributes\":{},\"id\":\"1691\",\"type\":\"Selection\"},{\"attributes\":{\"line_alpha\":0.1,\"line_color\":\"#2ba02b\",\"line_width\":2,\"x\":{\"field\":\"Date\"},\"y\":{\"field\":\"value\"}},\"id\":\"1694\",\"type\":\"Line\"},{\"attributes\":{\"line_alpha\":0.2,\"line_color\":\"#2ba02b\",\"line_width\":2,\"x\":{\"field\":\"Date\"},\"y\":{\"field\":\"value\"}},\"id\":\"1695\",\"type\":\"Line\"},{\"attributes\":{\"line_color\":\"#ff7e0e\",\"line_width\":2,\"x\":{\"field\":\"Date\"},\"y\":{\"field\":\"value\"}},\"id\":\"1675\",\"type\":\"Line\"},{\"attributes\":{\"source\":{\"id\":\"1690\"}},\"id\":\"1697\",\"type\":\"CDSView\"},{\"attributes\":{},\"id\":\"1822\",\"type\":\"UnionRenderers\"},{\"attributes\":{\"data_source\":{\"id\":\"1672\"},\"glyph\":{\"id\":\"1675\"},\"hover_glyph\":null,\"muted_glyph\":{\"id\":\"1677\"},\"nonselection_glyph\":{\"id\":\"1676\"},\"selection_glyph\":null,\"view\":{\"id\":\"1679\"}},\"id\":\"1678\",\"type\":\"GlyphRenderer\"},{\"attributes\":{\"line_alpha\":0.2,\"line_color\":\"#ff7e0e\",\"line_width\":2,\"x\":{\"field\":\"Date\"},\"y\":{\"field\":\"value\"}},\"id\":\"1677\",\"type\":\"Line\"},{\"attributes\":{\"data_source\":{\"id\":\"1690\"},\"glyph\":{\"id\":\"1693\"},\"hover_glyph\":null,\"muted_glyph\":{\"id\":\"1695\"},\"nonselection_glyph\":{\"id\":\"1694\"},\"selection_glyph\":null,\"view\":{\"id\":\"1697\"}},\"id\":\"1696\",\"type\":\"GlyphRenderer\"},{\"attributes\":{\"label\":{\"value\":\"SMA8\"},\"renderers\":[{\"id\":\"1696\"}]},\"id\":\"1708\",\"type\":\"LegendItem\"},{\"attributes\":{},\"id\":\"1663\",\"type\":\"BasicTickFormatter\"},{\"attributes\":{\"line_alpha\":0.1,\"line_color\":\"lightgray\",\"line_width\":2,\"x\":{\"field\":\"Date\"},\"y\":{\"field\":\"AAPL\"}},\"id\":\"1668\",\"type\":\"Line\"},{\"attributes\":{\"callback\":null,\"renderers\":[{\"id\":\"1670\"},{\"id\":\"1799\"},{\"id\":\"1807\"}],\"tags\":[\"hv_created\"],\"tooltips\":[[\"Date\",\"@{Date}\"],[\"AAPL\",\"@{AAPL}\"]]},\"id\":\"1625\",\"type\":\"HoverTool\"},{\"attributes\":{\"overlay\":{\"id\":\"1651\"}},\"id\":\"1649\",\"type\":\"BoxZoomTool\"},{\"attributes\":{\"line_color\":\"lightgray\",\"line_width\":2,\"x\":{\"field\":\"Date\"},\"y\":{\"field\":\"AAPL\"}},\"id\":\"1667\",\"type\":\"Line\"},{\"attributes\":{\"label\":{\"value\":\"SMA5\"},\"renderers\":[{\"id\":\"1678\"}]},\"id\":\"1689\",\"type\":\"LegendItem\"},{\"attributes\":{\"data_source\":{\"id\":\"1801\"},\"glyph\":{\"id\":\"1804\"},\"hover_glyph\":null,\"muted_glyph\":{\"id\":\"1806\"},\"nonselection_glyph\":{\"id\":\"1805\"},\"selection_glyph\":null,\"view\":{\"id\":\"1808\"}},\"id\":\"1807\",\"type\":\"GlyphRenderer\"},{\"attributes\":{\"callback\":null,\"renderers\":[{\"id\":\"1678\"},{\"id\":\"1696\"}],\"tags\":[\"hv_created\"],\"tooltips\":[[\"Variable\",\"@{Variable}\"],[\"Date\",\"@{Date}\"],[\"value\",\"@{value}\"]]},\"id\":\"1626\",\"type\":\"HoverTool\"},{\"attributes\":{},\"id\":\"1824\",\"type\":\"UnionRenderers\"},{\"attributes\":{},\"id\":\"1665\",\"type\":\"Selection\"},{\"attributes\":{\"line_alpha\":0.2,\"line_color\":\"lightgray\",\"line_width\":2,\"x\":{\"field\":\"Date\"},\"y\":{\"field\":\"AAPL\"}},\"id\":\"1669\",\"type\":\"Line\"},{\"attributes\":{},\"id\":\"1707\",\"type\":\"UnionRenderers\"},{\"attributes\":{\"data_source\":{\"id\":\"1664\"},\"glyph\":{\"id\":\"1667\"},\"hover_glyph\":null,\"muted_glyph\":{\"id\":\"1669\"},\"nonselection_glyph\":{\"id\":\"1668\"},\"selection_glyph\":null,\"view\":{\"id\":\"1671\"}},\"id\":\"1670\",\"type\":\"GlyphRenderer\"},{\"attributes\":{\"factors\":[\"2016-04-04\",\"2016-04-05\",\"2016-04-06\",\"2016-04-07\",\"2016-04-08\",\"2016-04-11\",\"2016-04-12\",\"2016-04-13\",\"2016-04-14\",\"2016-04-15\",\"2016-04-18\",\"2016-04-19\",\"2016-04-20\",\"2016-04-21\",\"2016-04-22\",\"2016-04-25\",\"2016-04-26\",\"2016-04-27\",\"2016-04-28\",\"2016-04-29\",\"2016-05-02\",\"2016-05-03\",\"2016-05-04\",\"2016-05-05\",\"2016-05-06\",\"2016-05-09\",\"2016-05-10\",\"2016-05-11\",\"2016-05-12\",\"2016-05-13\",\"2016-05-16\",\"2016-05-17\",\"2016-05-18\",\"2016-05-19\",\"2016-05-20\",\"2016-05-23\",\"2016-05-24\",\"2016-05-25\",\"2016-05-26\",\"2016-05-27\",\"2016-05-31\",\"2016-06-01\",\"2016-06-02\",\"2016-06-03\",\"2016-06-06\",\"2016-06-07\",\"2016-06-08\",\"2016-06-09\",\"2016-06-10\",\"2016-06-13\",\"2016-06-14\"],\"tags\":[[[\"Date\",\"Date\",null]]]},\"id\":\"1623\",\"type\":\"FactorRange\"},{\"attributes\":{\"source\":{\"id\":\"1672\"}},\"id\":\"1679\",\"type\":\"CDSView\"},{\"attributes\":{\"fill_alpha\":{\"value\":0.2},\"fill_color\":{\"value\":\"red\"},\"line_alpha\":{\"value\":0.2},\"line_color\":{\"value\":\"red\"},\"size\":{\"units\":\"screen\",\"value\":5.477225575051661},\"x\":{\"field\":\"Date\"},\"y\":{\"field\":\"AAPL\"}},\"id\":\"1806\",\"type\":\"Scatter\"},{\"attributes\":{\"margin\":[5,5,5,5],\"name\":\"HSpacer04372\",\"sizing_mode\":\"stretch_width\"},\"id\":\"1937\",\"type\":\"Spacer\"},{\"attributes\":{\"click_policy\":\"mute\",\"items\":[{\"id\":\"1689\"},{\"id\":\"1708\"}],\"location\":[0,0]},\"id\":\"1688\",\"type\":\"Legend\"},{\"attributes\":{},\"id\":\"1794\",\"type\":\"Selection\"},{\"attributes\":{},\"id\":\"1650\",\"type\":\"ResetTool\"},{\"attributes\":{},\"id\":\"1643\",\"type\":\"BasicTicker\"},{\"attributes\":{\"axis_label\":\"Price in $\",\"bounds\":\"auto\",\"formatter\":{\"id\":\"1663\"},\"major_label_orientation\":\"horizontal\",\"ticker\":{\"id\":\"1643\"}},\"id\":\"1642\",\"type\":\"LinearAxis\"},{\"attributes\":{\"data\":{\"Date\":[\"2016-04-04\",\"2016-04-05\",\"2016-04-06\",\"2016-04-07\",\"2016-04-08\",\"2016-04-11\",\"2016-04-12\",\"2016-04-13\",\"2016-04-14\",\"2016-04-15\",\"2016-04-18\",\"2016-04-19\",\"2016-04-20\",\"2016-04-21\",\"2016-04-22\",\"2016-04-25\",\"2016-04-26\",\"2016-04-27\",\"2016-04-28\",\"2016-04-29\",\"2016-05-02\",\"2016-05-03\",\"2016-05-04\",\"2016-05-05\",\"2016-05-06\",\"2016-05-09\",\"2016-05-10\",\"2016-05-11\",\"2016-05-12\",\"2016-05-13\",\"2016-05-16\",\"2016-05-17\",\"2016-05-18\",\"2016-05-19\",\"2016-05-20\",\"2016-05-23\",\"2016-05-24\",\"2016-05-25\",\"2016-05-26\",\"2016-05-27\",\"2016-05-31\",\"2016-06-01\",\"2016-06-02\",\"2016-06-03\",\"2016-06-06\",\"2016-06-07\",\"2016-06-08\",\"2016-06-09\",\"2016-06-10\",\"2016-06-13\",\"2016-06-14\"],\"Variable\":[\"SMA8\",\"SMA8\",\"SMA8\",\"SMA8\",\"SMA8\",\"SMA8\",\"SMA8\",\"SMA8\",\"SMA8\",\"SMA8\",\"SMA8\",\"SMA8\",\"SMA8\",\"SMA8\",\"SMA8\",\"SMA8\",\"SMA8\",\"SMA8\",\"SMA8\",\"SMA8\",\"SMA8\",\"SMA8\",\"SMA8\",\"SMA8\",\"SMA8\",\"SMA8\",\"SMA8\",\"SMA8\",\"SMA8\",\"SMA8\",\"SMA8\",\"SMA8\",\"SMA8\",\"SMA8\",\"SMA8\",\"SMA8\",\"SMA8\",\"SMA8\",\"SMA8\",\"SMA8\",\"SMA8\",\"SMA8\",\"SMA8\",\"SMA8\",\"SMA8\",\"SMA8\",\"SMA8\",\"SMA8\",\"SMA8\",\"SMA8\",\"SMA8\"],\"value\":{\"__ndarray__\":\"AAAAAAAA+H8AAAAAAAD4fwAAAAAAAPh/AAAAAAAA+H8AAAAAAAD4fwAAAAAAAPh/AAAAAAAA+H/YHf/DJaI5QDqX+0dzqTlA5iX/k7+pOUD/2Pu/0I85QDYv+zOrgzlAUTz8b0R4OUBK//3viWE5QLdy/j8RPjlA5Lz/jzMKOUBNyP/LctA4QKjR/f/MdjhAU2n+d4gYOECWlP3rY7Y3QNVU/efcUTdAzMD5u3QBN0CyVfYb1as2QNYI9dvUVzZA0Wf2L18FNkCEafcvGeQ1QBph9lfU3TVAUOL3X9zYNUAo8fsvXsQ1QBx5/6O/pTVArPoBtLKnNUBtbQKIkqk1QLQuAwhetzVADvwDQPDBNUBcLQMQb881QBqhAtTS7DVAdEEBBIElNkC5nAHkumk2QGwQ/xOwmjZApikCnB7ONkBdlgIU2/U2QNxGA3jLFTdAP7cC0IkoN0DLPwKYtTM3QHR6/5suOTdAW0X7L8I0N0AAQvvDvCk3QOsC+zt9JDdATRD5V8QcN0AWwPerXhQ3QFAJ/J9rEjdA\",\"dtype\":\"float64\",\"shape\":[51]}},\"selected\":{\"id\":\"1691\"},\"selection_policy\":{\"id\":\"1720\"}},\"id\":\"1690\",\"type\":\"ColumnDataSource\"},{\"attributes\":{\"data\":{\"AAPL\":{\"__ndarray__\":\"c+zqn/EaOkCaAA2AAhI2QOQyC0DlWDdA\",\"dtype\":\"float64\",\"shape\":[3]},\"Date\":[\"2016-04-14\",\"2016-05-19\",\"2016-06-09\"]},\"selected\":{\"id\":\"1794\"},\"selection_policy\":{\"id\":\"1822\"}},\"id\":\"1793\",\"type\":\"ColumnDataSource\"},{\"attributes\":{\"data\":{\"Date\":[\"2016-04-04\",\"2016-04-05\",\"2016-04-06\",\"2016-04-07\",\"2016-04-08\",\"2016-04-11\",\"2016-04-12\",\"2016-04-13\",\"2016-04-14\",\"2016-04-15\",\"2016-04-18\",\"2016-04-19\",\"2016-04-20\",\"2016-04-21\",\"2016-04-22\",\"2016-04-25\",\"2016-04-26\",\"2016-04-27\",\"2016-04-28\",\"2016-04-29\",\"2016-05-02\",\"2016-05-03\",\"2016-05-04\",\"2016-05-05\",\"2016-05-06\",\"2016-05-09\",\"2016-05-10\",\"2016-05-11\",\"2016-05-12\",\"2016-05-13\",\"2016-05-16\",\"2016-05-17\",\"2016-05-18\",\"2016-05-19\",\"2016-05-20\",\"2016-05-23\",\"2016-05-24\",\"2016-05-25\",\"2016-05-26\",\"2016-05-27\",\"2016-05-31\",\"2016-06-01\",\"2016-06-02\",\"2016-06-03\",\"2016-06-06\",\"2016-06-07\",\"2016-06-08\",\"2016-06-09\",\"2016-06-10\",\"2016-06-13\",\"2016-06-14\"],\"Variable\":[\"SMA5\",\"SMA5\",\"SMA5\",\"SMA5\",\"SMA5\",\"SMA5\",\"SMA5\",\"SMA5\",\"SMA5\",\"SMA5\",\"SMA5\",\"SMA5\",\"SMA5\",\"SMA5\",\"SMA5\",\"SMA5\",\"SMA5\",\"SMA5\",\"SMA5\",\"SMA5\",\"SMA5\",\"SMA5\",\"SMA5\",\"SMA5\",\"SMA5\",\"SMA5\",\"SMA5\",\"SMA5\",\"SMA5\",\"SMA5\",\"SMA5\",\"SMA5\",\"SMA5\",\"SMA5\",\"SMA5\",\"SMA5\",\"SMA5\",\"SMA5\",\"SMA5\",\"SMA5\",\"SMA5\",\"SMA5\",\"SMA5\",\"SMA5\",\"SMA5\",\"SMA5\",\"SMA5\",\"SMA5\",\"SMA5\",\"SMA5\",\"SMA5\"],\"value\":{\"__ndarray__\":\"AAAAAAAA+H8AAAAAAAD4fwAAAAAAAPh/AAAAAAAA+H/SBf+f5pI5QI+N/p/ceTlAC9TPjF+BOUCMSy8TQI45QL3xXWayuDlASjL+v+LGOUD2d5U5hrQ5QIUck3lvijlAxmn6f+RPOUAONM+szQY5QFq1zmwV1ThALrhoxne4OECu5v6/8Zk4QAjuM3PwKjhAniGWeR2mN0BQ7MSMwBc3QK4pkNlZjzZAQFuS+QMiNkAG7/X/u/Y1QJvqjJmL6jVA2WvzXx3lNUAgD8RMt+E1QBwi9z+D0zVAS80tkzLGNUDKA2jGaKM1QOx2OrMEiTVArD1tBhiWNUCGMaAZ75Y1QHpM0myGrzVAw1M3M9TdNUC1dWOGNRY2QGKk+1/MNDZA1CNmJrNpNkDA8zcTZqY2QKnEy4zk8DZAYvgEYG4uN0B+bgWgk1c3QJ6POlNLXjdA9GyYmYBHN0D6vAAAoik3QB6lLvP/FDdAitjFDAsLN0CuiVgGzRA3QEI+ktnzJzdA6IjDbN4yN0BtZWEGZSM3QBZAM7OPEDdA\",\"dtype\":\"float64\",\"shape\":[51]}},\"selected\":{\"id\":\"1673\"},\"selection_policy\":{\"id\":\"1707\"}},\"id\":\"1672\",\"type\":\"ColumnDataSource\"},{\"attributes\":{\"margin\":[5,5,5,5],\"name\":\"HSpacer04371\",\"sizing_mode\":\"stretch_width\"},\"id\":\"1622\",\"type\":\"Spacer\"},{\"attributes\":{},\"id\":\"1673\",\"type\":\"Selection\"},{\"attributes\":{\"children\":[{\"id\":\"1622\"},{\"id\":\"1630\"},{\"id\":\"1937\"}],\"margin\":[0,0,0,0],\"name\":\"Row04367\",\"tags\":[\"embedded\"]},\"id\":\"1621\",\"type\":\"Row\"},{\"attributes\":{},\"id\":\"1637\",\"type\":\"LinearScale\"},{\"attributes\":{\"end\":26.599176401,\"reset_end\":26.599176401,\"reset_start\":20.672052389,\"start\":20.672052389,\"tags\":[[[\"AAPL\",\"AAPL\",null]]]},\"id\":\"1624\",\"type\":\"Range1d\"},{\"attributes\":{\"source\":{\"id\":\"1664\"}},\"id\":\"1671\",\"type\":\"CDSView\"},{\"attributes\":{},\"id\":\"1720\",\"type\":\"UnionRenderers\"},{\"attributes\":{\"axis\":{\"id\":\"1642\"},\"dimension\":1,\"grid_line_color\":null,\"ticker\":null},\"id\":\"1645\",\"type\":\"Grid\"},{\"attributes\":{\"bottom_units\":\"screen\",\"fill_alpha\":0.5,\"fill_color\":\"lightgrey\",\"left_units\":\"screen\",\"level\":\"overlay\",\"line_alpha\":1.0,\"line_color\":\"black\",\"line_dash\":[4,4],\"line_width\":2,\"render_mode\":\"css\",\"right_units\":\"screen\",\"top_units\":\"screen\"},\"id\":\"1651\",\"type\":\"BoxAnnotation\"}],\"root_ids\":[\"1621\"]},\"title\":\"Bokeh Application\",\"version\":\"2.0.2\"}};\n",
       "  var render_items = [{\"docid\":\"c79299aa-136d-49b4-91fb-84d163251287\",\"root_ids\":[\"1621\"],\"roots\":{\"1621\":\"17bc95dd-737f-4e94-aad7-fc8b7b15a87e\"}}];\n",
       "  root.Bokeh.embed.embed_items_notebook(docs_json, render_items);\n",
       "  }\n",
       "if (root.Bokeh !== undefined) {\n",
       "    embed_document(root);\n",
       "  } else {\n",
       "    var attempts = 0;\n",
       "    var timer = setInterval(function(root) {\n",
       "      if (root.Bokeh !== undefined) {\n",
       "        clearInterval(timer);\n",
       "        embed_document(root);\n",
       "      } else if (document.readyState == \"complete\") {\n",
       "        attempts++;\n",
       "        if (attempts > 100) {\n",
       "          clearInterval(timer);\n",
       "          console.log(\"Bokeh: ERROR: Unable to run BokehJS code because BokehJS library is missing\");\n",
       "        }\n",
       "      }\n",
       "    }, 10, root)\n",
       "  }\n",
       "})(window);</script>"
      ],
      "text/plain": [
       ":Overlay\n",
       "   .Curve.I         :Curve   [Date]   (AAPL)\n",
       "   .NdOverlay.I     :NdOverlay   [Variable]\n",
       "      :Curve   [Date]   (value)\n",
       "   .Scatter.AAPL.I  :Scatter   [Date]   (AAPL)\n",
       "   .Scatter.AAPL.II :Scatter   [Date]   (AAPL)"
      ]
     },
     "execution_count": 19,
     "metadata": {
      "application/vnd.holoviews_exec.v0+json": {
       "id": "1621"
      }
     },
     "output_type": "execute_result"
    }
   ],
   "source": [
    "# Visualize exit position relative to close price\n",
    "entry = signals_df[signals_df['Entry/Exit'] == -1.0][\"AAPL\"].hvplot.scatter(\n",
    "    color='green',\n",
    "    legend=False,\n",
    "    ylabel='Price in $',\n",
    "    width=1000,\n",
    "    height=400\n",
    ")\n",
    "\n",
    "# Visualize entry position relative to close price\n",
    "exit = signals_df[signals_df['Entry/Exit'] == 1.0][\"AAPL\"].hvplot.scatter(\n",
    "    color='red',\n",
    "    legend=False,\n",
    "    ylabel='Price in $',\n",
    "    width=1000,\n",
    "    height=400\n",
    ")\n",
    "\n",
    "# Visualize close price for the investment\n",
    "security_close = signals_df[[\"AAPL\"]].hvplot(\n",
    "    line_color='lightgray',\n",
    "    ylabel='Price in $',\n",
    "    width=1000,\n",
    "    height=400\n",
    ")\n",
    "\n",
    "# Visualize moving averages\n",
    "moving_avgs = signals_df[['SMA5', 'SMA8']].hvplot(\n",
    "    ylabel='Price in $',\n",
    "    width=1000,\n",
    "    height=400\n",
    ")\n",
    "\n",
    "# Overlay plots\n",
    "entry_exit_plot = security_close * moving_avgs * entry * exit\n",
    "entry_exit_plot.opts(xaxis=None)"
   ]
  },
  {
   "cell_type": "markdown",
   "metadata": {},
   "source": [
    "### Backtest the Trading Strategy"
   ]
  },
  {
   "cell_type": "code",
   "execution_count": 20,
   "metadata": {},
   "outputs": [
    {
     "data": {
      "text/html": [
       "<div>\n",
       "<style scoped>\n",
       "    .dataframe tbody tr th:only-of-type {\n",
       "        vertical-align: middle;\n",
       "    }\n",
       "\n",
       "    .dataframe tbody tr th {\n",
       "        vertical-align: top;\n",
       "    }\n",
       "\n",
       "    .dataframe thead th {\n",
       "        text-align: right;\n",
       "    }\n",
       "</style>\n",
       "<table border=\"1\" class=\"dataframe\">\n",
       "  <thead>\n",
       "    <tr style=\"text-align: right;\">\n",
       "      <th></th>\n",
       "      <th>AAPL</th>\n",
       "      <th>SMA5</th>\n",
       "      <th>SMA8</th>\n",
       "      <th>Signal</th>\n",
       "      <th>Entry/Exit</th>\n",
       "      <th>Position</th>\n",
       "      <th>Entry/Exit Position</th>\n",
       "      <th>Portfolio Holdings</th>\n",
       "      <th>Portfolio Cash</th>\n",
       "      <th>Portfolio Total</th>\n",
       "      <th>Portfolio Daily Returns</th>\n",
       "      <th>Portfolio Cumulative Returns</th>\n",
       "    </tr>\n",
       "    <tr>\n",
       "      <th>Date</th>\n",
       "      <th></th>\n",
       "      <th></th>\n",
       "      <th></th>\n",
       "      <th></th>\n",
       "      <th></th>\n",
       "      <th></th>\n",
       "      <th></th>\n",
       "      <th></th>\n",
       "      <th></th>\n",
       "      <th></th>\n",
       "      <th></th>\n",
       "      <th></th>\n",
       "    </tr>\n",
       "  </thead>\n",
       "  <tbody>\n",
       "    <tr>\n",
       "      <th>2016-04-04</th>\n",
       "      <td>25.877037</td>\n",
       "      <td>NaN</td>\n",
       "      <td>NaN</td>\n",
       "      <td>0.0</td>\n",
       "      <td>NaN</td>\n",
       "      <td>-0.0</td>\n",
       "      <td>NaN</td>\n",
       "      <td>NaN</td>\n",
       "      <td>NaN</td>\n",
       "      <td>NaN</td>\n",
       "      <td>NaN</td>\n",
       "      <td>NaN</td>\n",
       "    </tr>\n",
       "    <tr>\n",
       "      <th>2016-04-05</th>\n",
       "      <td>25.571972</td>\n",
       "      <td>NaN</td>\n",
       "      <td>NaN</td>\n",
       "      <td>0.0</td>\n",
       "      <td>0.0</td>\n",
       "      <td>-0.0</td>\n",
       "      <td>0.0</td>\n",
       "      <td>0.0</td>\n",
       "      <td>100000.0</td>\n",
       "      <td>100000.0</td>\n",
       "      <td>NaN</td>\n",
       "      <td>NaN</td>\n",
       "    </tr>\n",
       "    <tr>\n",
       "      <th>2016-04-06</th>\n",
       "      <td>25.839775</td>\n",
       "      <td>NaN</td>\n",
       "      <td>NaN</td>\n",
       "      <td>0.0</td>\n",
       "      <td>0.0</td>\n",
       "      <td>-0.0</td>\n",
       "      <td>0.0</td>\n",
       "      <td>0.0</td>\n",
       "      <td>100000.0</td>\n",
       "      <td>100000.0</td>\n",
       "      <td>0.0</td>\n",
       "      <td>0.0</td>\n",
       "    </tr>\n",
       "    <tr>\n",
       "      <th>2016-04-07</th>\n",
       "      <td>25.276215</td>\n",
       "      <td>NaN</td>\n",
       "      <td>NaN</td>\n",
       "      <td>0.0</td>\n",
       "      <td>0.0</td>\n",
       "      <td>-0.0</td>\n",
       "      <td>0.0</td>\n",
       "      <td>0.0</td>\n",
       "      <td>100000.0</td>\n",
       "      <td>100000.0</td>\n",
       "      <td>0.0</td>\n",
       "      <td>0.0</td>\n",
       "    </tr>\n",
       "    <tr>\n",
       "      <th>2016-04-08</th>\n",
       "      <td>25.304159</td>\n",
       "      <td>25.573832</td>\n",
       "      <td>NaN</td>\n",
       "      <td>0.0</td>\n",
       "      <td>0.0</td>\n",
       "      <td>-0.0</td>\n",
       "      <td>0.0</td>\n",
       "      <td>0.0</td>\n",
       "      <td>100000.0</td>\n",
       "      <td>100000.0</td>\n",
       "      <td>0.0</td>\n",
       "      <td>0.0</td>\n",
       "    </tr>\n",
       "  </tbody>\n",
       "</table>\n",
       "</div>"
      ],
      "text/plain": [
       "                 AAPL       SMA5  SMA8  Signal  Entry/Exit  Position  \\\n",
       "Date                                                                   \n",
       "2016-04-04  25.877037        NaN   NaN     0.0         NaN      -0.0   \n",
       "2016-04-05  25.571972        NaN   NaN     0.0         0.0      -0.0   \n",
       "2016-04-06  25.839775        NaN   NaN     0.0         0.0      -0.0   \n",
       "2016-04-07  25.276215        NaN   NaN     0.0         0.0      -0.0   \n",
       "2016-04-08  25.304159  25.573832   NaN     0.0         0.0      -0.0   \n",
       "\n",
       "            Entry/Exit Position  Portfolio Holdings  Portfolio Cash  \\\n",
       "Date                                                                  \n",
       "2016-04-04                  NaN                 NaN             NaN   \n",
       "2016-04-05                  0.0                 0.0        100000.0   \n",
       "2016-04-06                  0.0                 0.0        100000.0   \n",
       "2016-04-07                  0.0                 0.0        100000.0   \n",
       "2016-04-08                  0.0                 0.0        100000.0   \n",
       "\n",
       "            Portfolio Total  Portfolio Daily Returns  \\\n",
       "Date                                                   \n",
       "2016-04-04              NaN                      NaN   \n",
       "2016-04-05         100000.0                      NaN   \n",
       "2016-04-06         100000.0                      0.0   \n",
       "2016-04-07         100000.0                      0.0   \n",
       "2016-04-08         100000.0                      0.0   \n",
       "\n",
       "            Portfolio Cumulative Returns  \n",
       "Date                                      \n",
       "2016-04-04                           NaN  \n",
       "2016-04-05                           NaN  \n",
       "2016-04-06                           0.0  \n",
       "2016-04-07                           0.0  \n",
       "2016-04-08                           0.0  "
      ]
     },
     "execution_count": 20,
     "metadata": {},
     "output_type": "execute_result"
    }
   ],
   "source": [
    "# Set initial capital\n",
    "initial_capital = float(100000)\n",
    "\n",
    "# Set the share size\n",
    "share_size = -500\n",
    "\n",
    "# Take a 500 share position where the dual moving average crossover is 1 (SMA50 is greater than SMA100)\n",
    "signals_df[\"Position\"] = share_size * signals_df[\"Signal\"]\n",
    "\n",
    "# Find the points in time where a 500 share position is bought or sold\n",
    "signals_df[\"Entry/Exit Position\"] = signals_df[\"Position\"].diff()\n",
    "\n",
    "# Multiply share price by entry/exit positions and get the cumulatively sum\n",
    "signals_df[\"Portfolio Holdings\"] = (\n",
    "    signals_df['AAPL'] * signals_df[\"Entry/Exit Position\"].cumsum()\n",
    ")\n",
    "\n",
    "# Subtract the initial capital by the portfolio holdings to get the amount of liquid cash in the portfolio\n",
    "signals_df[\"Portfolio Cash\"] = (\n",
    "    initial_capital - (signals_df[\"AAPL\"] * signals_df[\"Entry/Exit Position\"]).cumsum()\n",
    ")\n",
    "\n",
    "# Get the total portfolio value by adding the cash amount by the portfolio holdings (or investments)\n",
    "signals_df[\"Portfolio Total\"] = (\n",
    "    signals_df[\"Portfolio Cash\"] + signals_df[\"Portfolio Holdings\"]\n",
    ")\n",
    "\n",
    "# Calculate the portfolio daily returns\n",
    "signals_df[\"Portfolio Daily Returns\"] = signals_df[\"Portfolio Total\"].pct_change()\n",
    "\n",
    "# Calculate the cumulative returns\n",
    "signals_df[\"Portfolio Cumulative Returns\"] = (\n",
    "    1 + signals_df[\"Portfolio Daily Returns\"]\n",
    ").cumprod() - 1\n",
    "\n",
    "# Print the DataFrame\n",
    "signals_df.head()"
   ]
  },
  {
   "cell_type": "markdown",
   "metadata": {},
   "source": [
    "### Plot Entry/Exit Points of Backtest Results"
   ]
  },
  {
   "cell_type": "code",
   "execution_count": 21,
   "metadata": {},
   "outputs": [
    {
     "data": {},
     "metadata": {},
     "output_type": "display_data"
    },
    {
     "data": {
      "application/vnd.holoviews_exec.v0+json": "",
      "text/html": [
       "<div id='2019'>\n",
       "\n",
       "\n",
       "\n",
       "\n",
       "\n",
       "  <div class=\"bk-root\" id=\"09a29cd9-6e32-48f0-9313-1f3dd65127f5\" data-root-id=\"2019\"></div>\n",
       "</div>\n",
       "<script type=\"application/javascript\">(function(root) {\n",
       "  function embed_document(root) {\n",
       "  var docs_json = {\"5285c293-bcb4-440e-b8db-66b1372106fb\":{\"roots\":{\"references\":[{\"attributes\":{},\"id\":\"2031\",\"type\":\"CategoricalScale\"},{\"attributes\":{\"source\":{\"id\":\"2059\"}},\"id\":\"2066\",\"type\":\"CDSView\"},{\"attributes\":{\"source\":{\"id\":\"2067\"}},\"id\":\"2074\",\"type\":\"CDSView\"},{\"attributes\":{\"data_source\":{\"id\":\"2059\"},\"glyph\":{\"id\":\"2062\"},\"hover_glyph\":null,\"muted_glyph\":{\"id\":\"2064\"},\"nonselection_glyph\":{\"id\":\"2063\"},\"selection_glyph\":null,\"view\":{\"id\":\"2066\"}},\"id\":\"2065\",\"type\":\"GlyphRenderer\"},{\"attributes\":{\"axis_label\":\"Total Portfolio Value\",\"bounds\":\"auto\",\"formatter\":{\"id\":\"2058\"},\"major_label_orientation\":\"horizontal\",\"ticker\":{\"id\":\"2039\"}},\"id\":\"2038\",\"type\":\"LinearAxis\"},{\"attributes\":{\"fill_alpha\":{\"value\":0.1},\"fill_color\":{\"value\":\"red\"},\"line_alpha\":{\"value\":0.1},\"line_color\":{\"value\":\"red\"},\"size\":{\"units\":\"screen\",\"value\":5.477225575051661},\"x\":{\"field\":\"Date\"},\"y\":{\"field\":\"Portfolio Total\"}},\"id\":\"2071\",\"type\":\"Scatter\"},{\"attributes\":{},\"id\":\"2043\",\"type\":\"PanTool\"},{\"attributes\":{\"fill_color\":{\"value\":\"red\"},\"line_color\":{\"value\":\"red\"},\"size\":{\"units\":\"screen\",\"value\":5.477225575051661},\"x\":{\"field\":\"Date\"},\"y\":{\"field\":\"Portfolio Total\"}},\"id\":\"2070\",\"type\":\"Scatter\"},{\"attributes\":{},\"id\":\"2042\",\"type\":\"SaveTool\"},{\"attributes\":{},\"id\":\"2039\",\"type\":\"BasicTicker\"},{\"attributes\":{},\"id\":\"2076\",\"type\":\"Selection\"},{\"attributes\":{},\"id\":\"2090\",\"type\":\"UnionRenderers\"},{\"attributes\":{},\"id\":\"2033\",\"type\":\"LinearScale\"},{\"attributes\":{\"data_source\":{\"id\":\"2067\"},\"glyph\":{\"id\":\"2070\"},\"hover_glyph\":null,\"muted_glyph\":{\"id\":\"2072\"},\"nonselection_glyph\":{\"id\":\"2071\"},\"selection_glyph\":null,\"view\":{\"id\":\"2074\"}},\"id\":\"2073\",\"type\":\"GlyphRenderer\"},{\"attributes\":{\"line_color\":\"lightgray\",\"line_width\":2,\"x\":{\"field\":\"Date\"},\"y\":{\"field\":\"Portfolio Total\"}},\"id\":\"2062\",\"type\":\"Line\"},{\"attributes\":{},\"id\":\"2044\",\"type\":\"WheelZoomTool\"},{\"attributes\":{\"fill_alpha\":{\"value\":0.2},\"fill_color\":{\"value\":\"red\"},\"line_alpha\":{\"value\":0.2},\"line_color\":{\"value\":\"red\"},\"size\":{\"units\":\"screen\",\"value\":5.477225575051661},\"x\":{\"field\":\"Date\"},\"y\":{\"field\":\"Portfolio Total\"}},\"id\":\"2072\",\"type\":\"Scatter\"},{\"attributes\":{\"margin\":[5,5,5,5],\"name\":\"HSpacer05639\",\"sizing_mode\":\"stretch_width\"},\"id\":\"2179\",\"type\":\"Spacer\"},{\"attributes\":{\"source\":{\"id\":\"2075\"}},\"id\":\"2082\",\"type\":\"CDSView\"},{\"attributes\":{\"fill_alpha\":{\"value\":0.1},\"fill_color\":{\"value\":\"green\"},\"line_alpha\":{\"value\":0.1},\"line_color\":{\"value\":\"green\"},\"size\":{\"units\":\"screen\",\"value\":5.477225575051661},\"x\":{\"field\":\"Date\"},\"y\":{\"field\":\"Portfolio Total\"}},\"id\":\"2079\",\"type\":\"Scatter\"},{\"attributes\":{\"overlay\":{\"id\":\"2047\"}},\"id\":\"2045\",\"type\":\"BoxZoomTool\"},{\"attributes\":{\"data\":{\"Date\":[\"2016-04-14\",\"2016-05-19\",\"2016-06-09\"],\"Portfolio Total\":{\"__ndarray__\":\"H7qgPpBp+EAw2A1bfMP4QKazk8HRtvhA\",\"dtype\":\"float64\",\"shape\":[3]},\"Portfolio_Total\":{\"__ndarray__\":\"H7qgPpBp+EAw2A1bfMP4QKazk8HRtvhA\",\"dtype\":\"float64\",\"shape\":[3]}},\"selected\":{\"id\":\"2068\"},\"selection_policy\":{\"id\":\"2092\"}},\"id\":\"2067\",\"type\":\"ColumnDataSource\"},{\"attributes\":{},\"id\":\"2056\",\"type\":\"CategoricalTickFormatter\"},{\"attributes\":{},\"id\":\"2046\",\"type\":\"ResetTool\"},{\"attributes\":{\"active_drag\":\"auto\",\"active_inspect\":\"auto\",\"active_multi\":null,\"active_scroll\":\"auto\",\"active_tap\":\"auto\",\"tools\":[{\"id\":\"2023\"},{\"id\":\"2042\"},{\"id\":\"2043\"},{\"id\":\"2044\"},{\"id\":\"2045\"},{\"id\":\"2046\"}]},\"id\":\"2048\",\"type\":\"Toolbar\"},{\"attributes\":{\"fill_color\":{\"value\":\"green\"},\"line_color\":{\"value\":\"green\"},\"size\":{\"units\":\"screen\",\"value\":5.477225575051661},\"x\":{\"field\":\"Date\"},\"y\":{\"field\":\"Portfolio Total\"}},\"id\":\"2078\",\"type\":\"Scatter\"},{\"attributes\":{\"end\":102073.052117,\"reset_end\":102073.052117,\"reset_start\":99803.92103299999,\"start\":99803.92103299999,\"tags\":[[[\"Portfolio Total\",\"Portfolio Total\",null]]]},\"id\":\"2022\",\"type\":\"Range1d\"},{\"attributes\":{\"axis\":{\"id\":\"2038\"},\"dimension\":1,\"grid_line_color\":null,\"ticker\":null},\"id\":\"2041\",\"type\":\"Grid\"},{\"attributes\":{},\"id\":\"2092\",\"type\":\"UnionRenderers\"},{\"attributes\":{\"callback\":null,\"renderers\":[{\"id\":\"2065\"},{\"id\":\"2073\"},{\"id\":\"2081\"}],\"tags\":[\"hv_created\"],\"tooltips\":[[\"Date\",\"@{Date}\"],[\"Portfolio Total\",\"@{Portfolio_Total}\"]]},\"id\":\"2023\",\"type\":\"HoverTool\"},{\"attributes\":{\"margin\":[5,5,5,5],\"name\":\"HSpacer05638\",\"sizing_mode\":\"stretch_width\"},\"id\":\"2020\",\"type\":\"Spacer\"},{\"attributes\":{\"data_source\":{\"id\":\"2075\"},\"glyph\":{\"id\":\"2078\"},\"hover_glyph\":null,\"muted_glyph\":{\"id\":\"2080\"},\"nonselection_glyph\":{\"id\":\"2079\"},\"selection_glyph\":null,\"view\":{\"id\":\"2082\"}},\"id\":\"2081\",\"type\":\"GlyphRenderer\"},{\"attributes\":{\"line_alpha\":0.2,\"line_color\":\"lightgray\",\"line_width\":2,\"x\":{\"field\":\"Date\"},\"y\":{\"field\":\"Portfolio Total\"}},\"id\":\"2064\",\"type\":\"Line\"},{\"attributes\":{\"children\":[{\"id\":\"2020\"},{\"id\":\"2026\"},{\"id\":\"2179\"}],\"margin\":[0,0,0,0],\"name\":\"Row05634\",\"tags\":[\"embedded\"]},\"id\":\"2019\",\"type\":\"Row\"},{\"attributes\":{\"fill_alpha\":{\"value\":0.2},\"fill_color\":{\"value\":\"green\"},\"line_alpha\":{\"value\":0.2},\"line_color\":{\"value\":\"green\"},\"size\":{\"units\":\"screen\",\"value\":5.477225575051661},\"x\":{\"field\":\"Date\"},\"y\":{\"field\":\"Portfolio Total\"}},\"id\":\"2080\",\"type\":\"Scatter\"},{\"attributes\":{\"data\":{\"Date\":[\"2016-04-13\",\"2016-04-20\",\"2016-06-03\",\"2016-06-14\"],\"Portfolio Total\":{\"__ndarray__\":\"AAAAAABq+EAfuqA+kGn4QDDYDVt8w/hAp7OTwdG2+EA=\",\"dtype\":\"float64\",\"shape\":[4]},\"Portfolio_Total\":{\"__ndarray__\":\"AAAAAABq+EAfuqA+kGn4QDDYDVt8w/hAp7OTwdG2+EA=\",\"dtype\":\"float64\",\"shape\":[4]}},\"selected\":{\"id\":\"2076\"},\"selection_policy\":{\"id\":\"2094\"}},\"id\":\"2075\",\"type\":\"ColumnDataSource\"},{\"attributes\":{},\"id\":\"2058\",\"type\":\"BasicTickFormatter\"},{\"attributes\":{},\"id\":\"2036\",\"type\":\"CategoricalTicker\"},{\"attributes\":{\"bottom_units\":\"screen\",\"fill_alpha\":0.5,\"fill_color\":\"lightgrey\",\"left_units\":\"screen\",\"level\":\"overlay\",\"line_alpha\":1.0,\"line_color\":\"black\",\"line_dash\":[4,4],\"line_width\":2,\"render_mode\":\"css\",\"right_units\":\"screen\",\"top_units\":\"screen\"},\"id\":\"2047\",\"type\":\"BoxAnnotation\"},{\"attributes\":{\"factors\":[\"2016-04-04\",\"2016-04-05\",\"2016-04-06\",\"2016-04-07\",\"2016-04-08\",\"2016-04-11\",\"2016-04-12\",\"2016-04-13\",\"2016-04-14\",\"2016-04-15\",\"2016-04-18\",\"2016-04-19\",\"2016-04-20\",\"2016-04-21\",\"2016-04-22\",\"2016-04-25\",\"2016-04-26\",\"2016-04-27\",\"2016-04-28\",\"2016-04-29\",\"2016-05-02\",\"2016-05-03\",\"2016-05-04\",\"2016-05-05\",\"2016-05-06\",\"2016-05-09\",\"2016-05-10\",\"2016-05-11\",\"2016-05-12\",\"2016-05-13\",\"2016-05-16\",\"2016-05-17\",\"2016-05-18\",\"2016-05-19\",\"2016-05-20\",\"2016-05-23\",\"2016-05-24\",\"2016-05-25\",\"2016-05-26\",\"2016-05-27\",\"2016-05-31\",\"2016-06-01\",\"2016-06-02\",\"2016-06-03\",\"2016-06-06\",\"2016-06-07\",\"2016-06-08\",\"2016-06-09\",\"2016-06-10\",\"2016-06-13\",\"2016-06-14\"],\"tags\":[[[\"Date\",\"Date\",null]]]},\"id\":\"2021\",\"type\":\"FactorRange\"},{\"attributes\":{\"data\":{\"Date\":[\"2016-04-04\",\"2016-04-05\",\"2016-04-06\",\"2016-04-07\",\"2016-04-08\",\"2016-04-11\",\"2016-04-12\",\"2016-04-13\",\"2016-04-14\",\"2016-04-15\",\"2016-04-18\",\"2016-04-19\",\"2016-04-20\",\"2016-04-21\",\"2016-04-22\",\"2016-04-25\",\"2016-04-26\",\"2016-04-27\",\"2016-04-28\",\"2016-04-29\",\"2016-05-02\",\"2016-05-03\",\"2016-05-04\",\"2016-05-05\",\"2016-05-06\",\"2016-05-09\",\"2016-05-10\",\"2016-05-11\",\"2016-05-12\",\"2016-05-13\",\"2016-05-16\",\"2016-05-17\",\"2016-05-18\",\"2016-05-19\",\"2016-05-20\",\"2016-05-23\",\"2016-05-24\",\"2016-05-25\",\"2016-05-26\",\"2016-05-27\",\"2016-05-31\",\"2016-06-01\",\"2016-06-02\",\"2016-06-03\",\"2016-06-06\",\"2016-06-07\",\"2016-06-08\",\"2016-06-09\",\"2016-06-10\",\"2016-06-13\",\"2016-06-14\"],\"Portfolio Total\":{\"__ndarray__\":\"AAAAAAAA+H8AAAAAAGr4QAAAAAAAavhAAAAAAABq+EAAAAAAAGr4QAAAAAAAavhAAAAAAABq+EAAAAAAAGr4QB+6oD6QafhAH7qgPpBp+EAfuqA+kGn4QB+6oD6QafhAH7qgPpBp+ECvIM1YAXL4QNr+lZUddPhAlgSoaXt4+EAB9tFpy334QGKcv8lQrfhAs7CnHRPD+ECiryDNAcv4QGH4iBi8y/hAQJ/IE4fA+EBxVdl3u8f4QKVJKaiDyvhAQJ/IU1LO+EC6oL4lz834QOmymFgyyfhAdTdP9dvP+EDiAWVTv9/4QHssfeht3vhA6uI2GtTF+ECU2SATr8j4QILix5jZwPhAMNgNW3zD+EAw2A1bfMP4QDDYDVt8w/hAMNgNW3zD+EAw2A1bfMP4QDDYDVt8w/hAMNgNW3zD+EAw2A1bfMP4QDDYDVt8w/hAMNgNW3zD+EAw2A1bfMP4QByxFp9JvvhAT5Ku2Vu7+EBPBkeJBLz4QKazk8HRtvhAprOTwdG2+ECms5PB0bb4QKezk8HRtvhA\",\"dtype\":\"float64\",\"shape\":[51]},\"Portfolio_Total\":{\"__ndarray__\":\"AAAAAAAA+H8AAAAAAGr4QAAAAAAAavhAAAAAAABq+EAAAAAAAGr4QAAAAAAAavhAAAAAAABq+EAAAAAAAGr4QB+6oD6QafhAH7qgPpBp+EAfuqA+kGn4QB+6oD6QafhAH7qgPpBp+ECvIM1YAXL4QNr+lZUddPhAlgSoaXt4+EAB9tFpy334QGKcv8lQrfhAs7CnHRPD+ECiryDNAcv4QGH4iBi8y/hAQJ/IE4fA+EBxVdl3u8f4QKVJKaiDyvhAQJ/IU1LO+EC6oL4lz834QOmymFgyyfhAdTdP9dvP+EDiAWVTv9/4QHssfeht3vhA6uI2GtTF+ECU2SATr8j4QILix5jZwPhAMNgNW3zD+EAw2A1bfMP4QDDYDVt8w/hAMNgNW3zD+EAw2A1bfMP4QDDYDVt8w/hAMNgNW3zD+EAw2A1bfMP4QDDYDVt8w/hAMNgNW3zD+EAw2A1bfMP4QByxFp9JvvhAT5Ku2Vu7+EBPBkeJBLz4QKazk8HRtvhAprOTwdG2+ECms5PB0bb4QKezk8HRtvhA\",\"dtype\":\"float64\",\"shape\":[51]}},\"selected\":{\"id\":\"2060\"},\"selection_policy\":{\"id\":\"2090\"}},\"id\":\"2059\",\"type\":\"ColumnDataSource\"},{\"attributes\":{\"text\":\"\",\"text_color\":{\"value\":\"black\"},\"text_font_size\":{\"value\":\"12pt\"}},\"id\":\"2027\",\"type\":\"Title\"},{\"attributes\":{},\"id\":\"2068\",\"type\":\"Selection\"},{\"attributes\":{},\"id\":\"2094\",\"type\":\"UnionRenderers\"},{\"attributes\":{\"axis\":{\"id\":\"2035\"},\"grid_line_color\":null,\"ticker\":null},\"id\":\"2037\",\"type\":\"Grid\"},{\"attributes\":{\"axis_label\":\"Date\",\"bounds\":\"auto\",\"formatter\":{\"id\":\"2056\"},\"major_label_orientation\":\"horizontal\",\"ticker\":{\"id\":\"2036\"},\"visible\":false},\"id\":\"2035\",\"type\":\"CategoricalAxis\"},{\"attributes\":{},\"id\":\"2060\",\"type\":\"Selection\"},{\"attributes\":{\"line_alpha\":0.1,\"line_color\":\"lightgray\",\"line_width\":2,\"x\":{\"field\":\"Date\"},\"y\":{\"field\":\"Portfolio Total\"}},\"id\":\"2063\",\"type\":\"Line\"},{\"attributes\":{\"below\":[{\"id\":\"2035\"}],\"center\":[{\"id\":\"2037\"},{\"id\":\"2041\"}],\"left\":[{\"id\":\"2038\"}],\"margin\":null,\"min_border_bottom\":10,\"min_border_left\":10,\"min_border_right\":10,\"min_border_top\":10,\"plot_height\":400,\"plot_width\":1000,\"renderers\":[{\"id\":\"2065\"},{\"id\":\"2073\"},{\"id\":\"2081\"}],\"sizing_mode\":\"fixed\",\"title\":{\"id\":\"2027\"},\"toolbar\":{\"id\":\"2048\"},\"x_range\":{\"id\":\"2021\"},\"x_scale\":{\"id\":\"2031\"},\"y_range\":{\"id\":\"2022\"},\"y_scale\":{\"id\":\"2033\"}},\"id\":\"2026\",\"subtype\":\"Figure\",\"type\":\"Plot\"}],\"root_ids\":[\"2019\"]},\"title\":\"Bokeh Application\",\"version\":\"2.0.2\"}};\n",
       "  var render_items = [{\"docid\":\"5285c293-bcb4-440e-b8db-66b1372106fb\",\"root_ids\":[\"2019\"],\"roots\":{\"2019\":\"09a29cd9-6e32-48f0-9313-1f3dd65127f5\"}}];\n",
       "  root.Bokeh.embed.embed_items_notebook(docs_json, render_items);\n",
       "  }\n",
       "if (root.Bokeh !== undefined) {\n",
       "    embed_document(root);\n",
       "  } else {\n",
       "    var attempts = 0;\n",
       "    var timer = setInterval(function(root) {\n",
       "      if (root.Bokeh !== undefined) {\n",
       "        clearInterval(timer);\n",
       "        embed_document(root);\n",
       "      } else if (document.readyState == \"complete\") {\n",
       "        attempts++;\n",
       "        if (attempts > 100) {\n",
       "          clearInterval(timer);\n",
       "          console.log(\"Bokeh: ERROR: Unable to run BokehJS code because BokehJS library is missing\");\n",
       "        }\n",
       "      }\n",
       "    }, 10, root)\n",
       "  }\n",
       "})(window);</script>"
      ],
      "text/plain": [
       ":Overlay\n",
       "   .Curve.I                    :Curve   [Date]   (Portfolio Total)\n",
       "   .Scatter.Portfolio_Total.I  :Scatter   [Date]   (Portfolio Total)\n",
       "   .Scatter.Portfolio_Total.II :Scatter   [Date]   (Portfolio Total)"
      ]
     },
     "execution_count": 21,
     "metadata": {
      "application/vnd.holoviews_exec.v0+json": {
       "id": "2019"
      }
     },
     "output_type": "execute_result"
    }
   ],
   "source": [
    "# Visualize exit position relative to total portfolio value\n",
    "entry = signals_df[signals_df['Entry/Exit'] == -1.0]['Portfolio Total'].hvplot.scatter(\n",
    "    color='red',\n",
    "    legend=False,\n",
    "    ylabel='Total Portfolio Value',\n",
    "    width=1000,\n",
    "    height=400\n",
    ")\n",
    "\n",
    "# Visualize entry position relative to total portfolio value\n",
    "exit = signals_df[signals_df['Entry/Exit'] == 1.0]['Portfolio Total'].hvplot.scatter(\n",
    "    color='green',\n",
    "    legend=False,\n",
    "    ylabel='Total Portfolio Value',\n",
    "    width=1000,\n",
    "    height=400\n",
    ")\n",
    "\n",
    "# Visualize total portoflio value for the investment\n",
    "total_portfolio_value = signals_df[['Portfolio Total']].hvplot(\n",
    "    line_color='lightgray',\n",
    "    ylabel='Total Portfolio Value',\n",
    "    width=1000,\n",
    "    height=400\n",
    ")\n",
    "\n",
    "# Overlay plots\n",
    "portfolio_entry_exit_plot = total_portfolio_value * entry * exit\n",
    "portfolio_entry_exit_plot.opts(xaxis=None)"
   ]
  },
  {
   "cell_type": "markdown",
   "metadata": {},
   "source": [
    "### Prepare Portfolio Evaluation Metrics DataFrame"
   ]
  },
  {
   "cell_type": "code",
   "execution_count": 22,
   "metadata": {},
   "outputs": [
    {
     "data": {
      "text/html": [
       "<div>\n",
       "<style scoped>\n",
       "    .dataframe tbody tr th:only-of-type {\n",
       "        vertical-align: middle;\n",
       "    }\n",
       "\n",
       "    .dataframe tbody tr th {\n",
       "        vertical-align: top;\n",
       "    }\n",
       "\n",
       "    .dataframe thead th {\n",
       "        text-align: right;\n",
       "    }\n",
       "</style>\n",
       "<table border=\"1\" class=\"dataframe\">\n",
       "  <thead>\n",
       "    <tr style=\"text-align: right;\">\n",
       "      <th></th>\n",
       "      <th>Backtest</th>\n",
       "    </tr>\n",
       "  </thead>\n",
       "  <tbody>\n",
       "    <tr>\n",
       "      <th>Annual Return</th>\n",
       "      <td>NaN</td>\n",
       "    </tr>\n",
       "    <tr>\n",
       "      <th>Cumulative Returns</th>\n",
       "      <td>NaN</td>\n",
       "    </tr>\n",
       "    <tr>\n",
       "      <th>Annual Volatility</th>\n",
       "      <td>NaN</td>\n",
       "    </tr>\n",
       "    <tr>\n",
       "      <th>Sharpe Ratio</th>\n",
       "      <td>NaN</td>\n",
       "    </tr>\n",
       "    <tr>\n",
       "      <th>Sortino Ratio</th>\n",
       "      <td>NaN</td>\n",
       "    </tr>\n",
       "  </tbody>\n",
       "</table>\n",
       "</div>"
      ],
      "text/plain": [
       "                   Backtest\n",
       "Annual Return           NaN\n",
       "Cumulative Returns      NaN\n",
       "Annual Volatility       NaN\n",
       "Sharpe Ratio            NaN\n",
       "Sortino Ratio           NaN"
      ]
     },
     "execution_count": 22,
     "metadata": {},
     "output_type": "execute_result"
    }
   ],
   "source": [
    "# Prepare DataFrame for metrics\n",
    "metrics = [\n",
    "    'Annual Return',\n",
    "    'Cumulative Returns',\n",
    "    'Annual Volatility',\n",
    "    'Sharpe Ratio',\n",
    "    'Sortino Ratio']\n",
    "\n",
    "columns = ['Backtest']\n",
    "\n",
    "# Initialize the DataFrame with index set to evaluation metrics and column as `Backtest` (just like PyFolio)\n",
    "portfolio_evaluation_df = pd.DataFrame(index=metrics, columns=columns)\n",
    "portfolio_evaluation_df"
   ]
  },
  {
   "cell_type": "markdown",
   "metadata": {},
   "source": [
    "### Calculate and Assign Portfolio Evaluation Metrics"
   ]
  },
  {
   "cell_type": "code",
   "execution_count": 23,
   "metadata": {},
   "outputs": [
    {
     "data": {
      "text/html": [
       "<div>\n",
       "<style scoped>\n",
       "    .dataframe tbody tr th:only-of-type {\n",
       "        vertical-align: middle;\n",
       "    }\n",
       "\n",
       "    .dataframe tbody tr th {\n",
       "        vertical-align: top;\n",
       "    }\n",
       "\n",
       "    .dataframe thead th {\n",
       "        text-align: right;\n",
       "    }\n",
       "</style>\n",
       "<table border=\"1\" class=\"dataframe\">\n",
       "  <thead>\n",
       "    <tr style=\"text-align: right;\">\n",
       "      <th></th>\n",
       "      <th>Backtest</th>\n",
       "    </tr>\n",
       "  </thead>\n",
       "  <tbody>\n",
       "    <tr>\n",
       "      <th>Annual Return</th>\n",
       "      <td>0.063096</td>\n",
       "    </tr>\n",
       "    <tr>\n",
       "      <th>Cumulative Returns</th>\n",
       "      <td>0.012291</td>\n",
       "    </tr>\n",
       "    <tr>\n",
       "      <th>Annual Volatility</th>\n",
       "      <td>0.023171</td>\n",
       "    </tr>\n",
       "    <tr>\n",
       "      <th>Sharpe Ratio</th>\n",
       "      <td>2.723045</td>\n",
       "    </tr>\n",
       "    <tr>\n",
       "      <th>Sortino Ratio</th>\n",
       "      <td>6.091238</td>\n",
       "    </tr>\n",
       "  </tbody>\n",
       "</table>\n",
       "</div>"
      ],
      "text/plain": [
       "                    Backtest\n",
       "Annual Return       0.063096\n",
       "Cumulative Returns  0.012291\n",
       "Annual Volatility   0.023171\n",
       "Sharpe Ratio        2.723045\n",
       "Sortino Ratio       6.091238"
      ]
     },
     "execution_count": 23,
     "metadata": {},
     "output_type": "execute_result"
    }
   ],
   "source": [
    "# Calculate cumulative return\n",
    "portfolio_evaluation_df.loc['Cumulative Returns'] = signals_df['Portfolio Cumulative Returns'][-1]\n",
    "\n",
    "# Calculate annualized return\n",
    "portfolio_evaluation_df.loc['Annual Return'] = (\n",
    "    signals_df['Portfolio Daily Returns'].mean() * 252\n",
    ")\n",
    "\n",
    "# Calculate annual volatility\n",
    "portfolio_evaluation_df.loc['Annual Volatility'] = (\n",
    "    signals_df['Portfolio Daily Returns'].std() * np.sqrt(252)\n",
    ")\n",
    "\n",
    "# Calculate Sharpe Ratio\n",
    "portfolio_evaluation_df.loc['Sharpe Ratio'] = (\n",
    "    signals_df['Portfolio Daily Returns'].mean() * 252) / (\n",
    "    signals_df['Portfolio Daily Returns'].std() * np.sqrt(252)\n",
    ")\n",
    "\n",
    "# Calculate Downside Return\n",
    "sortino_ratio_df = signals_df[['Portfolio Daily Returns']]\n",
    "sortino_ratio_df.loc[:,'Downside Returns'] = 0\n",
    "sortino_ratio_df.head()\n",
    "\n",
    "target = 0\n",
    "mask = sortino_ratio_df['Portfolio Daily Returns'] < target\n",
    "sortino_ratio_df.loc[mask, 'Downside Returns'] = sortino_ratio_df['Portfolio Daily Returns']**2\n",
    "\n",
    "# Calculate Sortino Ratio\n",
    "down_stdev = np.sqrt(sortino_ratio_df['Downside Returns'].mean()) * np.sqrt(252)\n",
    "expected_return = sortino_ratio_df['Portfolio Daily Returns'].mean() * 252\n",
    "sortino_ratio = expected_return/down_stdev\n",
    "\n",
    "portfolio_evaluation_df.loc['Sortino Ratio'] = sortino_ratio\n",
    "portfolio_evaluation_df.head()"
   ]
  },
  {
   "cell_type": "markdown",
   "metadata": {},
   "source": [
    "### Prepare Trade Evaluation Metrics DataFrame"
   ]
  },
  {
   "cell_type": "code",
   "execution_count": 24,
   "metadata": {},
   "outputs": [
    {
     "data": {
      "text/html": [
       "<div>\n",
       "<style scoped>\n",
       "    .dataframe tbody tr th:only-of-type {\n",
       "        vertical-align: middle;\n",
       "    }\n",
       "\n",
       "    .dataframe tbody tr th {\n",
       "        vertical-align: top;\n",
       "    }\n",
       "\n",
       "    .dataframe thead th {\n",
       "        text-align: right;\n",
       "    }\n",
       "</style>\n",
       "<table border=\"1\" class=\"dataframe\">\n",
       "  <thead>\n",
       "    <tr style=\"text-align: right;\">\n",
       "      <th></th>\n",
       "      <th>Stock</th>\n",
       "      <th>Entry Date</th>\n",
       "      <th>Exit Date</th>\n",
       "      <th>Shares</th>\n",
       "      <th>Entry Share Price</th>\n",
       "      <th>Exit Share Price</th>\n",
       "      <th>Entry Portfolio Holding</th>\n",
       "      <th>Exit Portfolio Holding</th>\n",
       "      <th>Profit/Loss</th>\n",
       "    </tr>\n",
       "  </thead>\n",
       "  <tbody>\n",
       "  </tbody>\n",
       "</table>\n",
       "</div>"
      ],
      "text/plain": [
       "Empty DataFrame\n",
       "Columns: [Stock, Entry Date, Exit Date, Shares, Entry Share Price, Exit Share Price, Entry Portfolio Holding, Exit Portfolio Holding, Profit/Loss]\n",
       "Index: []"
      ]
     },
     "execution_count": 24,
     "metadata": {},
     "output_type": "execute_result"
    }
   ],
   "source": [
    "# Initialize trade evaluation DataFrame with columns\n",
    "trade_evaluation_df = pd.DataFrame(\n",
    "    columns=[\n",
    "        'Stock', \n",
    "        'Entry Date', \n",
    "        'Exit Date', \n",
    "        'Shares', \n",
    "        'Entry Share Price', \n",
    "        'Exit Share Price', \n",
    "        'Entry Portfolio Holding', \n",
    "        'Exit Portfolio Holding', \n",
    "        'Profit/Loss']\n",
    ")\n",
    "\n",
    "trade_evaluation_df"
   ]
  },
  {
   "cell_type": "code",
   "execution_count": 25,
   "metadata": {},
   "outputs": [
    {
     "data": {
      "text/html": [
       "<div>\n",
       "<style scoped>\n",
       "    .dataframe tbody tr th:only-of-type {\n",
       "        vertical-align: middle;\n",
       "    }\n",
       "\n",
       "    .dataframe tbody tr th {\n",
       "        vertical-align: top;\n",
       "    }\n",
       "\n",
       "    .dataframe thead th {\n",
       "        text-align: right;\n",
       "    }\n",
       "</style>\n",
       "<table border=\"1\" class=\"dataframe\">\n",
       "  <thead>\n",
       "    <tr style=\"text-align: right;\">\n",
       "      <th></th>\n",
       "      <th>Stock</th>\n",
       "      <th>Entry Date</th>\n",
       "      <th>Exit Date</th>\n",
       "      <th>Shares</th>\n",
       "      <th>Entry Share Price</th>\n",
       "      <th>Exit Share Price</th>\n",
       "      <th>Entry Portfolio Holding</th>\n",
       "      <th>Exit Portfolio Holding</th>\n",
       "      <th>Profit/Loss</th>\n",
       "    </tr>\n",
       "  </thead>\n",
       "  <tbody>\n",
       "    <tr>\n",
       "      <th>0</th>\n",
       "      <td>AAPL</td>\n",
       "      <td>2016-04-13</td>\n",
       "      <td>2016-04-14</td>\n",
       "      <td>-500.0</td>\n",
       "      <td>26.091280</td>\n",
       "      <td>26.105249</td>\n",
       "      <td>13045.639990</td>\n",
       "      <td>13052.624700</td>\n",
       "      <td>-6.98471</td>\n",
       "    </tr>\n",
       "    <tr>\n",
       "      <th>1</th>\n",
       "      <td>AAPL</td>\n",
       "      <td>2016-04-20</td>\n",
       "      <td>2016-05-19</td>\n",
       "      <td>-500.0</td>\n",
       "      <td>24.947865</td>\n",
       "      <td>22.070351</td>\n",
       "      <td>12473.932265</td>\n",
       "      <td>11035.175325</td>\n",
       "      <td>1438.75694</td>\n",
       "    </tr>\n",
       "    <tr>\n",
       "      <th>2</th>\n",
       "      <td>AAPL</td>\n",
       "      <td>2016-06-03</td>\n",
       "      <td>2016-06-09</td>\n",
       "      <td>-500.0</td>\n",
       "      <td>22.941923</td>\n",
       "      <td>23.347248</td>\n",
       "      <td>11470.961570</td>\n",
       "      <td>11673.624040</td>\n",
       "      <td>-202.66247</td>\n",
       "    </tr>\n",
       "  </tbody>\n",
       "</table>\n",
       "</div>"
      ],
      "text/plain": [
       "  Stock  Entry Date   Exit Date  Shares  Entry Share Price  Exit Share Price  \\\n",
       "0  AAPL  2016-04-13  2016-04-14  -500.0          26.091280         26.105249   \n",
       "1  AAPL  2016-04-20  2016-05-19  -500.0          24.947865         22.070351   \n",
       "2  AAPL  2016-06-03  2016-06-09  -500.0          22.941923         23.347248   \n",
       "\n",
       "   Entry Portfolio Holding  Exit Portfolio Holding  Profit/Loss  \n",
       "0             13045.639990            13052.624700     -6.98471  \n",
       "1             12473.932265            11035.175325   1438.75694  \n",
       "2             11470.961570            11673.624040   -202.66247  "
      ]
     },
     "execution_count": 25,
     "metadata": {},
     "output_type": "execute_result"
    }
   ],
   "source": [
    "# Initialize iterative variables\n",
    "entry_date = ''\n",
    "exit_date = ''\n",
    "entry_portfolio_holding = 0\n",
    "exit_portfolio_holding = 0\n",
    "share_size = 0\n",
    "entry_share_price = 0\n",
    "exit_share_price = 0\n",
    "\n",
    "# Loop through signal DataFrame\n",
    "# If `Entry/Exit` is 1, set entry trade metrics\n",
    "# Else if `Entry/Exit` is -1, set exit trade metrics and calculate profit,\n",
    "# Then append the record to the trade evaluation DataFrame\n",
    "for index, row in signals_df.iterrows():\n",
    "    if row['Entry/Exit'] == 1:\n",
    "        entry_date = index\n",
    "        entry_portfolio_holding = abs(row['Portfolio Holdings'])\n",
    "        share_size = row['Entry/Exit Position']\n",
    "        entry_share_price = row[\"AAPL\"]\n",
    "\n",
    "    elif row['Entry/Exit'] == -1:\n",
    "        exit_date = index\n",
    "        exit_portfolio_holding = abs(row[\"AAPL\"] * row['Entry/Exit Position'])\n",
    "        exit_share_price = row[\"AAPL\"]\n",
    "        profit_loss =  entry_portfolio_holding - exit_portfolio_holding\n",
    "        trade_evaluation_df = trade_evaluation_df.append(\n",
    "            {\n",
    "                'Stock': \"AAPL\",\n",
    "                'Entry Date': entry_date,\n",
    "                'Exit Date': exit_date,\n",
    "                'Shares': share_size,\n",
    "                'Entry Share Price': entry_share_price,\n",
    "                'Exit Share Price': exit_share_price,\n",
    "                'Entry Portfolio Holding': entry_portfolio_holding,\n",
    "                'Exit Portfolio Holding': exit_portfolio_holding,\n",
    "                'Profit/Loss': profit_loss\n",
    "            },\n",
    "            ignore_index=True)\n",
    "\n",
    "# Print the DataFrame\n",
    "trade_evaluation_df"
   ]
  },
  {
   "cell_type": "code",
   "execution_count": 27,
   "metadata": {},
   "outputs": [
    {
     "data": {},
     "metadata": {},
     "output_type": "display_data"
    },
    {
     "data": {
      "application/vnd.holoviews_exec.v0+json": "",
      "text/html": [
       "<div id='2271'>\n",
       "\n",
       "\n",
       "\n",
       "\n",
       "\n",
       "  <div class=\"bk-root\" id=\"622afcec-ca1c-4dab-b1a6-cc204cddf215\" data-root-id=\"2271\"></div>\n",
       "</div>\n",
       "<script type=\"application/javascript\">(function(root) {\n",
       "  function embed_document(root) {\n",
       "  var docs_json = {\"a98f5373-7c90-4e0f-b8e8-308e9619210f\":{\"roots\":{\"references\":[{\"attributes\":{\"children\":[{\"id\":\"2272\"},{\"id\":\"2290\"},{\"id\":\"2294\"}],\"margin\":[0,0,0,0],\"name\":\"Row06285\",\"tags\":[\"embedded\"]},\"id\":\"2271\",\"type\":\"Row\"},{\"attributes\":{\"columns\":[{\"id\":\"2277\"},{\"id\":\"2282\"},{\"id\":\"2287\"}],\"height\":300,\"reorderable\":false,\"source\":{\"id\":\"2273\"},\"view\":{\"id\":\"2291\"},\"width\":700},\"id\":\"2290\",\"type\":\"DataTable\"},{\"attributes\":{\"data\":{\"Backtest\":{\"__ndarray__\":\"BKb8NRInsD+ApMoxEyyJP6QI6uIvupc/IP7izcvIBUALmwRebV0YQA==\",\"dtype\":\"float64\",\"shape\":[5]},\"index\":[\"Annual Return\",\"Cumulative Returns\",\"Annual Volatility\",\"Sharpe Ratio\",\"Sortino Ratio\"],\"level_0\":[0,1,2,3,4]},\"selected\":{\"id\":\"2274\"},\"selection_policy\":{\"id\":\"2293\"}},\"id\":\"2273\",\"type\":\"ColumnDataSource\"},{\"attributes\":{},\"id\":\"2280\",\"type\":\"StringFormatter\"},{\"attributes\":{},\"id\":\"2285\",\"type\":\"StringFormatter\"},{\"attributes\":{},\"id\":\"2276\",\"type\":\"IntEditor\"},{\"attributes\":{},\"id\":\"2274\",\"type\":\"Selection\"},{\"attributes\":{\"editor\":{\"id\":\"2286\"},\"field\":\"Backtest\",\"formatter\":{\"id\":\"2285\"},\"title\":\"Backtest\"},\"id\":\"2287\",\"type\":\"TableColumn\"},{\"attributes\":{\"margin\":[5,5,5,5],\"name\":\"HSpacer06289\",\"sizing_mode\":\"stretch_width\"},\"id\":\"2272\",\"type\":\"Spacer\"},{\"attributes\":{\"margin\":[5,5,5,5],\"name\":\"HSpacer06290\",\"sizing_mode\":\"stretch_width\"},\"id\":\"2294\",\"type\":\"Spacer\"},{\"attributes\":{},\"id\":\"2286\",\"type\":\"StringEditor\"},{\"attributes\":{\"editor\":{\"id\":\"2276\"},\"field\":\"level_0\",\"formatter\":{\"id\":\"2275\"},\"title\":\"level_0\"},\"id\":\"2277\",\"type\":\"TableColumn\"},{\"attributes\":{\"editor\":{\"id\":\"2281\"},\"field\":\"index\",\"formatter\":{\"id\":\"2280\"},\"title\":\"index\"},\"id\":\"2282\",\"type\":\"TableColumn\"},{\"attributes\":{\"source\":{\"id\":\"2273\"}},\"id\":\"2291\",\"type\":\"CDSView\"},{\"attributes\":{},\"id\":\"2275\",\"type\":\"NumberFormatter\"},{\"attributes\":{},\"id\":\"2293\",\"type\":\"UnionRenderers\"},{\"attributes\":{},\"id\":\"2281\",\"type\":\"StringEditor\"}],\"root_ids\":[\"2271\"]},\"title\":\"Bokeh Application\",\"version\":\"2.0.2\"}};\n",
       "  var render_items = [{\"docid\":\"a98f5373-7c90-4e0f-b8e8-308e9619210f\",\"root_ids\":[\"2271\"],\"roots\":{\"2271\":\"622afcec-ca1c-4dab-b1a6-cc204cddf215\"}}];\n",
       "  root.Bokeh.embed.embed_items_notebook(docs_json, render_items);\n",
       "  }\n",
       "if (root.Bokeh !== undefined) {\n",
       "    embed_document(root);\n",
       "  } else {\n",
       "    var attempts = 0;\n",
       "    var timer = setInterval(function(root) {\n",
       "      if (root.Bokeh !== undefined) {\n",
       "        clearInterval(timer);\n",
       "        embed_document(root);\n",
       "      } else if (document.readyState == \"complete\") {\n",
       "        attempts++;\n",
       "        if (attempts > 100) {\n",
       "          clearInterval(timer);\n",
       "          console.log(\"Bokeh: ERROR: Unable to run BokehJS code because BokehJS library is missing\");\n",
       "        }\n",
       "      }\n",
       "    }, 10, root)\n",
       "  }\n",
       "})(window);</script>"
      ],
      "text/plain": [
       ":Table   [level_0,index,Backtest]"
      ]
     },
     "execution_count": 27,
     "metadata": {
      "application/vnd.holoviews_exec.v0+json": {
       "id": "2271"
      }
     },
     "output_type": "execute_result"
    }
   ],
   "source": [
    "### Create Hvplot Table of Trade Metrics \n",
    "portfolio_evaluation_df.reset_index(inplace=True)\n",
    "portfolio_evaluation_table = portfolio_evaluation_df.hvplot.table()\n",
    "portfolio_evaluation_table"
   ]
  },
  {
   "cell_type": "code",
   "execution_count": 28,
   "metadata": {},
   "outputs": [
    {
     "data": {},
     "metadata": {},
     "output_type": "display_data"
    },
    {
     "data": {
      "application/vnd.holoviews_exec.v0+json": "",
      "text/html": [
       "<div id='2306'>\n",
       "\n",
       "\n",
       "\n",
       "\n",
       "\n",
       "  <div class=\"bk-root\" id=\"a36038b6-e9ec-4736-ae0c-e2e432adfae9\" data-root-id=\"2306\"></div>\n",
       "</div>\n",
       "<script type=\"application/javascript\">(function(root) {\n",
       "  function embed_document(root) {\n",
       "  var docs_json = {\"c53d4895-9ffe-44e8-b218-84d9c806472e\":{\"roots\":{\"references\":[{\"attributes\":{\"line_alpha\":0.2,\"line_color\":\"#ff7e0e\",\"line_width\":2,\"x\":{\"field\":\"Date\"},\"y\":{\"field\":\"value\"}},\"id\":\"2367\",\"type\":\"Line\"},{\"attributes\":{},\"id\":\"2347\",\"type\":\"Selection\"},{\"attributes\":{\"source\":{\"id\":\"2362\"}},\"id\":\"2369\",\"type\":\"CDSView\"},{\"attributes\":{\"text\":\"\",\"text_color\":{\"value\":\"black\"},\"text_font_size\":{\"value\":\"12pt\"}},\"id\":\"2314\",\"type\":\"Title\"},{\"attributes\":{\"data\":{\"Date\":[\"2016-04-04\",\"2016-04-05\",\"2016-04-06\",\"2016-04-07\",\"2016-04-08\",\"2016-04-11\",\"2016-04-12\",\"2016-04-13\",\"2016-04-14\",\"2016-04-15\",\"2016-04-18\",\"2016-04-19\",\"2016-04-20\",\"2016-04-21\",\"2016-04-22\",\"2016-04-25\",\"2016-04-26\",\"2016-04-27\",\"2016-04-28\",\"2016-04-29\",\"2016-05-02\",\"2016-05-03\",\"2016-05-04\",\"2016-05-05\",\"2016-05-06\",\"2016-05-09\",\"2016-05-10\",\"2016-05-11\",\"2016-05-12\",\"2016-05-13\",\"2016-05-16\",\"2016-05-17\",\"2016-05-18\",\"2016-05-19\",\"2016-05-20\",\"2016-05-23\",\"2016-05-24\",\"2016-05-25\",\"2016-05-26\",\"2016-05-27\",\"2016-05-31\",\"2016-06-01\",\"2016-06-02\",\"2016-06-03\",\"2016-06-06\",\"2016-06-07\",\"2016-06-08\",\"2016-06-09\",\"2016-06-10\",\"2016-06-13\",\"2016-06-14\"],\"Variable\":[\"SMA5\",\"SMA5\",\"SMA5\",\"SMA5\",\"SMA5\",\"SMA5\",\"SMA5\",\"SMA5\",\"SMA5\",\"SMA5\",\"SMA5\",\"SMA5\",\"SMA5\",\"SMA5\",\"SMA5\",\"SMA5\",\"SMA5\",\"SMA5\",\"SMA5\",\"SMA5\",\"SMA5\",\"SMA5\",\"SMA5\",\"SMA5\",\"SMA5\",\"SMA5\",\"SMA5\",\"SMA5\",\"SMA5\",\"SMA5\",\"SMA5\",\"SMA5\",\"SMA5\",\"SMA5\",\"SMA5\",\"SMA5\",\"SMA5\",\"SMA5\",\"SMA5\",\"SMA5\",\"SMA5\",\"SMA5\",\"SMA5\",\"SMA5\",\"SMA5\",\"SMA5\",\"SMA5\",\"SMA5\",\"SMA5\",\"SMA5\",\"SMA5\"],\"value\":{\"__ndarray__\":\"AAAAAAAA+H8AAAAAAAD4fwAAAAAAAPh/AAAAAAAA+H/SBf+f5pI5QI+N/p/ceTlAC9TPjF+BOUCMSy8TQI45QL3xXWayuDlASjL+v+LGOUD2d5U5hrQ5QIUck3lvijlAxmn6f+RPOUAONM+szQY5QFq1zmwV1ThALrhoxne4OECu5v6/8Zk4QAjuM3PwKjhAniGWeR2mN0BQ7MSMwBc3QK4pkNlZjzZAQFuS+QMiNkAG7/X/u/Y1QJvqjJmL6jVA2WvzXx3lNUAgD8RMt+E1QBwi9z+D0zVAS80tkzLGNUDKA2jGaKM1QOx2OrMEiTVArD1tBhiWNUCGMaAZ75Y1QHpM0myGrzVAw1M3M9TdNUC1dWOGNRY2QGKk+1/MNDZA1CNmJrNpNkDA8zcTZqY2QKnEy4zk8DZAYvgEYG4uN0B+bgWgk1c3QJ6POlNLXjdA9GyYmYBHN0D6vAAAoik3QB6lLvP/FDdAitjFDAsLN0CuiVgGzRA3QEI+ktnzJzdA6IjDbN4yN0BtZWEGZSM3QBZAM7OPEDdA\",\"dtype\":\"float64\",\"shape\":[51]}},\"selected\":{\"id\":\"2363\"},\"selection_policy\":{\"id\":\"2396\"}},\"id\":\"2362\",\"type\":\"ColumnDataSource\"},{\"attributes\":{\"data\":{\"Date\":[\"2016-04-04\",\"2016-04-05\",\"2016-04-06\",\"2016-04-07\",\"2016-04-08\",\"2016-04-11\",\"2016-04-12\",\"2016-04-13\",\"2016-04-14\",\"2016-04-15\",\"2016-04-18\",\"2016-04-19\",\"2016-04-20\",\"2016-04-21\",\"2016-04-22\",\"2016-04-25\",\"2016-04-26\",\"2016-04-27\",\"2016-04-28\",\"2016-04-29\",\"2016-05-02\",\"2016-05-03\",\"2016-05-04\",\"2016-05-05\",\"2016-05-06\",\"2016-05-09\",\"2016-05-10\",\"2016-05-11\",\"2016-05-12\",\"2016-05-13\",\"2016-05-16\",\"2016-05-17\",\"2016-05-18\",\"2016-05-19\",\"2016-05-20\",\"2016-05-23\",\"2016-05-24\",\"2016-05-25\",\"2016-05-26\",\"2016-05-27\",\"2016-05-31\",\"2016-06-01\",\"2016-06-02\",\"2016-06-03\",\"2016-06-06\",\"2016-06-07\",\"2016-06-08\",\"2016-06-09\",\"2016-06-10\",\"2016-06-13\",\"2016-06-14\"],\"Variable\":[\"SMA8\",\"SMA8\",\"SMA8\",\"SMA8\",\"SMA8\",\"SMA8\",\"SMA8\",\"SMA8\",\"SMA8\",\"SMA8\",\"SMA8\",\"SMA8\",\"SMA8\",\"SMA8\",\"SMA8\",\"SMA8\",\"SMA8\",\"SMA8\",\"SMA8\",\"SMA8\",\"SMA8\",\"SMA8\",\"SMA8\",\"SMA8\",\"SMA8\",\"SMA8\",\"SMA8\",\"SMA8\",\"SMA8\",\"SMA8\",\"SMA8\",\"SMA8\",\"SMA8\",\"SMA8\",\"SMA8\",\"SMA8\",\"SMA8\",\"SMA8\",\"SMA8\",\"SMA8\",\"SMA8\",\"SMA8\",\"SMA8\",\"SMA8\",\"SMA8\",\"SMA8\",\"SMA8\",\"SMA8\",\"SMA8\",\"SMA8\",\"SMA8\"],\"value\":{\"__ndarray__\":\"AAAAAAAA+H8AAAAAAAD4fwAAAAAAAPh/AAAAAAAA+H8AAAAAAAD4fwAAAAAAAPh/AAAAAAAA+H/YHf/DJaI5QDqX+0dzqTlA5iX/k7+pOUD/2Pu/0I85QDYv+zOrgzlAUTz8b0R4OUBK//3viWE5QLdy/j8RPjlA5Lz/jzMKOUBNyP/LctA4QKjR/f/MdjhAU2n+d4gYOECWlP3rY7Y3QNVU/efcUTdAzMD5u3QBN0CyVfYb1as2QNYI9dvUVzZA0Wf2L18FNkCEafcvGeQ1QBph9lfU3TVAUOL3X9zYNUAo8fsvXsQ1QBx5/6O/pTVArPoBtLKnNUBtbQKIkqk1QLQuAwhetzVADvwDQPDBNUBcLQMQb881QBqhAtTS7DVAdEEBBIElNkC5nAHkumk2QGwQ/xOwmjZApikCnB7ONkBdlgIU2/U2QNxGA3jLFTdAP7cC0IkoN0DLPwKYtTM3QHR6/5suOTdAW0X7L8I0N0AAQvvDvCk3QOsC+zt9JDdATRD5V8QcN0AWwPerXhQ3QFAJ/J9rEjdA\",\"dtype\":\"float64\",\"shape\":[51]}},\"selected\":{\"id\":\"2380\"},\"selection_policy\":{\"id\":\"2409\"}},\"id\":\"2379\",\"type\":\"ColumnDataSource\"},{\"attributes\":{\"callback\":null,\"renderers\":[{\"id\":\"2352\"},{\"id\":\"2368\"},{\"id\":\"2385\"}],\"tags\":[\"hv_created\"],\"tooltips\":[[\"Variable\",\"@{Variable}\"],[\"Date\",\"@{Date}\"],[\"value\",\"@{value}\"]]},\"id\":\"2310\",\"type\":\"HoverTool\"},{\"attributes\":{\"line_color\":\"#1f77b3\",\"line_width\":2,\"x\":{\"field\":\"Date\"},\"y\":{\"field\":\"value\"}},\"id\":\"2349\",\"type\":\"Line\"},{\"attributes\":{\"bottom_units\":\"screen\",\"fill_alpha\":0.5,\"fill_color\":\"lightgrey\",\"left_units\":\"screen\",\"level\":\"overlay\",\"line_alpha\":1.0,\"line_color\":\"black\",\"line_dash\":[4,4],\"line_width\":2,\"render_mode\":\"css\",\"right_units\":\"screen\",\"top_units\":\"screen\"},\"id\":\"2334\",\"type\":\"BoxAnnotation\"},{\"attributes\":{},\"id\":\"2318\",\"type\":\"CategoricalScale\"},{\"attributes\":{\"margin\":[5,5,5,5],\"name\":\"HSpacer06491\",\"sizing_mode\":\"stretch_width\"},\"id\":\"2494\",\"type\":\"Spacer\"},{\"attributes\":{\"line_alpha\":0.1,\"line_color\":\"#1f77b3\",\"line_width\":2,\"x\":{\"field\":\"Date\"},\"y\":{\"field\":\"value\"}},\"id\":\"2350\",\"type\":\"Line\"},{\"attributes\":{\"data_source\":{\"id\":\"2346\"},\"glyph\":{\"id\":\"2349\"},\"hover_glyph\":null,\"muted_glyph\":{\"id\":\"2351\"},\"nonselection_glyph\":{\"id\":\"2350\"},\"selection_glyph\":null,\"view\":{\"id\":\"2353\"}},\"id\":\"2352\",\"type\":\"GlyphRenderer\"},{\"attributes\":{},\"id\":\"2330\",\"type\":\"PanTool\"},{\"attributes\":{\"label\":{\"value\":\"SMA5\"},\"renderers\":[{\"id\":\"2368\"}]},\"id\":\"2378\",\"type\":\"LegendItem\"},{\"attributes\":{},\"id\":\"2345\",\"type\":\"BasicTickFormatter\"},{\"attributes\":{},\"id\":\"2363\",\"type\":\"Selection\"},{\"attributes\":{\"line_alpha\":0.2,\"line_color\":\"#1f77b3\",\"line_width\":2,\"x\":{\"field\":\"Date\"},\"y\":{\"field\":\"value\"}},\"id\":\"2351\",\"type\":\"Line\"},{\"attributes\":{\"axis\":{\"id\":\"2322\"},\"grid_line_color\":null,\"ticker\":null},\"id\":\"2324\",\"type\":\"Grid\"},{\"attributes\":{},\"id\":\"2320\",\"type\":\"LinearScale\"},{\"attributes\":{},\"id\":\"2396\",\"type\":\"UnionRenderers\"},{\"attributes\":{\"below\":[{\"id\":\"2322\"}],\"center\":[{\"id\":\"2324\"},{\"id\":\"2328\"}],\"left\":[{\"id\":\"2325\"}],\"margin\":null,\"min_border_bottom\":10,\"min_border_left\":10,\"min_border_right\":10,\"min_border_top\":10,\"plot_height\":300,\"plot_width\":700,\"renderers\":[{\"id\":\"2352\"},{\"id\":\"2368\"},{\"id\":\"2385\"}],\"right\":[{\"id\":\"2360\"}],\"sizing_mode\":\"fixed\",\"title\":{\"id\":\"2314\"},\"toolbar\":{\"id\":\"2335\"},\"x_range\":{\"id\":\"2308\"},\"x_scale\":{\"id\":\"2318\"},\"y_range\":{\"id\":\"2309\"},\"y_scale\":{\"id\":\"2320\"}},\"id\":\"2313\",\"subtype\":\"Figure\",\"type\":\"Plot\"},{\"attributes\":{},\"id\":\"2331\",\"type\":\"WheelZoomTool\"},{\"attributes\":{\"margin\":[5,5,5,5],\"name\":\"HSpacer06490\",\"sizing_mode\":\"stretch_width\"},\"id\":\"2307\",\"type\":\"Spacer\"},{\"attributes\":{\"end\":26.599176401,\"reset_end\":26.599176401,\"reset_start\":20.672052389,\"start\":20.672052389,\"tags\":[[[\"value\",\"value\",null]]]},\"id\":\"2309\",\"type\":\"Range1d\"},{\"attributes\":{\"children\":[{\"id\":\"2307\"},{\"id\":\"2313\"},{\"id\":\"2494\"}],\"margin\":[0,0,0,0],\"name\":\"Row06486\",\"tags\":[\"embedded\"]},\"id\":\"2306\",\"type\":\"Row\"},{\"attributes\":{},\"id\":\"2323\",\"type\":\"CategoricalTicker\"},{\"attributes\":{\"axis_label\":\"\",\"bounds\":\"auto\",\"formatter\":{\"id\":\"2345\"},\"major_label_orientation\":\"horizontal\",\"ticker\":{\"id\":\"2326\"}},\"id\":\"2325\",\"type\":\"LinearAxis\"},{\"attributes\":{},\"id\":\"2377\",\"type\":\"UnionRenderers\"},{\"attributes\":{},\"id\":\"2329\",\"type\":\"SaveTool\"},{\"attributes\":{},\"id\":\"2326\",\"type\":\"BasicTicker\"},{\"attributes\":{\"axis_label\":\"Date\",\"bounds\":\"auto\",\"formatter\":{\"id\":\"2343\"},\"major_label_orientation\":\"horizontal\",\"ticker\":{\"id\":\"2323\"},\"visible\":false},\"id\":\"2322\",\"type\":\"CategoricalAxis\"},{\"attributes\":{\"data\":{\"Date\":[\"2016-04-04\",\"2016-04-05\",\"2016-04-06\",\"2016-04-07\",\"2016-04-08\",\"2016-04-11\",\"2016-04-12\",\"2016-04-13\",\"2016-04-14\",\"2016-04-15\",\"2016-04-18\",\"2016-04-19\",\"2016-04-20\",\"2016-04-21\",\"2016-04-22\",\"2016-04-25\",\"2016-04-26\",\"2016-04-27\",\"2016-04-28\",\"2016-04-29\",\"2016-05-02\",\"2016-05-03\",\"2016-05-04\",\"2016-05-05\",\"2016-05-06\",\"2016-05-09\",\"2016-05-10\",\"2016-05-11\",\"2016-05-12\",\"2016-05-13\",\"2016-05-16\",\"2016-05-17\",\"2016-05-18\",\"2016-05-19\",\"2016-05-20\",\"2016-05-23\",\"2016-05-24\",\"2016-05-25\",\"2016-05-26\",\"2016-05-27\",\"2016-05-31\",\"2016-06-01\",\"2016-06-02\",\"2016-06-03\",\"2016-06-06\",\"2016-06-07\",\"2016-06-08\",\"2016-06-09\",\"2016-06-10\",\"2016-06-13\",\"2016-06-14\"],\"Variable\":[\"AAPL\",\"AAPL\",\"AAPL\",\"AAPL\",\"AAPL\",\"AAPL\",\"AAPL\",\"AAPL\",\"AAPL\",\"AAPL\",\"AAPL\",\"AAPL\",\"AAPL\",\"AAPL\",\"AAPL\",\"AAPL\",\"AAPL\",\"AAPL\",\"AAPL\",\"AAPL\",\"AAPL\",\"AAPL\",\"AAPL\",\"AAPL\",\"AAPL\",\"AAPL\",\"AAPL\",\"AAPL\",\"AAPL\",\"AAPL\",\"AAPL\",\"AAPL\",\"AAPL\",\"AAPL\",\"AAPL\",\"AAPL\",\"AAPL\",\"AAPL\",\"AAPL\",\"AAPL\",\"AAPL\",\"AAPL\",\"AAPL\",\"AAPL\",\"AAPL\",\"AAPL\",\"AAPL\",\"AAPL\",\"AAPL\",\"AAPL\",\"AAPL\"],\"value\":{\"__ndarray__\":\"XCEHgIXgOUAEyPG/bJI5QKOLE4D71jlAf60BALZGOUCV+uxf3U05QBHIBIBTYzlAbigIYPu3OUAp4fAfXhc6QHPs6p/xGjpAWj0OIM+UOUBvJPnfhAc5QDdf/J+J5ThAb2P1P6fyOEDX3xKAf604QNnDC+A1nDhAkTL7n3B4OEC3R+t/60w4QDGI/r+gxzZAw+H9n2AVNkBVufU/ZdQ1QGhl8x9vzjVAjT/2Hz4qNkANa/DfOO81QLDL8J9u2DVAjT/2Hz65NUDGlQbAcL01QH2e9d854zVA+cIBgKWsNUAr3BOgfSo1QDR/EsBJNTVAiXcEYNH+NUC8YfQ/bec1QL1J/B+aJzZAmgANgAISNkDtKO9fME82QOlg/Z/DlzZA994IIO/vNkBZWRXAGFc3QCYV8N96hjdAjSsNgOGCN0B4r//ffWU3QJKEEqCFETdABqzqHyPlNkBIpfnfIfE2QD208j+3GzdAkbDzX7UzN0BO+u9/Ty43QOQyC0DlWDdAhRrwv7YnN0DZAghAWM42QN31DMCK1TZA\",\"dtype\":\"float64\",\"shape\":[51]}},\"selected\":{\"id\":\"2347\"},\"selection_policy\":{\"id\":\"2377\"}},\"id\":\"2346\",\"type\":\"ColumnDataSource\"},{\"attributes\":{\"axis\":{\"id\":\"2325\"},\"dimension\":1,\"grid_line_color\":null,\"ticker\":null},\"id\":\"2328\",\"type\":\"Grid\"},{\"attributes\":{\"active_drag\":\"auto\",\"active_inspect\":\"auto\",\"active_multi\":null,\"active_scroll\":\"auto\",\"active_tap\":\"auto\",\"tools\":[{\"id\":\"2310\"},{\"id\":\"2329\"},{\"id\":\"2330\"},{\"id\":\"2331\"},{\"id\":\"2332\"},{\"id\":\"2333\"}]},\"id\":\"2335\",\"type\":\"Toolbar\"},{\"attributes\":{\"click_policy\":\"mute\",\"items\":[{\"id\":\"2361\"},{\"id\":\"2378\"},{\"id\":\"2397\"}],\"location\":[0,0],\"title\":\"Variable\"},\"id\":\"2360\",\"type\":\"Legend\"},{\"attributes\":{\"overlay\":{\"id\":\"2334\"}},\"id\":\"2332\",\"type\":\"BoxZoomTool\"},{\"attributes\":{\"data_source\":{\"id\":\"2379\"},\"glyph\":{\"id\":\"2382\"},\"hover_glyph\":null,\"muted_glyph\":{\"id\":\"2384\"},\"nonselection_glyph\":{\"id\":\"2383\"},\"selection_glyph\":null,\"view\":{\"id\":\"2386\"}},\"id\":\"2385\",\"type\":\"GlyphRenderer\"},{\"attributes\":{},\"id\":\"2333\",\"type\":\"ResetTool\"},{\"attributes\":{\"line_color\":\"#ff7e0e\",\"line_width\":2,\"x\":{\"field\":\"Date\"},\"y\":{\"field\":\"value\"}},\"id\":\"2365\",\"type\":\"Line\"},{\"attributes\":{\"line_color\":\"#2ba02b\",\"line_width\":2,\"x\":{\"field\":\"Date\"},\"y\":{\"field\":\"value\"}},\"id\":\"2382\",\"type\":\"Line\"},{\"attributes\":{\"line_alpha\":0.1,\"line_color\":\"#2ba02b\",\"line_width\":2,\"x\":{\"field\":\"Date\"},\"y\":{\"field\":\"value\"}},\"id\":\"2383\",\"type\":\"Line\"},{\"attributes\":{\"data_source\":{\"id\":\"2362\"},\"glyph\":{\"id\":\"2365\"},\"hover_glyph\":null,\"muted_glyph\":{\"id\":\"2367\"},\"nonselection_glyph\":{\"id\":\"2366\"},\"selection_glyph\":null,\"view\":{\"id\":\"2369\"}},\"id\":\"2368\",\"type\":\"GlyphRenderer\"},{\"attributes\":{},\"id\":\"2343\",\"type\":\"CategoricalTickFormatter\"},{\"attributes\":{\"line_alpha\":0.1,\"line_color\":\"#ff7e0e\",\"line_width\":2,\"x\":{\"field\":\"Date\"},\"y\":{\"field\":\"value\"}},\"id\":\"2366\",\"type\":\"Line\"},{\"attributes\":{},\"id\":\"2380\",\"type\":\"Selection\"},{\"attributes\":{\"source\":{\"id\":\"2346\"}},\"id\":\"2353\",\"type\":\"CDSView\"},{\"attributes\":{},\"id\":\"2409\",\"type\":\"UnionRenderers\"},{\"attributes\":{\"source\":{\"id\":\"2379\"}},\"id\":\"2386\",\"type\":\"CDSView\"},{\"attributes\":{\"factors\":[\"2016-04-04\",\"2016-04-05\",\"2016-04-06\",\"2016-04-07\",\"2016-04-08\",\"2016-04-11\",\"2016-04-12\",\"2016-04-13\",\"2016-04-14\",\"2016-04-15\",\"2016-04-18\",\"2016-04-19\",\"2016-04-20\",\"2016-04-21\",\"2016-04-22\",\"2016-04-25\",\"2016-04-26\",\"2016-04-27\",\"2016-04-28\",\"2016-04-29\",\"2016-05-02\",\"2016-05-03\",\"2016-05-04\",\"2016-05-05\",\"2016-05-06\",\"2016-05-09\",\"2016-05-10\",\"2016-05-11\",\"2016-05-12\",\"2016-05-13\",\"2016-05-16\",\"2016-05-17\",\"2016-05-18\",\"2016-05-19\",\"2016-05-20\",\"2016-05-23\",\"2016-05-24\",\"2016-05-25\",\"2016-05-26\",\"2016-05-27\",\"2016-05-31\",\"2016-06-01\",\"2016-06-02\",\"2016-06-03\",\"2016-06-06\",\"2016-06-07\",\"2016-06-08\",\"2016-06-09\",\"2016-06-10\",\"2016-06-13\",\"2016-06-14\"],\"tags\":[[[\"Date\",\"Date\",null]]]},\"id\":\"2308\",\"type\":\"FactorRange\"},{\"attributes\":{\"label\":{\"value\":\"AAPL\"},\"renderers\":[{\"id\":\"2352\"}]},\"id\":\"2361\",\"type\":\"LegendItem\"},{\"attributes\":{\"line_alpha\":0.2,\"line_color\":\"#2ba02b\",\"line_width\":2,\"x\":{\"field\":\"Date\"},\"y\":{\"field\":\"value\"}},\"id\":\"2384\",\"type\":\"Line\"},{\"attributes\":{\"label\":{\"value\":\"SMA8\"},\"renderers\":[{\"id\":\"2385\"}]},\"id\":\"2397\",\"type\":\"LegendItem\"}],\"root_ids\":[\"2306\"]},\"title\":\"Bokeh Application\",\"version\":\"2.0.2\"}};\n",
       "  var render_items = [{\"docid\":\"c53d4895-9ffe-44e8-b218-84d9c806472e\",\"root_ids\":[\"2306\"],\"roots\":{\"2306\":\"a36038b6-e9ec-4736-ae0c-e2e432adfae9\"}}];\n",
       "  root.Bokeh.embed.embed_items_notebook(docs_json, render_items);\n",
       "  }\n",
       "if (root.Bokeh !== undefined) {\n",
       "    embed_document(root);\n",
       "  } else {\n",
       "    var attempts = 0;\n",
       "    var timer = setInterval(function(root) {\n",
       "      if (root.Bokeh !== undefined) {\n",
       "        clearInterval(timer);\n",
       "        embed_document(root);\n",
       "      } else if (document.readyState == \"complete\") {\n",
       "        attempts++;\n",
       "        if (attempts > 100) {\n",
       "          clearInterval(timer);\n",
       "          console.log(\"Bokeh: ERROR: Unable to run BokehJS code because BokehJS library is missing\");\n",
       "        }\n",
       "      }\n",
       "    }, 10, root)\n",
       "  }\n",
       "})(window);</script>"
      ],
      "text/plain": [
       ":NdOverlay   [Variable]\n",
       "   :Curve   [Date]   (value)"
      ]
     },
     "execution_count": 28,
     "metadata": {
      "application/vnd.holoviews_exec.v0+json": {
       "id": "2306"
      }
     },
     "output_type": "execute_result"
    }
   ],
   "source": [
    "price_df = signals_df[[\"AAPL\", 'SMA5', 'SMA8']]\n",
    "price_chart = price_df.hvplot.line()\n",
    "price_chart.opts(xaxis=None)"
   ]
  },
  {
   "cell_type": "code",
   "execution_count": 29,
   "metadata": {},
   "outputs": [
    {
     "data": {},
     "metadata": {},
     "output_type": "display_data"
    },
    {
     "data": {
      "application/vnd.holoviews_exec.v0+json": "",
      "text/html": [
       "<div id='2556'>\n",
       "\n",
       "\n",
       "\n",
       "\n",
       "\n",
       "  <div class=\"bk-root\" id=\"b0498a0c-76d9-4091-8904-c6535592f528\" data-root-id=\"2556\"></div>\n",
       "</div>\n",
       "<script type=\"application/javascript\">(function(root) {\n",
       "  function embed_document(root) {\n",
       "  var docs_json = {\"715ece61-4697-484a-a1a9-2dc4658814e5\":{\"roots\":{\"references\":[{\"attributes\":{\"editor\":{\"id\":\"2561\"},\"field\":\"Stock\",\"formatter\":{\"id\":\"2560\"},\"title\":\"Stock\"},\"id\":\"2562\",\"type\":\"TableColumn\"},{\"attributes\":{},\"id\":\"2561\",\"type\":\"StringEditor\"},{\"attributes\":{},\"id\":\"2559\",\"type\":\"Selection\"},{\"attributes\":{},\"id\":\"2565\",\"type\":\"StringFormatter\"},{\"attributes\":{},\"id\":\"2566\",\"type\":\"StringEditor\"},{\"attributes\":{\"format\":\"0,0.0[00000]\"},\"id\":\"2580\",\"type\":\"NumberFormatter\"},{\"attributes\":{},\"id\":\"2560\",\"type\":\"StringFormatter\"},{\"attributes\":{},\"id\":\"2608\",\"type\":\"UnionRenderers\"},{\"attributes\":{},\"id\":\"2571\",\"type\":\"StringEditor\"},{\"attributes\":{},\"id\":\"2576\",\"type\":\"NumberEditor\"},{\"attributes\":{},\"id\":\"2570\",\"type\":\"StringFormatter\"},{\"attributes\":{\"editor\":{\"id\":\"2566\"},\"field\":\"Entry_Date\",\"formatter\":{\"id\":\"2565\"},\"title\":\"Entry Date\"},\"id\":\"2567\",\"type\":\"TableColumn\"},{\"attributes\":{},\"id\":\"2581\",\"type\":\"NumberEditor\"},{\"attributes\":{\"format\":\"0,0.0[00000]\"},\"id\":\"2575\",\"type\":\"NumberFormatter\"},{\"attributes\":{\"editor\":{\"id\":\"2571\"},\"field\":\"Exit_Date\",\"formatter\":{\"id\":\"2570\"},\"title\":\"Exit Date\"},\"id\":\"2572\",\"type\":\"TableColumn\"},{\"attributes\":{\"data\":{\"Entry_Date\":[\"2016-04-13\",\"2016-04-20\",\"2016-06-03\"],\"Entry_Portfolio_Holding\":{\"__ndarray__\":\"4jsx69F6yUAao3VU91zIQGjLuRR7Z8ZA\",\"dtype\":\"float64\",\"shape\":[3]},\"Entry_Share_Price\":{\"__ndarray__\":\"KeHwH14XOkBvY/U/p/I4QEil+d8h8TZA\",\"dtype\":\"float64\",\"shape\":[3]},\"Exit_Date\":[\"2016-04-14\",\"2016-05-19\",\"2016-06-09\"],\"Exit_Portfolio_Holding\":{\"__ndarray__\":\"6Gor9k9+yUCWsgxxlo3FQLPviuDPzMZA\",\"dtype\":\"float64\",\"shape\":[3]},\"Exit_Share_Price\":{\"__ndarray__\":\"c+zqn/EaOkCaAA2AAhI2QOQyC0DlWDdA\",\"dtype\":\"float64\",\"shape\":[3]},\"Profit_over_Loss\":{\"__ndarray__\":\"ADB40VfwG8AghEcbB3uWQMASSfQyVWnA\",\"dtype\":\"float64\",\"shape\":[3]},\"Shares\":{\"__ndarray__\":\"AAAAAABAf8AAAAAAAEB/wAAAAAAAQH/A\",\"dtype\":\"float64\",\"shape\":[3]},\"Stock\":[\"AAPL\",\"AAPL\",\"AAPL\"]},\"selected\":{\"id\":\"2559\"},\"selection_policy\":{\"id\":\"2608\"}},\"id\":\"2558\",\"type\":\"ColumnDataSource\"},{\"attributes\":{\"editor\":{\"id\":\"2576\"},\"field\":\"Shares\",\"formatter\":{\"id\":\"2575\"},\"title\":\"Shares\"},\"id\":\"2577\",\"type\":\"TableColumn\"},{\"attributes\":{\"margin\":[5,5,5,5],\"name\":\"HSpacer07051\",\"sizing_mode\":\"stretch_width\"},\"id\":\"2557\",\"type\":\"Spacer\"},{\"attributes\":{\"format\":\"0,0.0[00000]\"},\"id\":\"2585\",\"type\":\"NumberFormatter\"},{\"attributes\":{},\"id\":\"2586\",\"type\":\"NumberEditor\"},{\"attributes\":{\"editor\":{\"id\":\"2581\"},\"field\":\"Entry_Share_Price\",\"formatter\":{\"id\":\"2580\"},\"title\":\"Entry Share Price\"},\"id\":\"2582\",\"type\":\"TableColumn\"},{\"attributes\":{\"format\":\"0,0.0[00000]\"},\"id\":\"2590\",\"type\":\"NumberFormatter\"},{\"attributes\":{},\"id\":\"2591\",\"type\":\"NumberEditor\"},{\"attributes\":{\"editor\":{\"id\":\"2586\"},\"field\":\"Exit_Share_Price\",\"formatter\":{\"id\":\"2585\"},\"title\":\"Exit Share Price\"},\"id\":\"2587\",\"type\":\"TableColumn\"},{\"attributes\":{\"format\":\"0,0.0[00000]\"},\"id\":\"2595\",\"type\":\"NumberFormatter\"},{\"attributes\":{},\"id\":\"2596\",\"type\":\"NumberEditor\"},{\"attributes\":{\"editor\":{\"id\":\"2591\"},\"field\":\"Entry_Portfolio_Holding\",\"formatter\":{\"id\":\"2590\"},\"title\":\"Entry Portfolio Holding\"},\"id\":\"2592\",\"type\":\"TableColumn\"},{\"attributes\":{\"margin\":[5,5,5,5],\"name\":\"HSpacer07052\",\"sizing_mode\":\"stretch_width\"},\"id\":\"2609\",\"type\":\"Spacer\"},{\"attributes\":{\"format\":\"0,0.0[00000]\"},\"id\":\"2600\",\"type\":\"NumberFormatter\"},{\"attributes\":{},\"id\":\"2601\",\"type\":\"NumberEditor\"},{\"attributes\":{\"editor\":{\"id\":\"2596\"},\"field\":\"Exit_Portfolio_Holding\",\"formatter\":{\"id\":\"2595\"},\"title\":\"Exit Portfolio Holding\"},\"id\":\"2597\",\"type\":\"TableColumn\"},{\"attributes\":{\"columns\":[{\"id\":\"2562\"},{\"id\":\"2567\"},{\"id\":\"2572\"},{\"id\":\"2577\"},{\"id\":\"2582\"},{\"id\":\"2587\"},{\"id\":\"2592\"},{\"id\":\"2597\"},{\"id\":\"2602\"}],\"height\":300,\"reorderable\":false,\"source\":{\"id\":\"2558\"},\"view\":{\"id\":\"2606\"},\"width\":700},\"id\":\"2605\",\"type\":\"DataTable\"},{\"attributes\":{\"source\":{\"id\":\"2558\"}},\"id\":\"2606\",\"type\":\"CDSView\"},{\"attributes\":{\"editor\":{\"id\":\"2601\"},\"field\":\"Profit_over_Loss\",\"formatter\":{\"id\":\"2600\"},\"title\":\"Profit/Loss\"},\"id\":\"2602\",\"type\":\"TableColumn\"},{\"attributes\":{\"children\":[{\"id\":\"2557\"},{\"id\":\"2605\"},{\"id\":\"2609\"}],\"margin\":[0,0,0,0],\"name\":\"Row07047\",\"tags\":[\"embedded\"]},\"id\":\"2556\",\"type\":\"Row\"}],\"root_ids\":[\"2556\"]},\"title\":\"Bokeh Application\",\"version\":\"2.0.2\"}};\n",
       "  var render_items = [{\"docid\":\"715ece61-4697-484a-a1a9-2dc4658814e5\",\"root_ids\":[\"2556\"],\"roots\":{\"2556\":\"b0498a0c-76d9-4091-8904-c6535592f528\"}}];\n",
       "  root.Bokeh.embed.embed_items_notebook(docs_json, render_items);\n",
       "  }\n",
       "if (root.Bokeh !== undefined) {\n",
       "    embed_document(root);\n",
       "  } else {\n",
       "    var attempts = 0;\n",
       "    var timer = setInterval(function(root) {\n",
       "      if (root.Bokeh !== undefined) {\n",
       "        clearInterval(timer);\n",
       "        embed_document(root);\n",
       "      } else if (document.readyState == \"complete\") {\n",
       "        attempts++;\n",
       "        if (attempts > 100) {\n",
       "          clearInterval(timer);\n",
       "          console.log(\"Bokeh: ERROR: Unable to run BokehJS code because BokehJS library is missing\");\n",
       "        }\n",
       "      }\n",
       "    }, 10, root)\n",
       "  }\n",
       "})(window);</script>"
      ],
      "text/plain": [
       ":Table   [Stock,Entry Date,Exit Date,Shares,Entry Share Price,Exit Share Price,Entry Portfolio Holding,Exit Portfolio Holding,Profit/Loss]"
      ]
     },
     "execution_count": 29,
     "metadata": {
      "application/vnd.holoviews_exec.v0+json": {
       "id": "2556"
      }
     },
     "output_type": "execute_result"
    }
   ],
   "source": [
    "trade_evaluation_table = trade_evaluation_df.hvplot.table()\n",
    "trade_evaluation_table"
   ]
  },
  {
   "cell_type": "code",
   "execution_count": 30,
   "metadata": {},
   "outputs": [
    {
     "data": {
      "text/markdown": [
       "# Trading Dashboard"
      ],
      "text/plain": [
       "<IPython.core.display.Markdown object>"
      ]
     },
     "metadata": {},
     "output_type": "display_data"
    },
    {
     "data": {},
     "metadata": {},
     "output_type": "display_data"
    },
    {
     "data": {
      "application/vnd.holoviews_exec.v0+json": "",
      "text/html": [
       "<div id='2621'>\n",
       "\n",
       "\n",
       "\n",
       "\n",
       "\n",
       "  <div class=\"bk-root\" id=\"750b1dfc-6750-4bc8-8a06-3adc16c9d3fe\" data-root-id=\"2621\"></div>\n",
       "</div>\n",
       "<script type=\"application/javascript\">(function(root) {\n",
       "  function embed_document(root) {\n",
       "  var docs_json = {\"6061979c-dc1c-4ad6-b769-37c303ee9ad7\":{\"roots\":{\"references\":[{\"attributes\":{\"active_drag\":\"auto\",\"active_inspect\":\"auto\",\"active_multi\":null,\"active_scroll\":\"auto\",\"active_tap\":\"auto\",\"tools\":[{\"id\":\"2625\"},{\"id\":\"2644\"},{\"id\":\"2645\"},{\"id\":\"2646\"},{\"id\":\"2647\"},{\"id\":\"2648\"}]},\"id\":\"2650\",\"type\":\"Toolbar\"},{\"attributes\":{\"overlay\":{\"id\":\"2649\"}},\"id\":\"2647\",\"type\":\"BoxZoomTool\"},{\"attributes\":{},\"id\":\"2648\",\"type\":\"ResetTool\"},{\"attributes\":{},\"id\":\"2658\",\"type\":\"CategoricalTickFormatter\"},{\"attributes\":{\"label\":{\"value\":\"SMA8\"},\"renderers\":[{\"id\":\"2700\"}]},\"id\":\"2712\",\"type\":\"LegendItem\"},{\"attributes\":{},\"id\":\"2724\",\"type\":\"UnionRenderers\"},{\"attributes\":{},\"id\":\"2692\",\"type\":\"UnionRenderers\"},{\"attributes\":{\"margin\":[5,5,5,5],\"name\":\"HSpacer07098\",\"sizing_mode\":\"stretch_width\"},\"id\":\"2622\",\"type\":\"Spacer\"},{\"attributes\":{\"line_alpha\":0.1,\"line_color\":\"#1f77b3\",\"line_width\":2,\"x\":{\"field\":\"Date\"},\"y\":{\"field\":\"value\"}},\"id\":\"2665\",\"type\":\"Line\"},{\"attributes\":{\"end\":26.599176401,\"reset_end\":26.599176401,\"reset_start\":20.672052389,\"start\":20.672052389,\"tags\":[[[\"value\",\"value\",null]]]},\"id\":\"2624\",\"type\":\"Range1d\"},{\"attributes\":{\"data\":{\"Date\":[\"2016-04-04\",\"2016-04-05\",\"2016-04-06\",\"2016-04-07\",\"2016-04-08\",\"2016-04-11\",\"2016-04-12\",\"2016-04-13\",\"2016-04-14\",\"2016-04-15\",\"2016-04-18\",\"2016-04-19\",\"2016-04-20\",\"2016-04-21\",\"2016-04-22\",\"2016-04-25\",\"2016-04-26\",\"2016-04-27\",\"2016-04-28\",\"2016-04-29\",\"2016-05-02\",\"2016-05-03\",\"2016-05-04\",\"2016-05-05\",\"2016-05-06\",\"2016-05-09\",\"2016-05-10\",\"2016-05-11\",\"2016-05-12\",\"2016-05-13\",\"2016-05-16\",\"2016-05-17\",\"2016-05-18\",\"2016-05-19\",\"2016-05-20\",\"2016-05-23\",\"2016-05-24\",\"2016-05-25\",\"2016-05-26\",\"2016-05-27\",\"2016-05-31\",\"2016-06-01\",\"2016-06-02\",\"2016-06-03\",\"2016-06-06\",\"2016-06-07\",\"2016-06-08\",\"2016-06-09\",\"2016-06-10\",\"2016-06-13\",\"2016-06-14\"],\"Variable\":[\"SMA5\",\"SMA5\",\"SMA5\",\"SMA5\",\"SMA5\",\"SMA5\",\"SMA5\",\"SMA5\",\"SMA5\",\"SMA5\",\"SMA5\",\"SMA5\",\"SMA5\",\"SMA5\",\"SMA5\",\"SMA5\",\"SMA5\",\"SMA5\",\"SMA5\",\"SMA5\",\"SMA5\",\"SMA5\",\"SMA5\",\"SMA5\",\"SMA5\",\"SMA5\",\"SMA5\",\"SMA5\",\"SMA5\",\"SMA5\",\"SMA5\",\"SMA5\",\"SMA5\",\"SMA5\",\"SMA5\",\"SMA5\",\"SMA5\",\"SMA5\",\"SMA5\",\"SMA5\",\"SMA5\",\"SMA5\",\"SMA5\",\"SMA5\",\"SMA5\",\"SMA5\",\"SMA5\",\"SMA5\",\"SMA5\",\"SMA5\",\"SMA5\"],\"value\":{\"__ndarray__\":\"AAAAAAAA+H8AAAAAAAD4fwAAAAAAAPh/AAAAAAAA+H/SBf+f5pI5QI+N/p/ceTlAC9TPjF+BOUCMSy8TQI45QL3xXWayuDlASjL+v+LGOUD2d5U5hrQ5QIUck3lvijlAxmn6f+RPOUAONM+szQY5QFq1zmwV1ThALrhoxne4OECu5v6/8Zk4QAjuM3PwKjhAniGWeR2mN0BQ7MSMwBc3QK4pkNlZjzZAQFuS+QMiNkAG7/X/u/Y1QJvqjJmL6jVA2WvzXx3lNUAgD8RMt+E1QBwi9z+D0zVAS80tkzLGNUDKA2jGaKM1QOx2OrMEiTVArD1tBhiWNUCGMaAZ75Y1QHpM0myGrzVAw1M3M9TdNUC1dWOGNRY2QGKk+1/MNDZA1CNmJrNpNkDA8zcTZqY2QKnEy4zk8DZAYvgEYG4uN0B+bgWgk1c3QJ6POlNLXjdA9GyYmYBHN0D6vAAAoik3QB6lLvP/FDdAitjFDAsLN0CuiVgGzRA3QEI+ktnzJzdA6IjDbN4yN0BtZWEGZSM3QBZAM7OPEDdA\",\"dtype\":\"float64\",\"shape\":[51]}},\"selected\":{\"id\":\"2678\"},\"selection_policy\":{\"id\":\"2711\"}},\"id\":\"2677\",\"type\":\"ColumnDataSource\"},{\"attributes\":{\"label\":{\"value\":\"AAPL\"},\"renderers\":[{\"id\":\"2667\"}]},\"id\":\"2676\",\"type\":\"LegendItem\"},{\"attributes\":{\"margin\":[5,5,5,5],\"name\":\"HSpacer07099\",\"sizing_mode\":\"stretch_width\"},\"id\":\"2809\",\"type\":\"Spacer\"},{\"attributes\":{},\"id\":\"2633\",\"type\":\"CategoricalScale\"},{\"attributes\":{\"data_source\":{\"id\":\"2694\"},\"glyph\":{\"id\":\"2697\"},\"hover_glyph\":null,\"muted_glyph\":{\"id\":\"2699\"},\"nonselection_glyph\":{\"id\":\"2698\"},\"selection_glyph\":null,\"view\":{\"id\":\"2701\"}},\"id\":\"2700\",\"type\":\"GlyphRenderer\"},{\"attributes\":{},\"id\":\"2660\",\"type\":\"BasicTickFormatter\"},{\"attributes\":{},\"id\":\"2646\",\"type\":\"WheelZoomTool\"},{\"attributes\":{\"data\":{\"Date\":[\"2016-04-04\",\"2016-04-05\",\"2016-04-06\",\"2016-04-07\",\"2016-04-08\",\"2016-04-11\",\"2016-04-12\",\"2016-04-13\",\"2016-04-14\",\"2016-04-15\",\"2016-04-18\",\"2016-04-19\",\"2016-04-20\",\"2016-04-21\",\"2016-04-22\",\"2016-04-25\",\"2016-04-26\",\"2016-04-27\",\"2016-04-28\",\"2016-04-29\",\"2016-05-02\",\"2016-05-03\",\"2016-05-04\",\"2016-05-05\",\"2016-05-06\",\"2016-05-09\",\"2016-05-10\",\"2016-05-11\",\"2016-05-12\",\"2016-05-13\",\"2016-05-16\",\"2016-05-17\",\"2016-05-18\",\"2016-05-19\",\"2016-05-20\",\"2016-05-23\",\"2016-05-24\",\"2016-05-25\",\"2016-05-26\",\"2016-05-27\",\"2016-05-31\",\"2016-06-01\",\"2016-06-02\",\"2016-06-03\",\"2016-06-06\",\"2016-06-07\",\"2016-06-08\",\"2016-06-09\",\"2016-06-10\",\"2016-06-13\",\"2016-06-14\"],\"Variable\":[\"SMA8\",\"SMA8\",\"SMA8\",\"SMA8\",\"SMA8\",\"SMA8\",\"SMA8\",\"SMA8\",\"SMA8\",\"SMA8\",\"SMA8\",\"SMA8\",\"SMA8\",\"SMA8\",\"SMA8\",\"SMA8\",\"SMA8\",\"SMA8\",\"SMA8\",\"SMA8\",\"SMA8\",\"SMA8\",\"SMA8\",\"SMA8\",\"SMA8\",\"SMA8\",\"SMA8\",\"SMA8\",\"SMA8\",\"SMA8\",\"SMA8\",\"SMA8\",\"SMA8\",\"SMA8\",\"SMA8\",\"SMA8\",\"SMA8\",\"SMA8\",\"SMA8\",\"SMA8\",\"SMA8\",\"SMA8\",\"SMA8\",\"SMA8\",\"SMA8\",\"SMA8\",\"SMA8\",\"SMA8\",\"SMA8\",\"SMA8\",\"SMA8\"],\"value\":{\"__ndarray__\":\"AAAAAAAA+H8AAAAAAAD4fwAAAAAAAPh/AAAAAAAA+H8AAAAAAAD4fwAAAAAAAPh/AAAAAAAA+H/YHf/DJaI5QDqX+0dzqTlA5iX/k7+pOUD/2Pu/0I85QDYv+zOrgzlAUTz8b0R4OUBK//3viWE5QLdy/j8RPjlA5Lz/jzMKOUBNyP/LctA4QKjR/f/MdjhAU2n+d4gYOECWlP3rY7Y3QNVU/efcUTdAzMD5u3QBN0CyVfYb1as2QNYI9dvUVzZA0Wf2L18FNkCEafcvGeQ1QBph9lfU3TVAUOL3X9zYNUAo8fsvXsQ1QBx5/6O/pTVArPoBtLKnNUBtbQKIkqk1QLQuAwhetzVADvwDQPDBNUBcLQMQb881QBqhAtTS7DVAdEEBBIElNkC5nAHkumk2QGwQ/xOwmjZApikCnB7ONkBdlgIU2/U2QNxGA3jLFTdAP7cC0IkoN0DLPwKYtTM3QHR6/5suOTdAW0X7L8I0N0AAQvvDvCk3QOsC+zt9JDdATRD5V8QcN0AWwPerXhQ3QFAJ/J9rEjdA\",\"dtype\":\"float64\",\"shape\":[51]}},\"selected\":{\"id\":\"2695\"},\"selection_policy\":{\"id\":\"2724\"}},\"id\":\"2694\",\"type\":\"ColumnDataSource\"},{\"attributes\":{\"children\":[{\"id\":\"2622\"},{\"id\":\"2628\"},{\"id\":\"2809\"}],\"margin\":[0,0,0,0],\"name\":\"Row07094\",\"tags\":[\"embedded\"]},\"id\":\"2621\",\"type\":\"Row\"},{\"attributes\":{\"bottom_units\":\"screen\",\"fill_alpha\":0.5,\"fill_color\":\"lightgrey\",\"left_units\":\"screen\",\"level\":\"overlay\",\"line_alpha\":1.0,\"line_color\":\"black\",\"line_dash\":[4,4],\"line_width\":2,\"render_mode\":\"css\",\"right_units\":\"screen\",\"top_units\":\"screen\"},\"id\":\"2649\",\"type\":\"BoxAnnotation\"},{\"attributes\":{},\"id\":\"2662\",\"type\":\"Selection\"},{\"attributes\":{},\"id\":\"2711\",\"type\":\"UnionRenderers\"},{\"attributes\":{\"line_alpha\":0.1,\"line_color\":\"#2ba02b\",\"line_width\":2,\"x\":{\"field\":\"Date\"},\"y\":{\"field\":\"value\"}},\"id\":\"2698\",\"type\":\"Line\"},{\"attributes\":{\"factors\":[\"2016-04-04\",\"2016-04-05\",\"2016-04-06\",\"2016-04-07\",\"2016-04-08\",\"2016-04-11\",\"2016-04-12\",\"2016-04-13\",\"2016-04-14\",\"2016-04-15\",\"2016-04-18\",\"2016-04-19\",\"2016-04-20\",\"2016-04-21\",\"2016-04-22\",\"2016-04-25\",\"2016-04-26\",\"2016-04-27\",\"2016-04-28\",\"2016-04-29\",\"2016-05-02\",\"2016-05-03\",\"2016-05-04\",\"2016-05-05\",\"2016-05-06\",\"2016-05-09\",\"2016-05-10\",\"2016-05-11\",\"2016-05-12\",\"2016-05-13\",\"2016-05-16\",\"2016-05-17\",\"2016-05-18\",\"2016-05-19\",\"2016-05-20\",\"2016-05-23\",\"2016-05-24\",\"2016-05-25\",\"2016-05-26\",\"2016-05-27\",\"2016-05-31\",\"2016-06-01\",\"2016-06-02\",\"2016-06-03\",\"2016-06-06\",\"2016-06-07\",\"2016-06-08\",\"2016-06-09\",\"2016-06-10\",\"2016-06-13\",\"2016-06-14\"],\"tags\":[[[\"Date\",\"Date\",null]]]},\"id\":\"2623\",\"type\":\"FactorRange\"},{\"attributes\":{\"line_color\":\"#1f77b3\",\"line_width\":2,\"x\":{\"field\":\"Date\"},\"y\":{\"field\":\"value\"}},\"id\":\"2664\",\"type\":\"Line\"},{\"attributes\":{\"text\":\"\",\"text_color\":{\"value\":\"black\"},\"text_font_size\":{\"value\":\"12pt\"}},\"id\":\"2629\",\"type\":\"Title\"},{\"attributes\":{\"line_color\":\"#ff7e0e\",\"line_width\":2,\"x\":{\"field\":\"Date\"},\"y\":{\"field\":\"value\"}},\"id\":\"2680\",\"type\":\"Line\"},{\"attributes\":{\"callback\":null,\"renderers\":[{\"id\":\"2667\"},{\"id\":\"2683\"},{\"id\":\"2700\"}],\"tags\":[\"hv_created\"],\"tooltips\":[[\"Variable\",\"@{Variable}\"],[\"Date\",\"@{Date}\"],[\"value\",\"@{value}\"]]},\"id\":\"2625\",\"type\":\"HoverTool\"},{\"attributes\":{},\"id\":\"2695\",\"type\":\"Selection\"},{\"attributes\":{\"line_color\":\"#2ba02b\",\"line_width\":2,\"x\":{\"field\":\"Date\"},\"y\":{\"field\":\"value\"}},\"id\":\"2697\",\"type\":\"Line\"},{\"attributes\":{\"source\":{\"id\":\"2694\"}},\"id\":\"2701\",\"type\":\"CDSView\"},{\"attributes\":{\"axis\":{\"id\":\"2637\"},\"grid_line_color\":null,\"ticker\":null},\"id\":\"2639\",\"type\":\"Grid\"},{\"attributes\":{\"line_alpha\":0.2,\"line_color\":\"#2ba02b\",\"line_width\":2,\"x\":{\"field\":\"Date\"},\"y\":{\"field\":\"value\"}},\"id\":\"2699\",\"type\":\"Line\"},{\"attributes\":{},\"id\":\"2635\",\"type\":\"LinearScale\"},{\"attributes\":{\"click_policy\":\"mute\",\"items\":[{\"id\":\"2676\"},{\"id\":\"2693\"},{\"id\":\"2712\"}],\"location\":[0,0],\"title\":\"Variable\"},\"id\":\"2675\",\"type\":\"Legend\"},{\"attributes\":{},\"id\":\"2678\",\"type\":\"Selection\"},{\"attributes\":{\"below\":[{\"id\":\"2637\"}],\"center\":[{\"id\":\"2639\"},{\"id\":\"2643\"}],\"left\":[{\"id\":\"2640\"}],\"margin\":null,\"min_border_bottom\":10,\"min_border_left\":10,\"min_border_right\":10,\"min_border_top\":10,\"plot_height\":300,\"plot_width\":700,\"renderers\":[{\"id\":\"2667\"},{\"id\":\"2683\"},{\"id\":\"2700\"}],\"right\":[{\"id\":\"2675\"}],\"sizing_mode\":\"fixed\",\"title\":{\"id\":\"2629\"},\"toolbar\":{\"id\":\"2650\"},\"x_range\":{\"id\":\"2623\"},\"x_scale\":{\"id\":\"2633\"},\"y_range\":{\"id\":\"2624\"},\"y_scale\":{\"id\":\"2635\"}},\"id\":\"2628\",\"subtype\":\"Figure\",\"type\":\"Plot\"},{\"attributes\":{\"source\":{\"id\":\"2661\"}},\"id\":\"2668\",\"type\":\"CDSView\"},{\"attributes\":{\"line_alpha\":0.1,\"line_color\":\"#ff7e0e\",\"line_width\":2,\"x\":{\"field\":\"Date\"},\"y\":{\"field\":\"value\"}},\"id\":\"2681\",\"type\":\"Line\"},{\"attributes\":{\"data_source\":{\"id\":\"2661\"},\"glyph\":{\"id\":\"2664\"},\"hover_glyph\":null,\"muted_glyph\":{\"id\":\"2666\"},\"nonselection_glyph\":{\"id\":\"2665\"},\"selection_glyph\":null,\"view\":{\"id\":\"2668\"}},\"id\":\"2667\",\"type\":\"GlyphRenderer\"},{\"attributes\":{\"data\":{\"Date\":[\"2016-04-04\",\"2016-04-05\",\"2016-04-06\",\"2016-04-07\",\"2016-04-08\",\"2016-04-11\",\"2016-04-12\",\"2016-04-13\",\"2016-04-14\",\"2016-04-15\",\"2016-04-18\",\"2016-04-19\",\"2016-04-20\",\"2016-04-21\",\"2016-04-22\",\"2016-04-25\",\"2016-04-26\",\"2016-04-27\",\"2016-04-28\",\"2016-04-29\",\"2016-05-02\",\"2016-05-03\",\"2016-05-04\",\"2016-05-05\",\"2016-05-06\",\"2016-05-09\",\"2016-05-10\",\"2016-05-11\",\"2016-05-12\",\"2016-05-13\",\"2016-05-16\",\"2016-05-17\",\"2016-05-18\",\"2016-05-19\",\"2016-05-20\",\"2016-05-23\",\"2016-05-24\",\"2016-05-25\",\"2016-05-26\",\"2016-05-27\",\"2016-05-31\",\"2016-06-01\",\"2016-06-02\",\"2016-06-03\",\"2016-06-06\",\"2016-06-07\",\"2016-06-08\",\"2016-06-09\",\"2016-06-10\",\"2016-06-13\",\"2016-06-14\"],\"Variable\":[\"AAPL\",\"AAPL\",\"AAPL\",\"AAPL\",\"AAPL\",\"AAPL\",\"AAPL\",\"AAPL\",\"AAPL\",\"AAPL\",\"AAPL\",\"AAPL\",\"AAPL\",\"AAPL\",\"AAPL\",\"AAPL\",\"AAPL\",\"AAPL\",\"AAPL\",\"AAPL\",\"AAPL\",\"AAPL\",\"AAPL\",\"AAPL\",\"AAPL\",\"AAPL\",\"AAPL\",\"AAPL\",\"AAPL\",\"AAPL\",\"AAPL\",\"AAPL\",\"AAPL\",\"AAPL\",\"AAPL\",\"AAPL\",\"AAPL\",\"AAPL\",\"AAPL\",\"AAPL\",\"AAPL\",\"AAPL\",\"AAPL\",\"AAPL\",\"AAPL\",\"AAPL\",\"AAPL\",\"AAPL\",\"AAPL\",\"AAPL\",\"AAPL\"],\"value\":{\"__ndarray__\":\"XCEHgIXgOUAEyPG/bJI5QKOLE4D71jlAf60BALZGOUCV+uxf3U05QBHIBIBTYzlAbigIYPu3OUAp4fAfXhc6QHPs6p/xGjpAWj0OIM+UOUBvJPnfhAc5QDdf/J+J5ThAb2P1P6fyOEDX3xKAf604QNnDC+A1nDhAkTL7n3B4OEC3R+t/60w4QDGI/r+gxzZAw+H9n2AVNkBVufU/ZdQ1QGhl8x9vzjVAjT/2Hz4qNkANa/DfOO81QLDL8J9u2DVAjT/2Hz65NUDGlQbAcL01QH2e9d854zVA+cIBgKWsNUAr3BOgfSo1QDR/EsBJNTVAiXcEYNH+NUC8YfQ/bec1QL1J/B+aJzZAmgANgAISNkDtKO9fME82QOlg/Z/DlzZA994IIO/vNkBZWRXAGFc3QCYV8N96hjdAjSsNgOGCN0B4r//ffWU3QJKEEqCFETdABqzqHyPlNkBIpfnfIfE2QD208j+3GzdAkbDzX7UzN0BO+u9/Ty43QOQyC0DlWDdAhRrwv7YnN0DZAghAWM42QN31DMCK1TZA\",\"dtype\":\"float64\",\"shape\":[51]}},\"selected\":{\"id\":\"2662\"},\"selection_policy\":{\"id\":\"2692\"}},\"id\":\"2661\",\"type\":\"ColumnDataSource\"},{\"attributes\":{\"line_alpha\":0.2,\"line_color\":\"#ff7e0e\",\"line_width\":2,\"x\":{\"field\":\"Date\"},\"y\":{\"field\":\"value\"}},\"id\":\"2682\",\"type\":\"Line\"},{\"attributes\":{},\"id\":\"2638\",\"type\":\"CategoricalTicker\"},{\"attributes\":{\"source\":{\"id\":\"2677\"}},\"id\":\"2684\",\"type\":\"CDSView\"},{\"attributes\":{\"axis_label\":\"\",\"bounds\":\"auto\",\"formatter\":{\"id\":\"2660\"},\"major_label_orientation\":\"horizontal\",\"ticker\":{\"id\":\"2641\"}},\"id\":\"2640\",\"type\":\"LinearAxis\"},{\"attributes\":{\"line_alpha\":0.2,\"line_color\":\"#1f77b3\",\"line_width\":2,\"x\":{\"field\":\"Date\"},\"y\":{\"field\":\"value\"}},\"id\":\"2666\",\"type\":\"Line\"},{\"attributes\":{},\"id\":\"2644\",\"type\":\"SaveTool\"},{\"attributes\":{\"data_source\":{\"id\":\"2677\"},\"glyph\":{\"id\":\"2680\"},\"hover_glyph\":null,\"muted_glyph\":{\"id\":\"2682\"},\"nonselection_glyph\":{\"id\":\"2681\"},\"selection_glyph\":null,\"view\":{\"id\":\"2684\"}},\"id\":\"2683\",\"type\":\"GlyphRenderer\"},{\"attributes\":{},\"id\":\"2641\",\"type\":\"BasicTicker\"},{\"attributes\":{\"axis_label\":\"Date\",\"bounds\":\"auto\",\"formatter\":{\"id\":\"2658\"},\"major_label_orientation\":\"horizontal\",\"ticker\":{\"id\":\"2638\"},\"visible\":false},\"id\":\"2637\",\"type\":\"CategoricalAxis\"},{\"attributes\":{\"label\":{\"value\":\"SMA5\"},\"renderers\":[{\"id\":\"2683\"}]},\"id\":\"2693\",\"type\":\"LegendItem\"},{\"attributes\":{},\"id\":\"2645\",\"type\":\"PanTool\"},{\"attributes\":{\"axis\":{\"id\":\"2640\"},\"dimension\":1,\"grid_line_color\":null,\"ticker\":null},\"id\":\"2643\",\"type\":\"Grid\"}],\"root_ids\":[\"2621\"]},\"title\":\"Bokeh Application\",\"version\":\"2.0.2\"}};\n",
       "  var render_items = [{\"docid\":\"6061979c-dc1c-4ad6-b769-37c303ee9ad7\",\"root_ids\":[\"2621\"],\"roots\":{\"2621\":\"750b1dfc-6750-4bc8-8a06-3adc16c9d3fe\"}}];\n",
       "  root.Bokeh.embed.embed_items_notebook(docs_json, render_items);\n",
       "  }\n",
       "if (root.Bokeh !== undefined) {\n",
       "    embed_document(root);\n",
       "  } else {\n",
       "    var attempts = 0;\n",
       "    var timer = setInterval(function(root) {\n",
       "      if (root.Bokeh !== undefined) {\n",
       "        clearInterval(timer);\n",
       "        embed_document(root);\n",
       "      } else if (document.readyState == \"complete\") {\n",
       "        attempts++;\n",
       "        if (attempts > 100) {\n",
       "          clearInterval(timer);\n",
       "          console.log(\"Bokeh: ERROR: Unable to run BokehJS code because BokehJS library is missing\");\n",
       "        }\n",
       "      }\n",
       "    }, 10, root)\n",
       "  }\n",
       "})(window);</script>"
      ],
      "text/plain": [
       ":NdOverlay   [Variable]\n",
       "   :Curve   [Date]   (value)"
      ]
     },
     "metadata": {
      "application/vnd.holoviews_exec.v0+json": {
       "id": "2621"
      }
     },
     "output_type": "display_data"
    },
    {
     "data": {},
     "metadata": {},
     "output_type": "display_data"
    },
    {
     "data": {
      "application/vnd.holoviews_exec.v0+json": "",
      "text/html": [
       "<div id='2871'>\n",
       "\n",
       "\n",
       "\n",
       "\n",
       "\n",
       "  <div class=\"bk-root\" id=\"c638ad41-efde-46bf-8ed8-b435377e6ea7\" data-root-id=\"2871\"></div>\n",
       "</div>\n",
       "<script type=\"application/javascript\">(function(root) {\n",
       "  function embed_document(root) {\n",
       "  var docs_json = {\"d6d1fd6a-aa24-4d9f-a490-7052d7d30c0e\":{\"roots\":{\"references\":[{\"attributes\":{\"format\":\"0,0.0[00000]\"},\"id\":\"2914\",\"type\":\"NumberFormatter\"},{\"attributes\":{\"editor\":{\"id\":\"2895\"},\"field\":\"Stock\",\"formatter\":{\"id\":\"2894\"},\"title\":\"Stock\"},\"id\":\"2896\",\"type\":\"TableColumn\"},{\"attributes\":{\"data\":{\"Entry_Date\":[\"2016-04-13\",\"2016-04-20\",\"2016-06-03\"],\"Entry_Portfolio_Holding\":{\"__ndarray__\":\"4jsx69F6yUAao3VU91zIQGjLuRR7Z8ZA\",\"dtype\":\"float64\",\"shape\":[3]},\"Entry_Share_Price\":{\"__ndarray__\":\"KeHwH14XOkBvY/U/p/I4QEil+d8h8TZA\",\"dtype\":\"float64\",\"shape\":[3]},\"Exit_Date\":[\"2016-04-14\",\"2016-05-19\",\"2016-06-09\"],\"Exit_Portfolio_Holding\":{\"__ndarray__\":\"6Gor9k9+yUCWsgxxlo3FQLPviuDPzMZA\",\"dtype\":\"float64\",\"shape\":[3]},\"Exit_Share_Price\":{\"__ndarray__\":\"c+zqn/EaOkCaAA2AAhI2QOQyC0DlWDdA\",\"dtype\":\"float64\",\"shape\":[3]},\"Profit_over_Loss\":{\"__ndarray__\":\"ADB40VfwG8AghEcbB3uWQMASSfQyVWnA\",\"dtype\":\"float64\",\"shape\":[3]},\"Shares\":{\"__ndarray__\":\"AAAAAABAf8AAAAAAAEB/wAAAAAAAQH/A\",\"dtype\":\"float64\",\"shape\":[3]},\"Stock\":[\"AAPL\",\"AAPL\",\"AAPL\"]},\"selected\":{\"id\":\"2893\"},\"selection_policy\":{\"id\":\"2944\"}},\"id\":\"2892\",\"type\":\"ColumnDataSource\"},{\"attributes\":{},\"id\":\"2905\",\"type\":\"StringEditor\"},{\"attributes\":{},\"id\":\"2899\",\"type\":\"StringFormatter\"},{\"attributes\":{\"toolbar\":{\"id\":\"2946\"},\"toolbar_location\":\"above\"},\"id\":\"2947\",\"type\":\"ToolbarBox\"},{\"attributes\":{},\"id\":\"2946\",\"type\":\"ProxyToolbar\"},{\"attributes\":{},\"id\":\"2876\",\"type\":\"IntEditor\"},{\"attributes\":{},\"id\":\"2904\",\"type\":\"StringFormatter\"},{\"attributes\":{\"data\":{\"Backtest\":{\"__ndarray__\":\"BKb8NRInsD+ApMoxEyyJP6QI6uIvupc/IP7izcvIBUALmwRebV0YQA==\",\"dtype\":\"float64\",\"shape\":[5]},\"index\":[\"Annual Return\",\"Cumulative Returns\",\"Annual Volatility\",\"Sharpe Ratio\",\"Sortino Ratio\"],\"level_0\":[0,1,2,3,4]},\"selected\":{\"id\":\"2874\"},\"selection_policy\":{\"id\":\"2942\"}},\"id\":\"2873\",\"type\":\"ColumnDataSource\"},{\"attributes\":{\"editor\":{\"id\":\"2900\"},\"field\":\"Entry_Date\",\"formatter\":{\"id\":\"2899\"},\"title\":\"Entry Date\"},\"id\":\"2901\",\"type\":\"TableColumn\"},{\"attributes\":{\"children\":[{\"id\":\"2872\"},{\"id\":\"2948\"},{\"id\":\"2981\"}],\"margin\":[0,0,0,0],\"name\":\"Row07591\",\"tags\":[\"embedded\"]},\"id\":\"2871\",\"type\":\"Row\"},{\"attributes\":{},\"id\":\"2915\",\"type\":\"NumberEditor\"},{\"attributes\":{\"margin\":[5,5,5,5],\"name\":\"HSpacer07595\",\"sizing_mode\":\"stretch_width\"},\"id\":\"2872\",\"type\":\"Spacer\"},{\"attributes\":{\"format\":\"0,0.0[00000]\"},\"id\":\"2909\",\"type\":\"NumberFormatter\"},{\"attributes\":{\"editor\":{\"id\":\"2905\"},\"field\":\"Exit_Date\",\"formatter\":{\"id\":\"2904\"},\"title\":\"Exit Date\"},\"id\":\"2906\",\"type\":\"TableColumn\"},{\"attributes\":{\"margin\":[5,5,5,5],\"name\":\"HSpacer07596\",\"sizing_mode\":\"stretch_width\"},\"id\":\"2981\",\"type\":\"Spacer\"},{\"attributes\":{\"editor\":{\"id\":\"2910\"},\"field\":\"Shares\",\"formatter\":{\"id\":\"2909\"},\"title\":\"Shares\"},\"id\":\"2911\",\"type\":\"TableColumn\"},{\"attributes\":{\"children\":[[{\"id\":\"2890\"},0,0],[{\"id\":\"2939\"},0,1]]},\"id\":\"2945\",\"type\":\"GridBox\"},{\"attributes\":{\"editor\":{\"id\":\"2876\"},\"field\":\"level_0\",\"formatter\":{\"id\":\"2875\"},\"title\":\"level_0\"},\"id\":\"2877\",\"type\":\"TableColumn\"},{\"attributes\":{\"format\":\"0,0.0[00000]\"},\"id\":\"2929\",\"type\":\"NumberFormatter\"},{\"attributes\":{},\"id\":\"2925\",\"type\":\"NumberEditor\"},{\"attributes\":{},\"id\":\"2880\",\"type\":\"StringFormatter\"},{\"attributes\":{\"editor\":{\"id\":\"2915\"},\"field\":\"Entry_Share_Price\",\"formatter\":{\"id\":\"2914\"},\"title\":\"Entry Share Price\"},\"id\":\"2916\",\"type\":\"TableColumn\"},{\"attributes\":{},\"id\":\"2886\",\"type\":\"StringEditor\"},{\"attributes\":{\"editor\":{\"id\":\"2925\"},\"field\":\"Entry_Portfolio_Holding\",\"formatter\":{\"id\":\"2924\"},\"title\":\"Entry Portfolio Holding\"},\"id\":\"2926\",\"type\":\"TableColumn\"},{\"attributes\":{\"format\":\"0,0.0[00000]\"},\"id\":\"2934\",\"type\":\"NumberFormatter\"},{\"attributes\":{},\"id\":\"2930\",\"type\":\"NumberEditor\"},{\"attributes\":{\"format\":\"0,0.0[00000]\"},\"id\":\"2924\",\"type\":\"NumberFormatter\"},{\"attributes\":{\"editor\":{\"id\":\"2920\"},\"field\":\"Exit_Share_Price\",\"formatter\":{\"id\":\"2919\"},\"title\":\"Exit Share Price\"},\"id\":\"2921\",\"type\":\"TableColumn\"},{\"attributes\":{},\"id\":\"2935\",\"type\":\"NumberEditor\"},{\"attributes\":{},\"id\":\"2885\",\"type\":\"StringFormatter\"},{\"attributes\":{\"editor\":{\"id\":\"2930\"},\"field\":\"Exit_Portfolio_Holding\",\"formatter\":{\"id\":\"2929\"},\"title\":\"Exit Portfolio Holding\"},\"id\":\"2931\",\"type\":\"TableColumn\"},{\"attributes\":{},\"id\":\"2874\",\"type\":\"Selection\"},{\"attributes\":{\"columns\":[{\"id\":\"2896\"},{\"id\":\"2901\"},{\"id\":\"2906\"},{\"id\":\"2911\"},{\"id\":\"2916\"},{\"id\":\"2921\"},{\"id\":\"2926\"},{\"id\":\"2931\"},{\"id\":\"2936\"}],\"height\":300,\"reorderable\":false,\"source\":{\"id\":\"2892\"},\"view\":{\"id\":\"2940\"},\"width\":700},\"id\":\"2939\",\"type\":\"DataTable\"},{\"attributes\":{},\"id\":\"2895\",\"type\":\"StringEditor\"},{\"attributes\":{\"editor\":{\"id\":\"2935\"},\"field\":\"Profit_over_Loss\",\"formatter\":{\"id\":\"2934\"},\"title\":\"Profit/Loss\"},\"id\":\"2936\",\"type\":\"TableColumn\"},{\"attributes\":{\"children\":[{\"id\":\"2947\"},{\"id\":\"2945\"}]},\"id\":\"2948\",\"type\":\"Column\"},{\"attributes\":{},\"id\":\"2881\",\"type\":\"StringEditor\"},{\"attributes\":{\"editor\":{\"id\":\"2881\"},\"field\":\"index\",\"formatter\":{\"id\":\"2880\"},\"title\":\"index\"},\"id\":\"2882\",\"type\":\"TableColumn\"},{\"attributes\":{},\"id\":\"2942\",\"type\":\"UnionRenderers\"},{\"attributes\":{\"format\":\"0,0.0[00000]\"},\"id\":\"2919\",\"type\":\"NumberFormatter\"},{\"attributes\":{\"source\":{\"id\":\"2873\"}},\"id\":\"2891\",\"type\":\"CDSView\"},{\"attributes\":{},\"id\":\"2893\",\"type\":\"Selection\"},{\"attributes\":{\"source\":{\"id\":\"2892\"}},\"id\":\"2940\",\"type\":\"CDSView\"},{\"attributes\":{},\"id\":\"2944\",\"type\":\"UnionRenderers\"},{\"attributes\":{\"editor\":{\"id\":\"2886\"},\"field\":\"Backtest\",\"formatter\":{\"id\":\"2885\"},\"title\":\"Backtest\"},\"id\":\"2887\",\"type\":\"TableColumn\"},{\"attributes\":{},\"id\":\"2920\",\"type\":\"NumberEditor\"},{\"attributes\":{},\"id\":\"2900\",\"type\":\"StringEditor\"},{\"attributes\":{},\"id\":\"2875\",\"type\":\"NumberFormatter\"},{\"attributes\":{},\"id\":\"2910\",\"type\":\"NumberEditor\"},{\"attributes\":{\"columns\":[{\"id\":\"2877\"},{\"id\":\"2882\"},{\"id\":\"2887\"}],\"height\":300,\"reorderable\":false,\"source\":{\"id\":\"2873\"},\"view\":{\"id\":\"2891\"},\"width\":700},\"id\":\"2890\",\"type\":\"DataTable\"},{\"attributes\":{},\"id\":\"2894\",\"type\":\"StringFormatter\"}],\"root_ids\":[\"2871\"]},\"title\":\"Bokeh Application\",\"version\":\"2.0.2\"}};\n",
       "  var render_items = [{\"docid\":\"d6d1fd6a-aa24-4d9f-a490-7052d7d30c0e\",\"root_ids\":[\"2871\"],\"roots\":{\"2871\":\"c638ad41-efde-46bf-8ed8-b435377e6ea7\"}}];\n",
       "  root.Bokeh.embed.embed_items_notebook(docs_json, render_items);\n",
       "  }\n",
       "if (root.Bokeh !== undefined) {\n",
       "    embed_document(root);\n",
       "  } else {\n",
       "    var attempts = 0;\n",
       "    var timer = setInterval(function(root) {\n",
       "      if (root.Bokeh !== undefined) {\n",
       "        clearInterval(timer);\n",
       "        embed_document(root);\n",
       "      } else if (document.readyState == \"complete\") {\n",
       "        attempts++;\n",
       "        if (attempts > 100) {\n",
       "          clearInterval(timer);\n",
       "          console.log(\"Bokeh: ERROR: Unable to run BokehJS code because BokehJS library is missing\");\n",
       "        }\n",
       "      }\n",
       "    }, 10, root)\n",
       "  }\n",
       "})(window);</script>"
      ],
      "text/plain": [
       ":Layout\n",
       "   .Table.I  :Table   [level_0,index,Backtest]\n",
       "   .Table.II :Table   [Stock,Entry Date,Exit Date,Shares,Entry Share Price,Exit Share Price,Entry Portfolio Holding,Exit Portfolio Holding,Profit/Loss]"
      ]
     },
     "execution_count": 30,
     "metadata": {
      "application/vnd.holoviews_exec.v0+json": {
       "id": "2871"
      }
     },
     "output_type": "execute_result"
    }
   ],
   "source": [
    "# Assemble dashboard visualization\n",
    "display(Markdown(\"# Trading Dashboard\"))\n",
    "display(price_chart)\n",
    "portfolio_evaluation_table + trade_evaluation_table"
   ]
  },
  {
   "cell_type": "code",
   "execution_count": null,
   "metadata": {},
   "outputs": [],
   "source": []
  }
 ],
 "metadata": {
  "kernelspec": {
   "display_name": "Python 3",
   "language": "python",
   "name": "python3"
  },
  "language_info": {
   "codemirror_mode": {
    "name": "ipython",
    "version": 3
   },
   "file_extension": ".py",
   "mimetype": "text/x-python",
   "name": "python",
   "nbconvert_exporter": "python",
   "pygments_lexer": "ipython3",
   "version": "3.8.2"
  }
 },
 "nbformat": 4,
 "nbformat_minor": 4
}
