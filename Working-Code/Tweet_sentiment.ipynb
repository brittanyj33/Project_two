{
 "cells": [
  {
   "cell_type": "code",
   "execution_count": 2,
   "metadata": {},
   "outputs": [
    {
     "name": "stdout",
     "output_type": "stream",
     "text": [
      "{\"created_at\": \"Sat Apr 25 01:46:53 +0000 2009\", \"default_profile\": true, \"default_profile_image\": true, \"favourites_count\": 3, \"followers_count\": 3, \"friends_count\": 59, \"id\": 35108570, \"id_str\": \"35108570\", \"name\": \"Ghulam Mustafa Mundh\", \"profile_background_color\": \"C0DEED\", \"profile_background_image_url\": \"http://abs.twimg.com/images/themes/theme1/bg.png\", \"profile_background_image_url_https\": \"https://abs.twimg.com/images/themes/theme1/bg.png\", \"profile_image_url\": \"http://abs.twimg.com/sticky/default_profile_images/default_profile_normal.png\", \"profile_image_url_https\": \"https://abs.twimg.com/sticky/default_profile_images/default_profile_normal.png\", \"profile_link_color\": \"1DA1F2\", \"profile_sidebar_border_color\": \"C0DEED\", \"profile_sidebar_fill_color\": \"DDEEF6\", \"profile_text_color\": \"333333\", \"profile_use_background_image\": true, \"screen_name\": \"ghuliam\", \"status\": {\"created_at\": \"Thu Aug 06 19:12:22 +0000 2020\", \"id\": 1291452070495768579, \"id_str\": \"1291452070495768579\", \"lang\": \"en\", \"source\": \"<a href=\\\"http://twitter.com/download/iphone\\\" rel=\\\"nofollow\\\">Twitter for iPhone</a>\", \"text\": \"While Measurement Canada develops new metering standards for EV charging @DianeAllanMC @NavdeepSBains and @ISED_CA\\u2026 https://t.co/fhgcrpfjfZ\", \"truncated\": true}, \"statuses_count\": 1}\n"
     ]
    }
   ],
   "source": [
    "import twitter\n",
    "\n",
    "# initialize api instance\n",
    "twitter_api = twitter.Api(consumer_key='rJroWqCso0Nw6GlnuBS5jQc0f',\n",
    "                        consumer_secret='z9oQNJt8ABq4wn73QdkrtMuZHnZp2NKUaFnsZPn27EiJ1tfHsO',\n",
    "                        access_token_key='35108570-sBBPS00xRT3OZc2yEpddFgjIjPvdOUVGyditJzWni',\n",
    "                        access_token_secret='PL7bKSnZ4wHZohkEczoJ9KREjh9V2qq7OZpiu3zVuM5Wd')\n",
    "\n",
    "# test authentication\n",
    "print(twitter_api.VerifyCredentials())"
   ]
  },
  {
   "cell_type": "code",
   "execution_count": 29,
   "metadata": {},
   "outputs": [],
   "source": [
    "import pandas as pd\n",
    "from pathlib import Path\n",
    "\n",
    "import nltk\n",
    "from nltk.sentiment.vader import SentimentIntensityAnalyzer\n",
    "\n",
    "from nltk.corpus import reuters, stopwords\n",
    "from nltk.tokenize import word_tokenize, sent_tokenize\n",
    "\n",
    "from nltk.corpus import stopwords\n",
    "from nltk.stem import WordNetLemmatizer\n",
    "from string import punctuation\n",
    "import re\n",
    "\n",
    "\n",
    "%matplotlib inline"
   ]
  },
  {
   "cell_type": "code",
   "execution_count": 34,
   "metadata": {},
   "outputs": [],
   "source": [
    "def buildTestSet(search_keyword):\n",
    "    try:\n",
    "        tweets_fetched = twitter_api.GetSearch(search_keyword, count = 100)\n",
    "        \n",
    "        tweets_df = pd.DataFrame()\n",
    "        \n",
    "        tweet_df[\"Date\"] = [{ \"date\":status.created_at} for status in tweets_fetched]\n",
    "        \n",
    "        #tweets_df = pd.read_json(tweets_fetched)\n",
    "        \n",
    "        \n",
    "        \n",
    "        #return [{\"text\":status.text, \"date\":status.created_at, \"label\":None} for status in tweets_fetched]\n",
    "                                 \n",
    "        return tweets_df                      \n",
    "    except:\n",
    "        print(\"Unfortunately, something went wrong..\")\n",
    "        return None"
   ]
  },
  {
   "cell_type": "code",
   "execution_count": 50,
   "metadata": {},
   "outputs": [],
   "source": [
    "analyzer = SentimentIntensityAnalyzer()\n"
   ]
  },
  {
   "cell_type": "code",
   "execution_count": 61,
   "metadata": {},
   "outputs": [],
   "source": [
    "\n",
    "\n"
   ]
  },
  {
   "cell_type": "code",
   "execution_count": 65,
   "metadata": {},
   "outputs": [
    {
     "name": "stdout",
     "output_type": "stream",
     "text": [
      "compound    0.141028\n",
      "dtype: float64\n"
     ]
    }
   ],
   "source": [
    "\n",
    "search_keyword = \"$Tsla\"\n",
    "tweets_fetched = twitter_api.GetSearch(search_keyword, count = 100)\n",
    "\n",
    "sentiments = []\n",
    "\n",
    "for status in tweets_fetched:\n",
    "    try:\n",
    "        text = status.text\n",
    "        date = status.created_at\n",
    "        res = analyzer.polarity_scores(text)\n",
    "        comp = res[\"compound\"]\n",
    "        pos = res[\"pos\"]\n",
    "        neu = res[\"neu\"]\n",
    "        neg = res[\"neg\"]\n",
    "        \n",
    "        sentiments.append({\n",
    "           \"text\": text,\n",
    "            \"Date\" : date,\n",
    "            \"compound\": comp,\n",
    "            \"pos\": pos,\n",
    "            \"neu\": neu,\n",
    "            \"neg\": neg\n",
    "                        })\n",
    "    except AttributeError:\n",
    "        pass\n",
    "\n",
    "\n",
    "tweet_df = pd.DataFrame(sentiments)\n",
    "\n",
    "mean_by_date_compound = tweet_df[[\"compound\"]].mean()\n",
    "\n",
    "print(mean_by_date_compound)"
   ]
  },
  {
   "cell_type": "code",
   "execution_count": null,
   "metadata": {},
   "outputs": [],
   "source": []
  },
  {
   "cell_type": "code",
   "execution_count": 46,
   "metadata": {},
   "outputs": [
    {
     "data": {
      "text/html": [
       "<div>\n",
       "<style scoped>\n",
       "    .dataframe tbody tr th:only-of-type {\n",
       "        vertical-align: middle;\n",
       "    }\n",
       "\n",
       "    .dataframe tbody tr th {\n",
       "        vertical-align: top;\n",
       "    }\n",
       "\n",
       "    .dataframe thead th {\n",
       "        text-align: right;\n",
       "    }\n",
       "</style>\n",
       "<table border=\"1\" class=\"dataframe\">\n",
       "  <thead>\n",
       "    <tr style=\"text-align: right;\">\n",
       "      <th></th>\n",
       "    </tr>\n",
       "  </thead>\n",
       "  <tbody>\n",
       "  </tbody>\n",
       "</table>\n",
       "</div>"
      ],
      "text/plain": [
       "Empty DataFrame\n",
       "Columns: []\n",
       "Index: []"
      ]
     },
     "execution_count": 46,
     "metadata": {},
     "output_type": "execute_result"
    }
   ],
   "source": []
  },
  {
   "cell_type": "code",
   "execution_count": null,
   "metadata": {},
   "outputs": [],
   "source": []
  }
 ],
 "metadata": {
  "kernelspec": {
   "display_name": "Python 3",
   "language": "python",
   "name": "python3"
  },
  "language_info": {
   "codemirror_mode": {
    "name": "ipython",
    "version": 3
   },
   "file_extension": ".py",
   "mimetype": "text/x-python",
   "name": "python",
   "nbconvert_exporter": "python",
   "pygments_lexer": "ipython3",
   "version": "3.8.2"
  }
 },
 "nbformat": 4,
 "nbformat_minor": 4
}
