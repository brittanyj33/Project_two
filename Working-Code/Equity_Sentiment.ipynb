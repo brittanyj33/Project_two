{
 "cells": [
  {
   "cell_type": "code",
   "execution_count": 1,
   "metadata": {},
   "outputs": [],
   "source": [
    "import pandas as pd\n",
    "from pathlib import Path\n",
    "\n",
    "import nltk\n",
    "from nltk.sentiment.vader import SentimentIntensityAnalyzer\n",
    "\n",
    "from nltk.corpus import reuters, stopwords\n",
    "from nltk.tokenize import word_tokenize, sent_tokenize\n",
    "\n",
    "from nltk.corpus import stopwords\n",
    "from nltk.stem import WordNetLemmatizer\n",
    "from string import punctuation\n",
    "import re\n",
    "\n",
    "\n",
    "%matplotlib inline"
   ]
  },
  {
   "cell_type": "code",
   "execution_count": 2,
   "metadata": {},
   "outputs": [],
   "source": [
    "def remove_url(text):\n",
    "    return re.sub(r'http\\S+','',text)"
   ]
  },
  {
   "cell_type": "code",
   "execution_count": 3,
   "metadata": {},
   "outputs": [],
   "source": [
    "apple_tweet_data = Path('../Tweet-Data/apple_tweets.csv')\n",
    "\n",
    "apple_tweet = pd.read_csv(apple_tweet_data, index_col = \"Date\" , encoding='iso-8859-1')\n",
    "\n",
    "#apple_tweet['Tweet content'] = apple_tweet['Tweet content'].apply(remove_url)\n",
    "\n",
    "#apple_tweet['Tweet content'].drop_duplicates(inplace=True)\n"
   ]
  },
  {
   "cell_type": "code",
   "execution_count": 4,
   "metadata": {},
   "outputs": [],
   "source": [
    "amzn_tweet_data = Path('../Tweet-Data/amzn_tweets.csv')\n",
    "\n",
    "amzn_tweet = pd.read_csv(amzn_tweet_data, index_col = \"Date\" , encoding='iso-8859-1')\n",
    "\n",
    "#amzn_tweet['Tweet content'] = amzn_tweet['Tweet content'].apply(remove_url)\n",
    "\n",
    "#amzn_tweet['Tweet content'].drop_duplicates(inplace=True)\n"
   ]
  },
  {
   "cell_type": "code",
   "execution_count": 20,
   "metadata": {},
   "outputs": [],
   "source": [
    "ntflx_tweet_data = Path('../Tweet-Data/ntflx_tweets.csv')\n",
    "\n",
    "ntflx_tweet = pd.read_csv(ntflx_tweet_data, index_col = \"Date\" , encoding='iso-8859-1')\n",
    "\n",
    "#ntflx_tweet['Tweet content'] = ntflx_tweet['Tweet content'].apply(remove_url)\n",
    "\n",
    "#ntflx_tweet['Tweet content'].drop_duplicates(inplace=True)"
   ]
  },
  {
   "cell_type": "code",
   "execution_count": 21,
   "metadata": {},
   "outputs": [
    {
     "name": "stderr",
     "output_type": "stream",
     "text": [
      "[nltk_data] Downloading package vader_lexicon to\n",
      "[nltk_data]     C:\\Users\\welcome\\AppData\\Roaming\\nltk_data...\n",
      "[nltk_data]   Package vader_lexicon is already up-to-date!\n"
     ]
    },
    {
     "data": {
      "text/plain": [
       "True"
      ]
     },
     "execution_count": 21,
     "metadata": {},
     "output_type": "execute_result"
    }
   ],
   "source": [
    "nltk.download('vader_lexicon')\n"
   ]
  },
  {
   "cell_type": "code",
   "execution_count": 22,
   "metadata": {},
   "outputs": [],
   "source": [
    "analyzer = SentimentIntensityAnalyzer()\n"
   ]
  },
  {
   "cell_type": "code",
   "execution_count": 23,
   "metadata": {},
   "outputs": [
    {
     "name": "stdout",
     "output_type": "stream",
     "text": [
      "(166631, 5)\n"
     ]
    }
   ],
   "source": [
    "sentiments = []\n",
    "\n",
    "for tweets in apple_tweet[\"Tweet content\"]:\n",
    "    try:\n",
    "        text = tweets\n",
    "        res = analyzer.polarity_scores(tweets)\n",
    "        comp = res[\"compound\"]\n",
    "        pos = res[\"pos\"]\n",
    "        neu = res[\"neu\"]\n",
    "        neg = res[\"neg\"]\n",
    "        \n",
    "        sentiments.append({\n",
    "           \"text\": text,\n",
    "            \"compound\": comp,\n",
    "            \"pos\": pos,\n",
    "            \"neu\": neu,\n",
    "            \"neg\": neg\n",
    "                        })\n",
    "    except AttributeError:\n",
    "        pass\n",
    "    \n",
    "tweet_apple_df = pd.DataFrame(sentiments)\n",
    "\n",
    "print(tweet_apple_df.shape)\n"
   ]
  },
  {
   "cell_type": "code",
   "execution_count": 24,
   "metadata": {},
   "outputs": [
    {
     "name": "stdout",
     "output_type": "stream",
     "text": [
      "(166631, 5)\n"
     ]
    }
   ],
   "source": [
    "print(tweet_apple_df.shape)\n"
   ]
  },
  {
   "cell_type": "code",
   "execution_count": 25,
   "metadata": {},
   "outputs": [
    {
     "name": "stdout",
     "output_type": "stream",
     "text": [
      "(166631, 25)\n"
     ]
    }
   ],
   "source": [
    "print(apple_tweet.shape)"
   ]
  },
  {
   "cell_type": "code",
   "execution_count": 26,
   "metadata": {},
   "outputs": [],
   "source": [
    "apple_df_total = pd.DataFrame(sentiments,apple_tweet.index)"
   ]
  },
  {
   "cell_type": "code",
   "execution_count": 27,
   "metadata": {},
   "outputs": [],
   "source": [
    "apple_df_total = apple_df_total.reset_index()"
   ]
  },
  {
   "cell_type": "code",
   "execution_count": 28,
   "metadata": {},
   "outputs": [],
   "source": [
    "apple_mean_by_date_compound = apple_df_total[[\"Date\",\"compound\"]].groupby(\"Date\").mean()\n",
    "apple_mean_by_date_positive = apple_df_total[[\"Date\",\"pos\"]].groupby(\"Date\").mean()\n",
    "apple_mean_by_date_negative = apple_df_total[[\"Date\",\"neg\"]].groupby(\"Date\").mean()\n",
    "apple_mean_by_date_neutral = apple_df_total[[\"Date\",\"neu\"]].groupby(\"Date\").mean()\n",
    "\n",
    "\n",
    "apple_df_summary  = pd.concat([apple_mean_by_date_compound, apple_mean_by_date_positive, \n",
    "                             apple_mean_by_date_negative, apple_mean_by_date_neutral], axis =1)\n",
    "\n"
   ]
  },
  {
   "cell_type": "code",
   "execution_count": 29,
   "metadata": {},
   "outputs": [
    {
     "data": {
      "text/html": [
       "<div>\n",
       "<style scoped>\n",
       "    .dataframe tbody tr th:only-of-type {\n",
       "        vertical-align: middle;\n",
       "    }\n",
       "\n",
       "    .dataframe tbody tr th {\n",
       "        vertical-align: top;\n",
       "    }\n",
       "\n",
       "    .dataframe thead th {\n",
       "        text-align: right;\n",
       "    }\n",
       "</style>\n",
       "<table border=\"1\" class=\"dataframe\">\n",
       "  <thead>\n",
       "    <tr style=\"text-align: right;\">\n",
       "      <th></th>\n",
       "      <th>compound</th>\n",
       "      <th>pos</th>\n",
       "      <th>neg</th>\n",
       "      <th>neu</th>\n",
       "    </tr>\n",
       "    <tr>\n",
       "      <th>Date</th>\n",
       "      <th></th>\n",
       "      <th></th>\n",
       "      <th></th>\n",
       "      <th></th>\n",
       "    </tr>\n",
       "  </thead>\n",
       "  <tbody>\n",
       "    <tr>\n",
       "      <th>2016-04-02</th>\n",
       "      <td>0.121392</td>\n",
       "      <td>0.071743</td>\n",
       "      <td>0.016247</td>\n",
       "      <td>0.912007</td>\n",
       "    </tr>\n",
       "    <tr>\n",
       "      <th>2016-04-03</th>\n",
       "      <td>0.069846</td>\n",
       "      <td>0.057949</td>\n",
       "      <td>0.030341</td>\n",
       "      <td>0.911701</td>\n",
       "    </tr>\n",
       "    <tr>\n",
       "      <th>2016-04-04</th>\n",
       "      <td>0.076840</td>\n",
       "      <td>0.053611</td>\n",
       "      <td>0.019177</td>\n",
       "      <td>0.927213</td>\n",
       "    </tr>\n",
       "    <tr>\n",
       "      <th>2016-04-05</th>\n",
       "      <td>0.074800</td>\n",
       "      <td>0.064579</td>\n",
       "      <td>0.034857</td>\n",
       "      <td>0.900562</td>\n",
       "    </tr>\n",
       "    <tr>\n",
       "      <th>2016-04-06</th>\n",
       "      <td>0.123945</td>\n",
       "      <td>0.080751</td>\n",
       "      <td>0.031382</td>\n",
       "      <td>0.887874</td>\n",
       "    </tr>\n",
       "  </tbody>\n",
       "</table>\n",
       "</div>"
      ],
      "text/plain": [
       "            compound       pos       neg       neu\n",
       "Date                                              \n",
       "2016-04-02  0.121392  0.071743  0.016247  0.912007\n",
       "2016-04-03  0.069846  0.057949  0.030341  0.911701\n",
       "2016-04-04  0.076840  0.053611  0.019177  0.927213\n",
       "2016-04-05  0.074800  0.064579  0.034857  0.900562\n",
       "2016-04-06  0.123945  0.080751  0.031382  0.887874"
      ]
     },
     "execution_count": 29,
     "metadata": {},
     "output_type": "execute_result"
    }
   ],
   "source": [
    "apple_df_summary.to_csv(r'../Merged_data/aapl_sentiment.csv', index = True)\n",
    "apple_df_summary.head()"
   ]
  },
  {
   "cell_type": "code",
   "execution_count": 30,
   "metadata": {},
   "outputs": [],
   "source": [
    "sentiments_amzn = []\n",
    "\n",
    "for tweets in amzn_tweet[\"Tweet content\"]:\n",
    "    try:\n",
    "        text = tweets\n",
    "        res = analyzer.polarity_scores(tweets)\n",
    "        comp = res[\"compound\"]\n",
    "        pos = res[\"pos\"]\n",
    "        neu = res[\"neu\"]\n",
    "        neg = res[\"neg\"]\n",
    "        \n",
    "        sentiments_amzn.append({\n",
    "           \"text\": text,\n",
    "            \"compound\": comp,\n",
    "            \"pos\": pos,\n",
    "            \"neu\": neu,\n",
    "            \"neg\": neg\n",
    "                        })\n",
    "    except AttributeError:\n",
    "        pass\n",
    "    \n",
    "tweet_amzn_df = pd.DataFrame(sentiments_amzn)"
   ]
  },
  {
   "cell_type": "code",
   "execution_count": 31,
   "metadata": {},
   "outputs": [],
   "source": [
    "amzn_df_total = pd.DataFrame(sentiments_amzn,amzn_tweet.index)"
   ]
  },
  {
   "cell_type": "code",
   "execution_count": 32,
   "metadata": {},
   "outputs": [],
   "source": [
    "amzn_df_total = amzn_df_total.reset_index()"
   ]
  },
  {
   "cell_type": "code",
   "execution_count": null,
   "metadata": {},
   "outputs": [],
   "source": []
  },
  {
   "cell_type": "code",
   "execution_count": 33,
   "metadata": {},
   "outputs": [],
   "source": [
    "amzn_mean_by_date_compound = amzn_df_total[[\"Date\",\"compound\"]].groupby(\"Date\").mean()\n",
    "amzn_mean_by_date_positive = amzn_df_total[[\"Date\",\"pos\"]].groupby(\"Date\").mean()\n",
    "amzn_mean_by_date_negative = amzn_df_total[[\"Date\",\"neg\"]].groupby(\"Date\").mean()\n",
    "amzn_mean_by_date_neutral = amzn_df_total[[\"Date\",\"neu\"]].groupby(\"Date\").mean()\n",
    "\n",
    "\n",
    "amzn_df_summary  = pd.concat([amzn_mean_by_date_compound, amzn_mean_by_date_positive, \n",
    "                             amzn_mean_by_date_negative, amzn_mean_by_date_neutral], axis =1)"
   ]
  },
  {
   "cell_type": "code",
   "execution_count": 34,
   "metadata": {},
   "outputs": [
    {
     "data": {
      "text/html": [
       "<div>\n",
       "<style scoped>\n",
       "    .dataframe tbody tr th:only-of-type {\n",
       "        vertical-align: middle;\n",
       "    }\n",
       "\n",
       "    .dataframe tbody tr th {\n",
       "        vertical-align: top;\n",
       "    }\n",
       "\n",
       "    .dataframe thead th {\n",
       "        text-align: right;\n",
       "    }\n",
       "</style>\n",
       "<table border=\"1\" class=\"dataframe\">\n",
       "  <thead>\n",
       "    <tr style=\"text-align: right;\">\n",
       "      <th></th>\n",
       "      <th>compound</th>\n",
       "      <th>pos</th>\n",
       "      <th>neg</th>\n",
       "      <th>neu</th>\n",
       "    </tr>\n",
       "    <tr>\n",
       "      <th>Date</th>\n",
       "      <th></th>\n",
       "      <th></th>\n",
       "      <th></th>\n",
       "      <th></th>\n",
       "    </tr>\n",
       "  </thead>\n",
       "  <tbody>\n",
       "    <tr>\n",
       "      <th>2016-03-31</th>\n",
       "      <td>0.093505</td>\n",
       "      <td>0.071352</td>\n",
       "      <td>0.023818</td>\n",
       "      <td>0.904825</td>\n",
       "    </tr>\n",
       "    <tr>\n",
       "      <th>2016-04-01</th>\n",
       "      <td>0.062275</td>\n",
       "      <td>0.066623</td>\n",
       "      <td>0.032291</td>\n",
       "      <td>0.901091</td>\n",
       "    </tr>\n",
       "    <tr>\n",
       "      <th>2016-04-02</th>\n",
       "      <td>0.161957</td>\n",
       "      <td>0.097770</td>\n",
       "      <td>0.028404</td>\n",
       "      <td>0.873837</td>\n",
       "    </tr>\n",
       "    <tr>\n",
       "      <th>2016-04-03</th>\n",
       "      <td>0.173476</td>\n",
       "      <td>0.097920</td>\n",
       "      <td>0.016613</td>\n",
       "      <td>0.885462</td>\n",
       "    </tr>\n",
       "    <tr>\n",
       "      <th>2016-04-04</th>\n",
       "      <td>0.040698</td>\n",
       "      <td>0.026815</td>\n",
       "      <td>0.007868</td>\n",
       "      <td>0.965318</td>\n",
       "    </tr>\n",
       "  </tbody>\n",
       "</table>\n",
       "</div>"
      ],
      "text/plain": [
       "            compound       pos       neg       neu\n",
       "Date                                              \n",
       "2016-03-31  0.093505  0.071352  0.023818  0.904825\n",
       "2016-04-01  0.062275  0.066623  0.032291  0.901091\n",
       "2016-04-02  0.161957  0.097770  0.028404  0.873837\n",
       "2016-04-03  0.173476  0.097920  0.016613  0.885462\n",
       "2016-04-04  0.040698  0.026815  0.007868  0.965318"
      ]
     },
     "execution_count": 34,
     "metadata": {},
     "output_type": "execute_result"
    }
   ],
   "source": [
    "amzn_df_summary.to_csv(r'../Merged_data/amzn_sentiment.csv', index = True)\n",
    "amzn_df_summary.head()"
   ]
  },
  {
   "cell_type": "code",
   "execution_count": 40,
   "metadata": {},
   "outputs": [],
   "source": [
    "sentiments_ntflx = []\n",
    "\n",
    "for tweets in ntflx_tweet[\"Tweet content\"]:\n",
    "    try:\n",
    "        text = tweets\n",
    "        res = analyzer.polarity_scores(tweets)\n",
    "        comp = res[\"compound\"]\n",
    "        pos = res[\"pos\"]\n",
    "        neu = res[\"neu\"]\n",
    "        neg = res[\"neg\"]\n",
    "        \n",
    "        sentiments_ntflx.append({\n",
    "           \"text\": text,\n",
    "            \"compound\": comp,\n",
    "            \"pos\": pos,\n",
    "            \"neu\": neu,\n",
    "            \"neg\": neg\n",
    "                        })\n",
    "    except AttributeError:\n",
    "        pass\n",
    "    \n",
    "tweet_ntflx_df = pd.DataFrame(sentiments_ntflx)"
   ]
  },
  {
   "cell_type": "code",
   "execution_count": 41,
   "metadata": {},
   "outputs": [],
   "source": [
    "ntflx_df_total = pd.DataFrame(sentiments_ntflx,ntflx_tweet.index)"
   ]
  },
  {
   "cell_type": "code",
   "execution_count": 42,
   "metadata": {},
   "outputs": [],
   "source": [
    "ntflx_df_total = ntflx_df_total.reset_index()"
   ]
  },
  {
   "cell_type": "code",
   "execution_count": 43,
   "metadata": {},
   "outputs": [],
   "source": [
    "ntflx_mean_by_date_compound = ntflx_df_total[[\"Date\",\"compound\"]].groupby(\"Date\").mean()\n",
    "ntflx_mean_by_date_positive = ntflx_df_total[[\"Date\",\"pos\"]].groupby(\"Date\").mean()\n",
    "ntflx_mean_by_date_negative = ntflx_df_total[[\"Date\",\"neg\"]].groupby(\"Date\").mean()\n",
    "ntflx_mean_by_date_neutral = ntflx_df_total[[\"Date\",\"neu\"]].groupby(\"Date\").mean()\n",
    "\n",
    "\n",
    "ntflx_df_summary  = pd.concat([ntflx_mean_by_date_compound, ntflx_mean_by_date_positive, \n",
    "                             ntflx_mean_by_date_negative, ntflx_mean_by_date_neutral], axis =1)"
   ]
  },
  {
   "cell_type": "code",
   "execution_count": 44,
   "metadata": {},
   "outputs": [
    {
     "data": {
      "text/html": [
       "<div>\n",
       "<style scoped>\n",
       "    .dataframe tbody tr th:only-of-type {\n",
       "        vertical-align: middle;\n",
       "    }\n",
       "\n",
       "    .dataframe tbody tr th {\n",
       "        vertical-align: top;\n",
       "    }\n",
       "\n",
       "    .dataframe thead th {\n",
       "        text-align: right;\n",
       "    }\n",
       "</style>\n",
       "<table border=\"1\" class=\"dataframe\">\n",
       "  <thead>\n",
       "    <tr style=\"text-align: right;\">\n",
       "      <th></th>\n",
       "      <th>compound</th>\n",
       "      <th>pos</th>\n",
       "      <th>neg</th>\n",
       "      <th>neu</th>\n",
       "    </tr>\n",
       "    <tr>\n",
       "      <th>Date</th>\n",
       "      <th></th>\n",
       "      <th></th>\n",
       "      <th></th>\n",
       "      <th></th>\n",
       "    </tr>\n",
       "  </thead>\n",
       "  <tbody>\n",
       "    <tr>\n",
       "      <th>2016-03-31</th>\n",
       "      <td>0.067721</td>\n",
       "      <td>0.058324</td>\n",
       "      <td>0.042858</td>\n",
       "      <td>0.898804</td>\n",
       "    </tr>\n",
       "    <tr>\n",
       "      <th>2016-04-01</th>\n",
       "      <td>0.130846</td>\n",
       "      <td>0.091245</td>\n",
       "      <td>0.032268</td>\n",
       "      <td>0.876489</td>\n",
       "    </tr>\n",
       "    <tr>\n",
       "      <th>2016-04-02</th>\n",
       "      <td>0.114563</td>\n",
       "      <td>0.079826</td>\n",
       "      <td>0.033689</td>\n",
       "      <td>0.886470</td>\n",
       "    </tr>\n",
       "    <tr>\n",
       "      <th>2016-04-03</th>\n",
       "      <td>0.107733</td>\n",
       "      <td>0.061897</td>\n",
       "      <td>0.019127</td>\n",
       "      <td>0.918984</td>\n",
       "    </tr>\n",
       "    <tr>\n",
       "      <th>2016-04-04</th>\n",
       "      <td>0.086935</td>\n",
       "      <td>0.058046</td>\n",
       "      <td>0.032122</td>\n",
       "      <td>0.909836</td>\n",
       "    </tr>\n",
       "  </tbody>\n",
       "</table>\n",
       "</div>"
      ],
      "text/plain": [
       "            compound       pos       neg       neu\n",
       "Date                                              \n",
       "2016-03-31  0.067721  0.058324  0.042858  0.898804\n",
       "2016-04-01  0.130846  0.091245  0.032268  0.876489\n",
       "2016-04-02  0.114563  0.079826  0.033689  0.886470\n",
       "2016-04-03  0.107733  0.061897  0.019127  0.918984\n",
       "2016-04-04  0.086935  0.058046  0.032122  0.909836"
      ]
     },
     "execution_count": 44,
     "metadata": {},
     "output_type": "execute_result"
    }
   ],
   "source": [
    "ntflx_df_summary.to_csv(r'../Merged_data/ntflx_sentiment.csv', index = True)\n",
    "ntflx_df_summary.head()"
   ]
  },
  {
   "cell_type": "code",
   "execution_count": 45,
   "metadata": {},
   "outputs": [
    {
     "data": {
      "text/html": [
       "<div>\n",
       "<style scoped>\n",
       "    .dataframe tbody tr th:only-of-type {\n",
       "        vertical-align: middle;\n",
       "    }\n",
       "\n",
       "    .dataframe tbody tr th {\n",
       "        vertical-align: top;\n",
       "    }\n",
       "\n",
       "    .dataframe thead th {\n",
       "        text-align: right;\n",
       "    }\n",
       "</style>\n",
       "<table border=\"1\" class=\"dataframe\">\n",
       "  <thead>\n",
       "    <tr style=\"text-align: right;\">\n",
       "      <th></th>\n",
       "      <th>compound</th>\n",
       "      <th>pos</th>\n",
       "      <th>neg</th>\n",
       "      <th>neu</th>\n",
       "    </tr>\n",
       "    <tr>\n",
       "      <th>Date</th>\n",
       "      <th></th>\n",
       "      <th></th>\n",
       "      <th></th>\n",
       "      <th></th>\n",
       "    </tr>\n",
       "  </thead>\n",
       "  <tbody>\n",
       "    <tr>\n",
       "      <th>2016-03-31</th>\n",
       "      <td>0.093505</td>\n",
       "      <td>0.071352</td>\n",
       "      <td>0.023818</td>\n",
       "      <td>0.904825</td>\n",
       "    </tr>\n",
       "    <tr>\n",
       "      <th>2016-04-01</th>\n",
       "      <td>0.062275</td>\n",
       "      <td>0.066623</td>\n",
       "      <td>0.032291</td>\n",
       "      <td>0.901091</td>\n",
       "    </tr>\n",
       "    <tr>\n",
       "      <th>2016-04-02</th>\n",
       "      <td>0.161957</td>\n",
       "      <td>0.097770</td>\n",
       "      <td>0.028404</td>\n",
       "      <td>0.873837</td>\n",
       "    </tr>\n",
       "    <tr>\n",
       "      <th>2016-04-03</th>\n",
       "      <td>0.173476</td>\n",
       "      <td>0.097920</td>\n",
       "      <td>0.016613</td>\n",
       "      <td>0.885462</td>\n",
       "    </tr>\n",
       "    <tr>\n",
       "      <th>2016-04-04</th>\n",
       "      <td>0.040698</td>\n",
       "      <td>0.026815</td>\n",
       "      <td>0.007868</td>\n",
       "      <td>0.965318</td>\n",
       "    </tr>\n",
       "  </tbody>\n",
       "</table>\n",
       "</div>"
      ],
      "text/plain": [
       "            compound       pos       neg       neu\n",
       "Date                                              \n",
       "2016-03-31  0.093505  0.071352  0.023818  0.904825\n",
       "2016-04-01  0.062275  0.066623  0.032291  0.901091\n",
       "2016-04-02  0.161957  0.097770  0.028404  0.873837\n",
       "2016-04-03  0.173476  0.097920  0.016613  0.885462\n",
       "2016-04-04  0.040698  0.026815  0.007868  0.965318"
      ]
     },
     "execution_count": 45,
     "metadata": {},
     "output_type": "execute_result"
    }
   ],
   "source": [
    "amzn_df_summary.head()"
   ]
  },
  {
   "cell_type": "code",
   "execution_count": 46,
   "metadata": {},
   "outputs": [
    {
     "data": {
      "text/html": [
       "<div>\n",
       "<style scoped>\n",
       "    .dataframe tbody tr th:only-of-type {\n",
       "        vertical-align: middle;\n",
       "    }\n",
       "\n",
       "    .dataframe tbody tr th {\n",
       "        vertical-align: top;\n",
       "    }\n",
       "\n",
       "    .dataframe thead th {\n",
       "        text-align: right;\n",
       "    }\n",
       "</style>\n",
       "<table border=\"1\" class=\"dataframe\">\n",
       "  <thead>\n",
       "    <tr style=\"text-align: right;\">\n",
       "      <th></th>\n",
       "      <th>compound</th>\n",
       "      <th>pos</th>\n",
       "      <th>neg</th>\n",
       "      <th>neu</th>\n",
       "    </tr>\n",
       "    <tr>\n",
       "      <th>Date</th>\n",
       "      <th></th>\n",
       "      <th></th>\n",
       "      <th></th>\n",
       "      <th></th>\n",
       "    </tr>\n",
       "  </thead>\n",
       "  <tbody>\n",
       "    <tr>\n",
       "      <th>2016-04-02</th>\n",
       "      <td>0.121392</td>\n",
       "      <td>0.071743</td>\n",
       "      <td>0.016247</td>\n",
       "      <td>0.912007</td>\n",
       "    </tr>\n",
       "    <tr>\n",
       "      <th>2016-04-03</th>\n",
       "      <td>0.069846</td>\n",
       "      <td>0.057949</td>\n",
       "      <td>0.030341</td>\n",
       "      <td>0.911701</td>\n",
       "    </tr>\n",
       "    <tr>\n",
       "      <th>2016-04-04</th>\n",
       "      <td>0.076840</td>\n",
       "      <td>0.053611</td>\n",
       "      <td>0.019177</td>\n",
       "      <td>0.927213</td>\n",
       "    </tr>\n",
       "    <tr>\n",
       "      <th>2016-04-05</th>\n",
       "      <td>0.074800</td>\n",
       "      <td>0.064579</td>\n",
       "      <td>0.034857</td>\n",
       "      <td>0.900562</td>\n",
       "    </tr>\n",
       "    <tr>\n",
       "      <th>2016-04-06</th>\n",
       "      <td>0.123945</td>\n",
       "      <td>0.080751</td>\n",
       "      <td>0.031382</td>\n",
       "      <td>0.887874</td>\n",
       "    </tr>\n",
       "  </tbody>\n",
       "</table>\n",
       "</div>"
      ],
      "text/plain": [
       "            compound       pos       neg       neu\n",
       "Date                                              \n",
       "2016-04-02  0.121392  0.071743  0.016247  0.912007\n",
       "2016-04-03  0.069846  0.057949  0.030341  0.911701\n",
       "2016-04-04  0.076840  0.053611  0.019177  0.927213\n",
       "2016-04-05  0.074800  0.064579  0.034857  0.900562\n",
       "2016-04-06  0.123945  0.080751  0.031382  0.887874"
      ]
     },
     "execution_count": 46,
     "metadata": {},
     "output_type": "execute_result"
    }
   ],
   "source": [
    "apple_df_summary.head()"
   ]
  },
  {
   "cell_type": "code",
   "execution_count": null,
   "metadata": {},
   "outputs": [],
   "source": [
    "appl_df_summary[\"netsentiment\"] = apple_df_summary[\"pos\"]"
   ]
  },
  {
   "cell_type": "code",
   "execution_count": null,
   "metadata": {},
   "outputs": [],
   "source": []
  },
  {
   "cell_type": "code",
   "execution_count": null,
   "metadata": {},
   "outputs": [],
   "source": []
  },
  {
   "cell_type": "code",
   "execution_count": null,
   "metadata": {},
   "outputs": [],
   "source": []
  },
  {
   "cell_type": "code",
   "execution_count": null,
   "metadata": {},
   "outputs": [],
   "source": []
  },
  {
   "cell_type": "code",
   "execution_count": null,
   "metadata": {},
   "outputs": [],
   "source": []
  },
  {
   "cell_type": "code",
   "execution_count": null,
   "metadata": {},
   "outputs": [],
   "source": []
  },
  {
   "cell_type": "code",
   "execution_count": null,
   "metadata": {},
   "outputs": [],
   "source": []
  },
  {
   "cell_type": "code",
   "execution_count": null,
   "metadata": {},
   "outputs": [],
   "source": []
  },
  {
   "cell_type": "code",
   "execution_count": null,
   "metadata": {},
   "outputs": [],
   "source": []
  },
  {
   "cell_type": "code",
   "execution_count": null,
   "metadata": {},
   "outputs": [],
   "source": []
  },
  {
   "cell_type": "code",
   "execution_count": null,
   "metadata": {},
   "outputs": [],
   "source": []
  }
 ],
 "metadata": {
  "kernelspec": {
   "display_name": "Python 3",
   "language": "python",
   "name": "python3"
  },
  "language_info": {
   "codemirror_mode": {
    "name": "ipython",
    "version": 3
   },
   "file_extension": ".py",
   "mimetype": "text/x-python",
   "name": "python",
   "nbconvert_exporter": "python",
   "pygments_lexer": "ipython3",
   "version": "3.8.2"
  }
 },
 "nbformat": 4,
 "nbformat_minor": 4
}
